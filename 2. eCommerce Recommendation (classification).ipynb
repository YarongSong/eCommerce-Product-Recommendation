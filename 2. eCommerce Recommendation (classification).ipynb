{
 "cells": [
  {
   "cell_type": "markdown",
   "metadata": {},
   "source": [
    "# eCommerce Product Recommendation\n",
    "The Instacart Online Grocery Shopping Dataset 2017\n",
    "https://gist.github.com/jeremystan/c3b39d947d9b88b3ccff3147dbcf6c6b\n",
    "\n",
    "Objective:\n",
    "Recommending reordered products"
   ]
  },
  {
   "cell_type": "markdown",
   "metadata": {},
   "source": [
    "## 1. Set Environment & Libraries"
   ]
  },
  {
   "cell_type": "code",
   "execution_count": 1,
   "metadata": {},
   "outputs": [
    {
     "name": "stderr",
     "output_type": "stream",
     "text": [
      "/Users/songyarong/opt/anaconda3/lib/python3.9/site-packages/scipy/__init__.py:146: UserWarning: A NumPy version >=1.16.5 and <1.23.0 is required for this version of SciPy (detected version 1.26.4\n",
      "  warnings.warn(f\"A NumPy version >={np_minversion} and <{np_maxversion}\"\n"
     ]
    }
   ],
   "source": [
    "# Data manipulation libraries\n",
    "import pandas as pd\n",
    "import numpy as np\n",
    "\n",
    "# Visualization\n",
    "import matplotlib as mpl\n",
    "import matplotlib.pyplot as plt\n",
    "import seaborn as sns\n",
    "\n",
    "# Model support functions\n",
    "from imblearn.pipeline import Pipeline \n",
    "from collections import OrderedDict\n",
    "from imblearn.under_sampling import RandomUnderSampler \n",
    "from imblearn.over_sampling import RandomOverSampler\n",
    "from sklearn.impute import SimpleImputer\n",
    "from sklearn.model_selection import GridSearchCV\n",
    "\n",
    "# Model\n",
    "from sklearn.neighbors import KNeighborsClassifier\n",
    "from sklearn.ensemble import RandomForestClassifier, AdaBoostClassifier, GradientBoostingClassifier\n",
    "from sklearn.linear_model import LogisticRegression\n",
    "from sklearn.tree import DecisionTreeClassifier\n",
    "\n",
    "# Feature engineering\n",
    "from sklearn import model_selection\n",
    "from sklearn.model_selection import train_test_split\n",
    "from sklearn.preprocessing import OneHotEncoder\n",
    "from sklearn.preprocessing import OrdinalEncoder\n",
    "from sklearn.preprocessing import StandardScaler\n",
    "from sklearn.preprocessing import MinMaxScaler\n",
    "\n",
    "# import keras\n",
    "# from keras.utils.vis_utils import plot_model\n",
    "# from keras.wrappers.scikit_learn import KerasClassifier\n",
    "\n",
    "# Model evaluation\n",
    "from sklearn import metrics\n",
    "from sklearn.model_selection import cross_val_score\n",
    "from sklearn.metrics import mean_squared_error, mean_absolute_error, r2_score\n",
    "from sklearn.metrics import roc_curve\n",
    "from sklearn.metrics import roc_auc_score\n",
    "from sklearn.metrics import plot_confusion_matrix\n",
    "from sklearn.metrics import confusion_matrix\n",
    "from sklearn.metrics import classification_report\n",
    "from sklearn.metrics import accuracy_score\n",
    "from sklearn.metrics import precision_score\n",
    "from sklearn.metrics import recall_score\n",
    "from sklearn.metrics import f1_score"
   ]
  },
  {
   "cell_type": "markdown",
   "metadata": {},
   "source": [
    "## 2. Load Data"
   ]
  },
  {
   "cell_type": "markdown",
   "metadata": {},
   "source": [
    "### 2.1 Read tables"
   ]
  },
  {
   "cell_type": "code",
   "execution_count": 3,
   "metadata": {},
   "outputs": [],
   "source": [
    "aisles = pd.read_csv('/Users/songyarong/Workspace/5. Project/11. Recommendation_e-commerce/aisles.csv')\n",
    "departments = pd.read_csv('/Users/songyarong/Workspace/5. Project/11. Recommendation_e-commerce/departments.csv')\n",
    "orders = pd.read_csv('/Users/songyarong/Workspace/5. Project/11. Recommendation_e-commerce/orders.csv')\n",
    "products = pd.read_csv('/Users/songyarong/Workspace/5. Project/11. Recommendation_e-commerce/products.csv')\n",
    "order_products_prior = pd.read_csv('/Users/songyarong/Workspace/5. Project/11. Recommendation_e-commerce/order_products_prior.csv')\n",
    "order_products_train = pd.read_csv('/Users/songyarong/Workspace/5. Project/11. Recommendation_e-commerce/order_products_train.csv')"
   ]
  },
  {
   "cell_type": "markdown",
   "metadata": {},
   "source": [
    "### 2.2 Dimensional table"
   ]
  },
  {
   "cell_type": "code",
   "execution_count": 4,
   "metadata": {},
   "outputs": [
    {
     "data": {
      "text/html": [
       "<div>\n",
       "<style scoped>\n",
       "    .dataframe tbody tr th:only-of-type {\n",
       "        vertical-align: middle;\n",
       "    }\n",
       "\n",
       "    .dataframe tbody tr th {\n",
       "        vertical-align: top;\n",
       "    }\n",
       "\n",
       "    .dataframe thead th {\n",
       "        text-align: right;\n",
       "    }\n",
       "</style>\n",
       "<table border=\"1\" class=\"dataframe\">\n",
       "  <thead>\n",
       "    <tr style=\"text-align: right;\">\n",
       "      <th></th>\n",
       "      <th>order_id</th>\n",
       "      <th>user_id</th>\n",
       "      <th>eval_set</th>\n",
       "      <th>order_number</th>\n",
       "      <th>order_dow</th>\n",
       "      <th>order_hour_of_day</th>\n",
       "      <th>days_since_prior_order</th>\n",
       "    </tr>\n",
       "  </thead>\n",
       "  <tbody>\n",
       "    <tr>\n",
       "      <th>0</th>\n",
       "      <td>1363380</td>\n",
       "      <td>50</td>\n",
       "      <td>prior</td>\n",
       "      <td>1</td>\n",
       "      <td>3</td>\n",
       "      <td>9</td>\n",
       "      <td>NaN</td>\n",
       "    </tr>\n",
       "    <tr>\n",
       "      <th>1</th>\n",
       "      <td>3131103</td>\n",
       "      <td>50</td>\n",
       "      <td>prior</td>\n",
       "      <td>2</td>\n",
       "      <td>6</td>\n",
       "      <td>12</td>\n",
       "      <td>10.0</td>\n",
       "    </tr>\n",
       "    <tr>\n",
       "      <th>2</th>\n",
       "      <td>2197066</td>\n",
       "      <td>50</td>\n",
       "      <td>prior</td>\n",
       "      <td>3</td>\n",
       "      <td>1</td>\n",
       "      <td>13</td>\n",
       "      <td>9.0</td>\n",
       "    </tr>\n",
       "    <tr>\n",
       "      <th>3</th>\n",
       "      <td>3201640</td>\n",
       "      <td>50</td>\n",
       "      <td>prior</td>\n",
       "      <td>4</td>\n",
       "      <td>0</td>\n",
       "      <td>11</td>\n",
       "      <td>6.0</td>\n",
       "    </tr>\n",
       "    <tr>\n",
       "      <th>4</th>\n",
       "      <td>2756806</td>\n",
       "      <td>50</td>\n",
       "      <td>prior</td>\n",
       "      <td>5</td>\n",
       "      <td>4</td>\n",
       "      <td>14</td>\n",
       "      <td>11.0</td>\n",
       "    </tr>\n",
       "  </tbody>\n",
       "</table>\n",
       "</div>"
      ],
      "text/plain": [
       "   order_id  user_id eval_set  order_number  order_dow  order_hour_of_day  \\\n",
       "0   1363380       50    prior             1          3                  9   \n",
       "1   3131103       50    prior             2          6                 12   \n",
       "2   2197066       50    prior             3          1                 13   \n",
       "3   3201640       50    prior             4          0                 11   \n",
       "4   2756806       50    prior             5          4                 14   \n",
       "\n",
       "   days_since_prior_order  \n",
       "0                     NaN  \n",
       "1                    10.0  \n",
       "2                     9.0  \n",
       "3                     6.0  \n",
       "4                    11.0  "
      ]
     },
     "execution_count": 4,
     "metadata": {},
     "output_type": "execute_result"
    }
   ],
   "source": [
    "# Dimensional table\n",
    "orders.head()"
   ]
  },
  {
   "cell_type": "code",
   "execution_count": 1145,
   "metadata": {},
   "outputs": [
    {
     "data": {
      "text/html": [
       "<div>\n",
       "<style scoped>\n",
       "    .dataframe tbody tr th:only-of-type {\n",
       "        vertical-align: middle;\n",
       "    }\n",
       "\n",
       "    .dataframe tbody tr th {\n",
       "        vertical-align: top;\n",
       "    }\n",
       "\n",
       "    .dataframe thead th {\n",
       "        text-align: right;\n",
       "    }\n",
       "</style>\n",
       "<table border=\"1\" class=\"dataframe\">\n",
       "  <thead>\n",
       "    <tr style=\"text-align: right;\">\n",
       "      <th></th>\n",
       "      <th>product_id</th>\n",
       "      <th>product_name</th>\n",
       "      <th>aisle_id</th>\n",
       "      <th>department_id</th>\n",
       "    </tr>\n",
       "  </thead>\n",
       "  <tbody>\n",
       "    <tr>\n",
       "      <th>0</th>\n",
       "      <td>1</td>\n",
       "      <td>Chocolate Sandwich Cookies</td>\n",
       "      <td>61</td>\n",
       "      <td>19</td>\n",
       "    </tr>\n",
       "    <tr>\n",
       "      <th>1</th>\n",
       "      <td>2</td>\n",
       "      <td>All-Seasons Salt</td>\n",
       "      <td>104</td>\n",
       "      <td>13</td>\n",
       "    </tr>\n",
       "    <tr>\n",
       "      <th>2</th>\n",
       "      <td>3</td>\n",
       "      <td>Robust Golden Unsweetened Oolong Tea</td>\n",
       "      <td>94</td>\n",
       "      <td>7</td>\n",
       "    </tr>\n",
       "    <tr>\n",
       "      <th>3</th>\n",
       "      <td>4</td>\n",
       "      <td>Smart Ones Classic Favorites Mini Rigatoni Wit...</td>\n",
       "      <td>38</td>\n",
       "      <td>1</td>\n",
       "    </tr>\n",
       "    <tr>\n",
       "      <th>4</th>\n",
       "      <td>5</td>\n",
       "      <td>Green Chile Anytime Sauce</td>\n",
       "      <td>5</td>\n",
       "      <td>13</td>\n",
       "    </tr>\n",
       "  </tbody>\n",
       "</table>\n",
       "</div>"
      ],
      "text/plain": [
       "   product_id                                       product_name  aisle_id  \\\n",
       "0           1                         Chocolate Sandwich Cookies        61   \n",
       "1           2                                   All-Seasons Salt       104   \n",
       "2           3               Robust Golden Unsweetened Oolong Tea        94   \n",
       "3           4  Smart Ones Classic Favorites Mini Rigatoni Wit...        38   \n",
       "4           5                          Green Chile Anytime Sauce         5   \n",
       "\n",
       "   department_id  \n",
       "0             19  \n",
       "1             13  \n",
       "2              7  \n",
       "3              1  \n",
       "4             13  "
      ]
     },
     "execution_count": 1145,
     "metadata": {},
     "output_type": "execute_result"
    }
   ],
   "source": [
    "# Dimensional table\n",
    "products.head()"
   ]
  },
  {
   "cell_type": "markdown",
   "metadata": {},
   "source": [
    "### 2.3 Factor table"
   ]
  },
  {
   "cell_type": "code",
   "execution_count": 1146,
   "metadata": {},
   "outputs": [
    {
     "data": {
      "text/html": [
       "<div>\n",
       "<style scoped>\n",
       "    .dataframe tbody tr th:only-of-type {\n",
       "        vertical-align: middle;\n",
       "    }\n",
       "\n",
       "    .dataframe tbody tr th {\n",
       "        vertical-align: top;\n",
       "    }\n",
       "\n",
       "    .dataframe thead th {\n",
       "        text-align: right;\n",
       "    }\n",
       "</style>\n",
       "<table border=\"1\" class=\"dataframe\">\n",
       "  <thead>\n",
       "    <tr style=\"text-align: right;\">\n",
       "      <th></th>\n",
       "      <th>order_id</th>\n",
       "      <th>product_id</th>\n",
       "      <th>add_to_cart_order</th>\n",
       "      <th>reordered</th>\n",
       "    </tr>\n",
       "  </thead>\n",
       "  <tbody>\n",
       "    <tr>\n",
       "      <th>0</th>\n",
       "      <td>12</td>\n",
       "      <td>30597</td>\n",
       "      <td>1</td>\n",
       "      <td>1</td>\n",
       "    </tr>\n",
       "    <tr>\n",
       "      <th>1</th>\n",
       "      <td>12</td>\n",
       "      <td>15221</td>\n",
       "      <td>2</td>\n",
       "      <td>1</td>\n",
       "    </tr>\n",
       "    <tr>\n",
       "      <th>2</th>\n",
       "      <td>12</td>\n",
       "      <td>43772</td>\n",
       "      <td>3</td>\n",
       "      <td>1</td>\n",
       "    </tr>\n",
       "    <tr>\n",
       "      <th>3</th>\n",
       "      <td>12</td>\n",
       "      <td>37886</td>\n",
       "      <td>4</td>\n",
       "      <td>1</td>\n",
       "    </tr>\n",
       "    <tr>\n",
       "      <th>4</th>\n",
       "      <td>12</td>\n",
       "      <td>37215</td>\n",
       "      <td>5</td>\n",
       "      <td>0</td>\n",
       "    </tr>\n",
       "  </tbody>\n",
       "</table>\n",
       "</div>"
      ],
      "text/plain": [
       "   order_id  product_id  add_to_cart_order  reordered\n",
       "0        12       30597                  1          1\n",
       "1        12       15221                  2          1\n",
       "2        12       43772                  3          1\n",
       "3        12       37886                  4          1\n",
       "4        12       37215                  5          0"
      ]
     },
     "execution_count": 1146,
     "metadata": {},
     "output_type": "execute_result"
    }
   ],
   "source": [
    "# Factor table\n",
    "order_products_prior.head()"
   ]
  },
  {
   "cell_type": "code",
   "execution_count": 1147,
   "metadata": {},
   "outputs": [
    {
     "data": {
      "text/html": [
       "<div>\n",
       "<style scoped>\n",
       "    .dataframe tbody tr th:only-of-type {\n",
       "        vertical-align: middle;\n",
       "    }\n",
       "\n",
       "    .dataframe tbody tr th {\n",
       "        vertical-align: top;\n",
       "    }\n",
       "\n",
       "    .dataframe thead th {\n",
       "        text-align: right;\n",
       "    }\n",
       "</style>\n",
       "<table border=\"1\" class=\"dataframe\">\n",
       "  <thead>\n",
       "    <tr style=\"text-align: right;\">\n",
       "      <th></th>\n",
       "      <th>order_id</th>\n",
       "      <th>product_id</th>\n",
       "      <th>add_to_cart_order</th>\n",
       "      <th>reordered</th>\n",
       "    </tr>\n",
       "  </thead>\n",
       "  <tbody>\n",
       "    <tr>\n",
       "      <th>0</th>\n",
       "      <td>1077</td>\n",
       "      <td>13176</td>\n",
       "      <td>1</td>\n",
       "      <td>1</td>\n",
       "    </tr>\n",
       "    <tr>\n",
       "      <th>1</th>\n",
       "      <td>1077</td>\n",
       "      <td>39922</td>\n",
       "      <td>2</td>\n",
       "      <td>1</td>\n",
       "    </tr>\n",
       "    <tr>\n",
       "      <th>2</th>\n",
       "      <td>1077</td>\n",
       "      <td>5258</td>\n",
       "      <td>3</td>\n",
       "      <td>1</td>\n",
       "    </tr>\n",
       "    <tr>\n",
       "      <th>3</th>\n",
       "      <td>1077</td>\n",
       "      <td>21137</td>\n",
       "      <td>4</td>\n",
       "      <td>1</td>\n",
       "    </tr>\n",
       "    <tr>\n",
       "      <th>4</th>\n",
       "      <td>1119</td>\n",
       "      <td>6046</td>\n",
       "      <td>1</td>\n",
       "      <td>1</td>\n",
       "    </tr>\n",
       "  </tbody>\n",
       "</table>\n",
       "</div>"
      ],
      "text/plain": [
       "   order_id  product_id  add_to_cart_order  reordered\n",
       "0      1077       13176                  1          1\n",
       "1      1077       39922                  2          1\n",
       "2      1077        5258                  3          1\n",
       "3      1077       21137                  4          1\n",
       "4      1119        6046                  1          1"
      ]
     },
     "execution_count": 1147,
     "metadata": {},
     "output_type": "execute_result"
    }
   ],
   "source": [
    "# Factor table\n",
    "order_products_train.head()"
   ]
  },
  {
   "cell_type": "markdown",
   "metadata": {},
   "source": [
    "### 2.4 Table shape"
   ]
  },
  {
   "cell_type": "code",
   "execution_count": 1148,
   "metadata": {
    "scrolled": true
   },
   "outputs": [
    {
     "name": "stdout",
     "output_type": "stream",
     "text": [
      "(134, 2)\n",
      "(21, 2)\n",
      "(82683, 7)\n",
      "(49688, 4)\n",
      "(793924, 4)\n",
      "(53704, 4)\n"
     ]
    }
   ],
   "source": [
    "print(aisles.shape)\n",
    "print(departments.shape)\n",
    "print(orders.shape)\n",
    "print(products.shape)\n",
    "print(order_products_prior.shape)\n",
    "print(order_products_train.shape)"
   ]
  },
  {
   "cell_type": "markdown",
   "metadata": {},
   "source": [
    "## 3. Data Exploration"
   ]
  },
  {
   "cell_type": "markdown",
   "metadata": {},
   "source": [
    "### 3.1 Create history order table by merging the original tables\n",
    "prior_order_details"
   ]
  },
  {
   "cell_type": "code",
   "execution_count": 8,
   "metadata": {},
   "outputs": [
    {
     "data": {
      "text/html": [
       "<div>\n",
       "<style scoped>\n",
       "    .dataframe tbody tr th:only-of-type {\n",
       "        vertical-align: middle;\n",
       "    }\n",
       "\n",
       "    .dataframe tbody tr th {\n",
       "        vertical-align: top;\n",
       "    }\n",
       "\n",
       "    .dataframe thead th {\n",
       "        text-align: right;\n",
       "    }\n",
       "</style>\n",
       "<table border=\"1\" class=\"dataframe\">\n",
       "  <thead>\n",
       "    <tr style=\"text-align: right;\">\n",
       "      <th></th>\n",
       "      <th>order_id</th>\n",
       "      <th>product_id</th>\n",
       "      <th>add_to_cart_order</th>\n",
       "      <th>reordered</th>\n",
       "      <th>user_id</th>\n",
       "      <th>eval_set</th>\n",
       "      <th>order_number</th>\n",
       "      <th>order_dow</th>\n",
       "      <th>order_hour_of_day</th>\n",
       "      <th>days_since_prior_order</th>\n",
       "    </tr>\n",
       "  </thead>\n",
       "  <tbody>\n",
       "    <tr>\n",
       "      <th>0</th>\n",
       "      <td>12</td>\n",
       "      <td>30597</td>\n",
       "      <td>1</td>\n",
       "      <td>1</td>\n",
       "      <td>152610</td>\n",
       "      <td>prior</td>\n",
       "      <td>22</td>\n",
       "      <td>6</td>\n",
       "      <td>8</td>\n",
       "      <td>10.0</td>\n",
       "    </tr>\n",
       "    <tr>\n",
       "      <th>1</th>\n",
       "      <td>12</td>\n",
       "      <td>15221</td>\n",
       "      <td>2</td>\n",
       "      <td>1</td>\n",
       "      <td>152610</td>\n",
       "      <td>prior</td>\n",
       "      <td>22</td>\n",
       "      <td>6</td>\n",
       "      <td>8</td>\n",
       "      <td>10.0</td>\n",
       "    </tr>\n",
       "    <tr>\n",
       "      <th>2</th>\n",
       "      <td>12</td>\n",
       "      <td>43772</td>\n",
       "      <td>3</td>\n",
       "      <td>1</td>\n",
       "      <td>152610</td>\n",
       "      <td>prior</td>\n",
       "      <td>22</td>\n",
       "      <td>6</td>\n",
       "      <td>8</td>\n",
       "      <td>10.0</td>\n",
       "    </tr>\n",
       "    <tr>\n",
       "      <th>3</th>\n",
       "      <td>12</td>\n",
       "      <td>37886</td>\n",
       "      <td>4</td>\n",
       "      <td>1</td>\n",
       "      <td>152610</td>\n",
       "      <td>prior</td>\n",
       "      <td>22</td>\n",
       "      <td>6</td>\n",
       "      <td>8</td>\n",
       "      <td>10.0</td>\n",
       "    </tr>\n",
       "    <tr>\n",
       "      <th>4</th>\n",
       "      <td>12</td>\n",
       "      <td>37215</td>\n",
       "      <td>5</td>\n",
       "      <td>0</td>\n",
       "      <td>152610</td>\n",
       "      <td>prior</td>\n",
       "      <td>22</td>\n",
       "      <td>6</td>\n",
       "      <td>8</td>\n",
       "      <td>10.0</td>\n",
       "    </tr>\n",
       "  </tbody>\n",
       "</table>\n",
       "</div>"
      ],
      "text/plain": [
       "   order_id  product_id  add_to_cart_order  reordered  user_id eval_set  \\\n",
       "0        12       30597                  1          1   152610    prior   \n",
       "1        12       15221                  2          1   152610    prior   \n",
       "2        12       43772                  3          1   152610    prior   \n",
       "3        12       37886                  4          1   152610    prior   \n",
       "4        12       37215                  5          0   152610    prior   \n",
       "\n",
       "   order_number  order_dow  order_hour_of_day  days_since_prior_order  \n",
       "0            22          6                  8                    10.0  \n",
       "1            22          6                  8                    10.0  \n",
       "2            22          6                  8                    10.0  \n",
       "3            22          6                  8                    10.0  \n",
       "4            22          6                  8                    10.0  "
      ]
     },
     "execution_count": 8,
     "metadata": {},
     "output_type": "execute_result"
    }
   ],
   "source": [
    "# Expand order_products_prior\n",
    "prior_order_details = order_products_prior.merge(orders, on='order_id')\n",
    "prior_order_details.head()"
   ]
  },
  {
   "cell_type": "code",
   "execution_count": 9,
   "metadata": {},
   "outputs": [
    {
     "data": {
      "text/plain": [
       "(793924, 10)"
      ]
     },
     "execution_count": 9,
     "metadata": {},
     "output_type": "execute_result"
    }
   ],
   "source": [
    "prior_order_details.shape"
   ]
  },
  {
   "cell_type": "code",
   "execution_count": 10,
   "metadata": {},
   "outputs": [],
   "source": [
    "# Convert day of week(dow) to string for better visualization and modelling \n",
    "prior_order_details['order_dow'] = prior_order_details['order_dow'].apply(lambda x:'Sunday' if x==0 else x)\n",
    "prior_order_details['order_dow'] = prior_order_details['order_dow'].apply(lambda x:'Monday' if x==1 else x)\n",
    "prior_order_details['order_dow'] = prior_order_details['order_dow'].apply(lambda x:'Tuesday' if x==2 else x)\n",
    "prior_order_details['order_dow'] = prior_order_details['order_dow'].apply(lambda x:'Wednesday' if x==3 else x)\n",
    "prior_order_details['order_dow'] = prior_order_details['order_dow'].apply(lambda x:'Thursday' if x==4 else x)\n",
    "prior_order_details['order_dow'] = prior_order_details['order_dow'].apply(lambda x:'Friday' if x==5 else x)\n",
    "prior_order_details['order_dow'] = prior_order_details['order_dow'].apply(lambda x:'Saturday' if x==6 else x)"
   ]
  },
  {
   "cell_type": "markdown",
   "metadata": {},
   "source": [
    "### 3.2 General information\n",
    "prior_order_details"
   ]
  },
  {
   "cell_type": "code",
   "execution_count": 11,
   "metadata": {},
   "outputs": [
    {
     "data": {
      "text/html": [
       "<div>\n",
       "<style scoped>\n",
       "    .dataframe tbody tr th:only-of-type {\n",
       "        vertical-align: middle;\n",
       "    }\n",
       "\n",
       "    .dataframe tbody tr th {\n",
       "        vertical-align: top;\n",
       "    }\n",
       "\n",
       "    .dataframe thead th {\n",
       "        text-align: right;\n",
       "    }\n",
       "</style>\n",
       "<table border=\"1\" class=\"dataframe\">\n",
       "  <thead>\n",
       "    <tr style=\"text-align: right;\">\n",
       "      <th></th>\n",
       "      <th>order_id</th>\n",
       "      <th>product_id</th>\n",
       "      <th>add_to_cart_order</th>\n",
       "      <th>reordered</th>\n",
       "      <th>user_id</th>\n",
       "      <th>eval_set</th>\n",
       "      <th>order_number</th>\n",
       "      <th>order_dow</th>\n",
       "      <th>order_hour_of_day</th>\n",
       "      <th>days_since_prior_order</th>\n",
       "    </tr>\n",
       "  </thead>\n",
       "  <tbody>\n",
       "    <tr>\n",
       "      <th>0</th>\n",
       "      <td>12</td>\n",
       "      <td>30597</td>\n",
       "      <td>1</td>\n",
       "      <td>1</td>\n",
       "      <td>152610</td>\n",
       "      <td>prior</td>\n",
       "      <td>22</td>\n",
       "      <td>Saturday</td>\n",
       "      <td>8</td>\n",
       "      <td>10.0</td>\n",
       "    </tr>\n",
       "    <tr>\n",
       "      <th>1</th>\n",
       "      <td>12</td>\n",
       "      <td>15221</td>\n",
       "      <td>2</td>\n",
       "      <td>1</td>\n",
       "      <td>152610</td>\n",
       "      <td>prior</td>\n",
       "      <td>22</td>\n",
       "      <td>Saturday</td>\n",
       "      <td>8</td>\n",
       "      <td>10.0</td>\n",
       "    </tr>\n",
       "    <tr>\n",
       "      <th>2</th>\n",
       "      <td>12</td>\n",
       "      <td>43772</td>\n",
       "      <td>3</td>\n",
       "      <td>1</td>\n",
       "      <td>152610</td>\n",
       "      <td>prior</td>\n",
       "      <td>22</td>\n",
       "      <td>Saturday</td>\n",
       "      <td>8</td>\n",
       "      <td>10.0</td>\n",
       "    </tr>\n",
       "    <tr>\n",
       "      <th>3</th>\n",
       "      <td>12</td>\n",
       "      <td>37886</td>\n",
       "      <td>4</td>\n",
       "      <td>1</td>\n",
       "      <td>152610</td>\n",
       "      <td>prior</td>\n",
       "      <td>22</td>\n",
       "      <td>Saturday</td>\n",
       "      <td>8</td>\n",
       "      <td>10.0</td>\n",
       "    </tr>\n",
       "    <tr>\n",
       "      <th>4</th>\n",
       "      <td>12</td>\n",
       "      <td>37215</td>\n",
       "      <td>5</td>\n",
       "      <td>0</td>\n",
       "      <td>152610</td>\n",
       "      <td>prior</td>\n",
       "      <td>22</td>\n",
       "      <td>Saturday</td>\n",
       "      <td>8</td>\n",
       "      <td>10.0</td>\n",
       "    </tr>\n",
       "  </tbody>\n",
       "</table>\n",
       "</div>"
      ],
      "text/plain": [
       "   order_id  product_id  add_to_cart_order  reordered  user_id eval_set  \\\n",
       "0        12       30597                  1          1   152610    prior   \n",
       "1        12       15221                  2          1   152610    prior   \n",
       "2        12       43772                  3          1   152610    prior   \n",
       "3        12       37886                  4          1   152610    prior   \n",
       "4        12       37215                  5          0   152610    prior   \n",
       "\n",
       "   order_number order_dow  order_hour_of_day  days_since_prior_order  \n",
       "0            22  Saturday                  8                    10.0  \n",
       "1            22  Saturday                  8                    10.0  \n",
       "2            22  Saturday                  8                    10.0  \n",
       "3            22  Saturday                  8                    10.0  \n",
       "4            22  Saturday                  8                    10.0  "
      ]
     },
     "execution_count": 11,
     "metadata": {},
     "output_type": "execute_result"
    }
   ],
   "source": [
    "prior_order_details.head()"
   ]
  },
  {
   "cell_type": "code",
   "execution_count": 15,
   "metadata": {},
   "outputs": [
    {
     "data": {
      "text/html": [
       "<div>\n",
       "<style scoped>\n",
       "    .dataframe tbody tr th:only-of-type {\n",
       "        vertical-align: middle;\n",
       "    }\n",
       "\n",
       "    .dataframe tbody tr th {\n",
       "        vertical-align: top;\n",
       "    }\n",
       "\n",
       "    .dataframe thead th {\n",
       "        text-align: right;\n",
       "    }\n",
       "</style>\n",
       "<table border=\"1\" class=\"dataframe\">\n",
       "  <thead>\n",
       "    <tr style=\"text-align: right;\">\n",
       "      <th></th>\n",
       "      <th>order_number</th>\n",
       "      <th>order_hour_of_day</th>\n",
       "      <th>days_since_prior_order</th>\n",
       "    </tr>\n",
       "  </thead>\n",
       "  <tbody>\n",
       "    <tr>\n",
       "      <th>count</th>\n",
       "      <td>793924.000000</td>\n",
       "      <td>793924.000000</td>\n",
       "      <td>742704.000000</td>\n",
       "    </tr>\n",
       "    <tr>\n",
       "      <th>mean</th>\n",
       "      <td>16.774994</td>\n",
       "      <td>13.412193</td>\n",
       "      <td>11.295411</td>\n",
       "    </tr>\n",
       "    <tr>\n",
       "      <th>std</th>\n",
       "      <td>17.378097</td>\n",
       "      <td>4.223539</td>\n",
       "      <td>8.847302</td>\n",
       "    </tr>\n",
       "    <tr>\n",
       "      <th>min</th>\n",
       "      <td>1.000000</td>\n",
       "      <td>0.000000</td>\n",
       "      <td>0.000000</td>\n",
       "    </tr>\n",
       "    <tr>\n",
       "      <th>25%</th>\n",
       "      <td>5.000000</td>\n",
       "      <td>10.000000</td>\n",
       "      <td>5.000000</td>\n",
       "    </tr>\n",
       "    <tr>\n",
       "      <th>50%</th>\n",
       "      <td>11.000000</td>\n",
       "      <td>13.000000</td>\n",
       "      <td>8.000000</td>\n",
       "    </tr>\n",
       "    <tr>\n",
       "      <th>75%</th>\n",
       "      <td>23.000000</td>\n",
       "      <td>16.000000</td>\n",
       "      <td>15.000000</td>\n",
       "    </tr>\n",
       "    <tr>\n",
       "      <th>max</th>\n",
       "      <td>99.000000</td>\n",
       "      <td>23.000000</td>\n",
       "      <td>30.000000</td>\n",
       "    </tr>\n",
       "  </tbody>\n",
       "</table>\n",
       "</div>"
      ],
      "text/plain": [
       "        order_number  order_hour_of_day  days_since_prior_order\n",
       "count  793924.000000      793924.000000           742704.000000\n",
       "mean       16.774994          13.412193               11.295411\n",
       "std        17.378097           4.223539                8.847302\n",
       "min         1.000000           0.000000                0.000000\n",
       "25%         5.000000          10.000000                5.000000\n",
       "50%        11.000000          13.000000                8.000000\n",
       "75%        23.000000          16.000000               15.000000\n",
       "max        99.000000          23.000000               30.000000"
      ]
     },
     "execution_count": 15,
     "metadata": {},
     "output_type": "execute_result"
    }
   ],
   "source": [
    "prior_order_details[['order_number','order_hour_of_day','days_since_prior_order']].describe()"
   ]
  },
  {
   "cell_type": "code",
   "execution_count": 1153,
   "metadata": {},
   "outputs": [
    {
     "name": "stdout",
     "output_type": "stream",
     "text": [
      "<class 'pandas.core.frame.DataFrame'>\n",
      "Int64Index: 793924 entries, 0 to 793923\n",
      "Data columns (total 10 columns):\n",
      " #   Column                  Non-Null Count   Dtype  \n",
      "---  ------                  --------------   -----  \n",
      " 0   order_id                793924 non-null  int64  \n",
      " 1   product_id              793924 non-null  int64  \n",
      " 2   add_to_cart_order       793924 non-null  int64  \n",
      " 3   reordered               793924 non-null  int64  \n",
      " 4   user_id                 793924 non-null  int64  \n",
      " 5   eval_set                793924 non-null  object \n",
      " 6   order_number            793924 non-null  int64  \n",
      " 7   order_dow               793924 non-null  object \n",
      " 8   order_hour_of_day       793924 non-null  int64  \n",
      " 9   days_since_prior_order  742704 non-null  float64\n",
      "dtypes: float64(1), int64(7), object(2)\n",
      "memory usage: 66.6+ MB\n"
     ]
    }
   ],
   "source": [
    "prior_order_details.info()"
   ]
  },
  {
   "cell_type": "code",
   "execution_count": 1154,
   "metadata": {},
   "outputs": [
    {
     "data": {
      "text/plain": [
       "order_id                  77683\n",
       "product_id                28927\n",
       "add_to_cart_order            92\n",
       "reordered                     2\n",
       "user_id                    5000\n",
       "eval_set                      1\n",
       "order_number                 99\n",
       "order_dow                     7\n",
       "order_hour_of_day            24\n",
       "days_since_prior_order       31\n",
       "dtype: int64"
      ]
     },
     "execution_count": 1154,
     "metadata": {},
     "output_type": "execute_result"
    }
   ],
   "source": [
    "prior_order_details.nunique()"
   ]
  },
  {
   "cell_type": "code",
   "execution_count": 1155,
   "metadata": {},
   "outputs": [
    {
     "data": {
      "text/plain": [
       "order_id                      0\n",
       "product_id                    0\n",
       "add_to_cart_order             0\n",
       "reordered                     0\n",
       "user_id                       0\n",
       "eval_set                      0\n",
       "order_number                  0\n",
       "order_dow                     0\n",
       "order_hour_of_day             0\n",
       "days_since_prior_order    51220\n",
       "dtype: int64"
      ]
     },
     "execution_count": 1155,
     "metadata": {},
     "output_type": "execute_result"
    }
   ],
   "source": [
    "# Missing values\n",
    "prior_order_details.isnull().sum()"
   ]
  },
  {
   "cell_type": "markdown",
   "metadata": {},
   "source": [
    "### 3.3 Visualization"
   ]
  },
  {
   "cell_type": "markdown",
   "metadata": {},
   "source": [
    "#### 3.3.1 Order frequency based on the DOW"
   ]
  },
  {
   "cell_type": "code",
   "execution_count": 1156,
   "metadata": {},
   "outputs": [
    {
     "data": {
      "text/plain": [
       "Text(0, 0.5, 'Order Numbers')"
      ]
     },
     "execution_count": 1156,
     "metadata": {},
     "output_type": "execute_result"
    },
    {
     "data": {
      "image/png": "[encoded data removed]",
      "text/plain": [
       "<Figure size 648x432 with 1 Axes>"
      ]
     },
     "metadata": {
      "needs_background": "light"
     },
     "output_type": "display_data"
    }
   ],
   "source": [
    "f, axss = plt.subplots(1, 1, figsize = [9, 6])\n",
    "# Pay attention to the order of the date\n",
    "sns.countplot(palette='plasma', x='order_dow', data=prior_order_details, order=['Monday', 'Tuesday', 'Wednesday', 'Thursday', 'Friday', 'Saturday', 'Sunday'])\n",
    "plt.title('Order Frequency (Day of Week)')\n",
    "plt.xlabel('Day of Week')\n",
    "plt.ylabel('Order Numbers')"
   ]
  },
  {
   "cell_type": "markdown",
   "metadata": {},
   "source": [
    "#### 3.3.2 Order frequency based on hours"
   ]
  },
  {
   "cell_type": "code",
   "execution_count": 1157,
   "metadata": {},
   "outputs": [
    {
     "data": {
      "text/plain": [
       "Text(0, 0.5, 'Order Numbers')"
      ]
     },
     "execution_count": 1157,
     "metadata": {},
     "output_type": "execute_result"
    },
    {
     "data": {
      "image/png": "[encoded data removed]",
      "text/plain": [
       "<Figure size 648x432 with 1 Axes>"
      ]
     },
     "metadata": {
      "needs_background": "light"
     },
     "output_type": "display_data"
    }
   ],
   "source": [
    "f, axss = plt.subplots(1, 1, figsize = [9, 6])\n",
    "order_hours = prior_order_details.groupby('order_id')['order_hour_of_day'].mean().reset_index()\n",
    "# order_hours_counts = order_hours.order_hour_of_day.value_counts()\n",
    "# sns.barplot(x=order_hours_counts.index, y=order_hours_counts.values)\n",
    "sns.countplot(palette='plasma', x='order_hour_of_day', data=order_hours)\n",
    "plt.title('Order frequency based on hours')\n",
    "plt.xlabel('Hour of Day')\n",
    "plt.ylabel('Order Numbers')"
   ]
  },
  {
   "cell_type": "markdown",
   "metadata": {},
   "source": [
    "#### 3.3.3 Days since prior order"
   ]
  },
  {
   "cell_type": "code",
   "execution_count": 1158,
   "metadata": {},
   "outputs": [
    {
     "data": {
      "text/plain": [
       "Text(0, 0.5, 'Order Numbers')"
      ]
     },
     "execution_count": 1158,
     "metadata": {},
     "output_type": "execute_result"
    },
    {
     "data": {
      "image/png": "[encoded data removed]",
      "text/plain": [
       "<Figure size 648x432 with 1 Axes>"
      ]
     },
     "metadata": {
      "needs_background": "light"
     },
     "output_type": "display_data"
    }
   ],
   "source": [
    "f, axss = plt.subplots(1, 1, figsize = [9, 6])\n",
    "days_interval = prior_order_details.groupby('order_id')['days_since_prior_order'].mean().reset_index()\n",
    "sns.countplot(palette='plasma', x='days_since_prior_order', data=days_interval)\n",
    "plt.title('Order frequency based on interval')\n",
    "plt.xlabel('Days Since Last Order')\n",
    "axss.set_xticks(np.arange(min(days_interval['days_since_prior_order']),max(days_interval['days_since_prior_order'])+1,2))\n",
    "plt.ylabel('Order Numbers')"
   ]
  },
  {
   "cell_type": "markdown",
   "metadata": {},
   "source": [
    "#### 3.3.4 Reorder based on HOD and DOW"
   ]
  },
  {
   "cell_type": "code",
   "execution_count": 1159,
   "metadata": {},
   "outputs": [
    {
     "data": {
      "text/plain": [
       "Text(0.5, 42.0, 'Hours')"
      ]
     },
     "execution_count": 1159,
     "metadata": {},
     "output_type": "execute_result"
    },
    {
     "data": {
      "image/png": "[encoded data removed]",
      "text/plain": [
       "<Figure size 864x504 with 2 Axes>"
      ]
     },
     "metadata": {
      "needs_background": "light"
     },
     "output_type": "display_data"
    }
   ],
   "source": [
    "# 3-dimentional\n",
    "reorder_heatmap = prior_order_details.groupby(['order_dow', 'order_hour_of_day'])['reordered'].mean().reset_index()\n",
    "reorder_heatmap = reorder_heatmap.pivot('order_dow', 'order_hour_of_day', 'reordered')\n",
    "f, axss = plt.subplots(1, 1, figsize = [12, 7])\n",
    "sns.heatmap(reorder_heatmap, cmap='plasma')\n",
    "plt.title('Reorder based on DOW and HOD')\n",
    "plt.ylabel('')\n",
    "plt.xlabel('Hours')"
   ]
  },
  {
   "cell_type": "markdown",
   "metadata": {},
   "source": [
    "## 4. Data Quality Check"
   ]
  },
  {
   "cell_type": "markdown",
   "metadata": {},
   "source": [
    "### 4.1 Validate the days_since_prior_order (orders table)"
   ]
  },
  {
   "cell_type": "code",
   "execution_count": 1160,
   "metadata": {},
   "outputs": [
    {
     "data": {
      "text/html": [
       "<div>\n",
       "<style scoped>\n",
       "    .dataframe tbody tr th:only-of-type {\n",
       "        vertical-align: middle;\n",
       "    }\n",
       "\n",
       "    .dataframe tbody tr th {\n",
       "        vertical-align: top;\n",
       "    }\n",
       "\n",
       "    .dataframe thead th {\n",
       "        text-align: right;\n",
       "    }\n",
       "</style>\n",
       "<table border=\"1\" class=\"dataframe\">\n",
       "  <thead>\n",
       "    <tr style=\"text-align: right;\">\n",
       "      <th></th>\n",
       "      <th>order_id</th>\n",
       "      <th>user_id</th>\n",
       "      <th>eval_set</th>\n",
       "      <th>order_number</th>\n",
       "      <th>order_dow</th>\n",
       "      <th>order_hour_of_day</th>\n",
       "      <th>days_since_prior_order</th>\n",
       "    </tr>\n",
       "  </thead>\n",
       "  <tbody>\n",
       "    <tr>\n",
       "      <th>0</th>\n",
       "      <td>1363380</td>\n",
       "      <td>50</td>\n",
       "      <td>prior</td>\n",
       "      <td>1</td>\n",
       "      <td>3</td>\n",
       "      <td>9</td>\n",
       "      <td>NaN</td>\n",
       "    </tr>\n",
       "    <tr>\n",
       "      <th>1</th>\n",
       "      <td>3131103</td>\n",
       "      <td>50</td>\n",
       "      <td>prior</td>\n",
       "      <td>2</td>\n",
       "      <td>6</td>\n",
       "      <td>12</td>\n",
       "      <td>10.0</td>\n",
       "    </tr>\n",
       "    <tr>\n",
       "      <th>2</th>\n",
       "      <td>2197066</td>\n",
       "      <td>50</td>\n",
       "      <td>prior</td>\n",
       "      <td>3</td>\n",
       "      <td>1</td>\n",
       "      <td>13</td>\n",
       "      <td>9.0</td>\n",
       "    </tr>\n",
       "    <tr>\n",
       "      <th>3</th>\n",
       "      <td>3201640</td>\n",
       "      <td>50</td>\n",
       "      <td>prior</td>\n",
       "      <td>4</td>\n",
       "      <td>0</td>\n",
       "      <td>11</td>\n",
       "      <td>6.0</td>\n",
       "    </tr>\n",
       "    <tr>\n",
       "      <th>4</th>\n",
       "      <td>2756806</td>\n",
       "      <td>50</td>\n",
       "      <td>prior</td>\n",
       "      <td>5</td>\n",
       "      <td>4</td>\n",
       "      <td>14</td>\n",
       "      <td>11.0</td>\n",
       "    </tr>\n",
       "  </tbody>\n",
       "</table>\n",
       "</div>"
      ],
      "text/plain": [
       "   order_id  user_id eval_set  order_number  order_dow  order_hour_of_day  \\\n",
       "0   1363380       50    prior             1          3                  9   \n",
       "1   3131103       50    prior             2          6                 12   \n",
       "2   2197066       50    prior             3          1                 13   \n",
       "3   3201640       50    prior             4          0                 11   \n",
       "4   2756806       50    prior             5          4                 14   \n",
       "\n",
       "   days_since_prior_order  \n",
       "0                     NaN  \n",
       "1                    10.0  \n",
       "2                     9.0  \n",
       "3                     6.0  \n",
       "4                    11.0  "
      ]
     },
     "execution_count": 1160,
     "metadata": {},
     "output_type": "execute_result"
    }
   ],
   "source": [
    "orders.head()"
   ]
  },
  {
   "cell_type": "code",
   "execution_count": 16,
   "metadata": {},
   "outputs": [
    {
     "name": "stdout",
     "output_type": "stream",
     "text": [
      "<class 'pandas.core.frame.DataFrame'>\n",
      "RangeIndex: 82683 entries, 0 to 82682\n",
      "Data columns (total 7 columns):\n",
      " #   Column                  Non-Null Count  Dtype  \n",
      "---  ------                  --------------  -----  \n",
      " 0   order_id                82683 non-null  int64  \n",
      " 1   user_id                 82683 non-null  int64  \n",
      " 2   eval_set                82683 non-null  object \n",
      " 3   order_number            82683 non-null  int64  \n",
      " 4   order_dow               82683 non-null  int64  \n",
      " 5   order_hour_of_day       82683 non-null  int64  \n",
      " 6   days_since_prior_order  77683 non-null  float64\n",
      "dtypes: float64(1), int64(5), object(1)\n",
      "memory usage: 4.4+ MB\n"
     ]
    }
   ],
   "source": [
    "orders.info()\n",
    "# there are missing values in 'days_since_prior_order'"
   ]
  },
  {
   "cell_type": "code",
   "execution_count": 17,
   "metadata": {},
   "outputs": [
    {
     "data": {
      "text/plain": [
       "82683"
      ]
     },
     "execution_count": 17,
     "metadata": {},
     "output_type": "execute_result"
    }
   ],
   "source": [
    "# Numbers of order_id: each row represent an unique order_id\n",
    "# orders.shape[0]\n",
    "orders.order_id.nunique()"
   ]
  },
  {
   "cell_type": "code",
   "execution_count": 18,
   "metadata": {},
   "outputs": [
    {
     "data": {
      "text/plain": [
       "5000"
      ]
     },
     "execution_count": 18,
     "metadata": {},
     "output_type": "execute_result"
    }
   ],
   "source": [
    "# Numbers of unique users\n",
    "orders.user_id.nunique()"
   ]
  },
  {
   "cell_type": "code",
   "execution_count": 1163,
   "metadata": {},
   "outputs": [
    {
     "data": {
      "text/plain": [
       "5000"
      ]
     },
     "execution_count": 1163,
     "metadata": {},
     "output_type": "execute_result"
    }
   ],
   "source": [
    "# Numbers of NaN in days_since_prior_order\n",
    "# For the first oder of each user, days_since_prior_order shoul be NaN\n",
    "orders[orders.days_since_prior_order.isnull()].shape[0]"
   ]
  },
  {
   "cell_type": "code",
   "execution_count": 1164,
   "metadata": {},
   "outputs": [
    {
     "data": {
      "text/plain": [
       "5000"
      ]
     },
     "execution_count": 1164,
     "metadata": {},
     "output_type": "execute_result"
    }
   ],
   "source": [
    "# Numbers of order_number == 1\n",
    "orders[orders.order_number == 1].drop_duplicates().shape[0]"
   ]
  },
  {
   "cell_type": "code",
   "execution_count": 1165,
   "metadata": {},
   "outputs": [
    {
     "data": {
      "text/plain": [
       "5000"
      ]
     },
     "execution_count": 1165,
     "metadata": {},
     "output_type": "execute_result"
    }
   ],
   "source": [
    "# Number of user_id\n",
    "orders.user_id.drop_duplicates().shape[0]"
   ]
  },
  {
   "cell_type": "markdown",
   "metadata": {},
   "source": [
    "In the orders.csv, num(days_since_prior_order == NaN), num(order_number == 1), num(user_id) are the same. The values are NaN becase these are the first orders of each users."
   ]
  },
  {
   "cell_type": "markdown",
   "metadata": {},
   "source": [
    "### 4.2 Validate the order_id of orders in the prior and train tables"
   ]
  },
  {
   "cell_type": "code",
   "execution_count": 1166,
   "metadata": {},
   "outputs": [
    {
     "data": {
      "text/html": [
       "<div>\n",
       "<style scoped>\n",
       "    .dataframe tbody tr th:only-of-type {\n",
       "        vertical-align: middle;\n",
       "    }\n",
       "\n",
       "    .dataframe tbody tr th {\n",
       "        vertical-align: top;\n",
       "    }\n",
       "\n",
       "    .dataframe thead th {\n",
       "        text-align: right;\n",
       "    }\n",
       "</style>\n",
       "<table border=\"1\" class=\"dataframe\">\n",
       "  <thead>\n",
       "    <tr style=\"text-align: right;\">\n",
       "      <th></th>\n",
       "      <th>eval_set</th>\n",
       "      <th>order_id</th>\n",
       "    </tr>\n",
       "  </thead>\n",
       "  <tbody>\n",
       "    <tr>\n",
       "      <th>0</th>\n",
       "      <td>prior</td>\n",
       "      <td>77683</td>\n",
       "    </tr>\n",
       "    <tr>\n",
       "      <th>1</th>\n",
       "      <td>train</td>\n",
       "      <td>5000</td>\n",
       "    </tr>\n",
       "  </tbody>\n",
       "</table>\n",
       "</div>"
      ],
      "text/plain": [
       "  eval_set  order_id\n",
       "0    prior     77683\n",
       "1    train      5000"
      ]
     },
     "execution_count": 1166,
     "metadata": {},
     "output_type": "execute_result"
    }
   ],
   "source": [
    "orders.groupby(['eval_set'], as_index=False).agg({'order_id': 'nunique'}) \n",
    "# orders.groupby(['eval_set'], as_index=False).agg(OrderedDict([('order_id','nunique')]))"
   ]
  },
  {
   "cell_type": "code",
   "execution_count": 1167,
   "metadata": {},
   "outputs": [
    {
     "data": {
      "text/plain": [
       "77683"
      ]
     },
     "execution_count": 1167,
     "metadata": {},
     "output_type": "execute_result"
    }
   ],
   "source": [
    "# Number of unique order_id in the prior\n",
    "order_products_prior.order_id.nunique()"
   ]
  },
  {
   "cell_type": "code",
   "execution_count": 1168,
   "metadata": {},
   "outputs": [
    {
     "data": {
      "text/plain": [
       "77683"
      ]
     },
     "execution_count": 1168,
     "metadata": {},
     "output_type": "execute_result"
    }
   ],
   "source": [
    "order_products_prior[order_products_prior.order_id.isin(orders.order_id)].order_id.nunique()"
   ]
  },
  {
   "cell_type": "markdown",
   "metadata": {},
   "source": [
    "order_id in the prior are all in the orders table"
   ]
  },
  {
   "cell_type": "code",
   "execution_count": 1169,
   "metadata": {},
   "outputs": [
    {
     "data": {
      "text/plain": [
       "5000"
      ]
     },
     "execution_count": 1169,
     "metadata": {},
     "output_type": "execute_result"
    }
   ],
   "source": [
    "# Number of unique order_id in the train\n",
    "order_products_train.order_id.nunique()"
   ]
  },
  {
   "cell_type": "code",
   "execution_count": 1170,
   "metadata": {},
   "outputs": [
    {
     "data": {
      "text/plain": [
       "5000"
      ]
     },
     "execution_count": 1170,
     "metadata": {},
     "output_type": "execute_result"
    }
   ],
   "source": [
    "order_products_train[order_products_train.order_id.isin(orders.order_id)].order_id.nunique()"
   ]
  },
  {
   "cell_type": "markdown",
   "metadata": {},
   "source": [
    "order_id in the prior are all in the orders table"
   ]
  },
  {
   "cell_type": "markdown",
   "metadata": {},
   "source": [
    "### 4.3 Validate if there are intersection of order_ids between prior and train"
   ]
  },
  {
   "cell_type": "code",
   "execution_count": 1171,
   "metadata": {},
   "outputs": [
    {
     "data": {
      "text/plain": [
       "0"
      ]
     },
     "execution_count": 1171,
     "metadata": {},
     "output_type": "execute_result"
    }
   ],
   "source": [
    "order_products_prior.merge(order_products_train, on='order_id').shape[0]"
   ]
  },
  {
   "cell_type": "markdown",
   "metadata": {},
   "source": [
    "No common order_id between the prior and train thus nor data leakage."
   ]
  },
  {
   "cell_type": "markdown",
   "metadata": {},
   "source": [
    "### 4.4 Validate if the user_id maches between prior and train"
   ]
  },
  {
   "cell_type": "code",
   "execution_count": 1172,
   "metadata": {},
   "outputs": [
    {
     "data": {
      "text/html": [
       "<div>\n",
       "<style scoped>\n",
       "    .dataframe tbody tr th:only-of-type {\n",
       "        vertical-align: middle;\n",
       "    }\n",
       "\n",
       "    .dataframe tbody tr th {\n",
       "        vertical-align: top;\n",
       "    }\n",
       "\n",
       "    .dataframe thead th {\n",
       "        text-align: right;\n",
       "    }\n",
       "</style>\n",
       "<table border=\"1\" class=\"dataframe\">\n",
       "  <thead>\n",
       "    <tr style=\"text-align: right;\">\n",
       "      <th></th>\n",
       "      <th>eval_set</th>\n",
       "      <th>user_id</th>\n",
       "    </tr>\n",
       "  </thead>\n",
       "  <tbody>\n",
       "    <tr>\n",
       "      <th>0</th>\n",
       "      <td>prior</td>\n",
       "      <td>5000</td>\n",
       "    </tr>\n",
       "    <tr>\n",
       "      <th>1</th>\n",
       "      <td>train</td>\n",
       "      <td>5000</td>\n",
       "    </tr>\n",
       "  </tbody>\n",
       "</table>\n",
       "</div>"
      ],
      "text/plain": [
       "  eval_set  user_id\n",
       "0    prior     5000\n",
       "1    train     5000"
      ]
     },
     "execution_count": 1172,
     "metadata": {},
     "output_type": "execute_result"
    }
   ],
   "source": [
    "orders.groupby(['eval_set'], as_index=False).agg({'user_id': 'nunique'}) "
   ]
  },
  {
   "cell_type": "code",
   "execution_count": 1173,
   "metadata": {},
   "outputs": [
    {
     "data": {
      "text/plain": [
       "5000"
      ]
     },
     "execution_count": 1173,
     "metadata": {},
     "output_type": "execute_result"
    }
   ],
   "source": [
    "prior_user_ids = set(orders[orders.eval_set == 'prior'].user_id)\n",
    "train_user_ids = set(orders[orders.eval_set == 'train'].user_id)\n",
    "len(prior_user_ids.intersection(train_user_ids))"
   ]
  },
  {
   "cell_type": "markdown",
   "metadata": {},
   "source": [
    "### 4.5 Order counts in the train data"
   ]
  },
  {
   "cell_type": "code",
   "execution_count": 1174,
   "metadata": {},
   "outputs": [
    {
     "data": {
      "text/html": [
       "<div>\n",
       "<style scoped>\n",
       "    .dataframe tbody tr th:only-of-type {\n",
       "        vertical-align: middle;\n",
       "    }\n",
       "\n",
       "    .dataframe tbody tr th {\n",
       "        vertical-align: top;\n",
       "    }\n",
       "\n",
       "    .dataframe thead th {\n",
       "        text-align: right;\n",
       "    }\n",
       "</style>\n",
       "<table border=\"1\" class=\"dataframe\">\n",
       "  <thead>\n",
       "    <tr style=\"text-align: right;\">\n",
       "      <th></th>\n",
       "      <th>order_counts</th>\n",
       "    </tr>\n",
       "    <tr>\n",
       "      <th>user_id</th>\n",
       "      <th></th>\n",
       "    </tr>\n",
       "  </thead>\n",
       "  <tbody>\n",
       "    <tr>\n",
       "      <th>50</th>\n",
       "      <td>1</td>\n",
       "    </tr>\n",
       "    <tr>\n",
       "      <th>135881</th>\n",
       "      <td>1</td>\n",
       "    </tr>\n",
       "    <tr>\n",
       "      <th>135743</th>\n",
       "      <td>1</td>\n",
       "    </tr>\n",
       "    <tr>\n",
       "      <th>135718</th>\n",
       "      <td>1</td>\n",
       "    </tr>\n",
       "    <tr>\n",
       "      <th>135687</th>\n",
       "      <td>1</td>\n",
       "    </tr>\n",
       "    <tr>\n",
       "      <th>...</th>\n",
       "      <td>...</td>\n",
       "    </tr>\n",
       "    <tr>\n",
       "      <th>67660</th>\n",
       "      <td>1</td>\n",
       "    </tr>\n",
       "    <tr>\n",
       "      <th>67640</th>\n",
       "      <td>1</td>\n",
       "    </tr>\n",
       "    <tr>\n",
       "      <th>67626</th>\n",
       "      <td>1</td>\n",
       "    </tr>\n",
       "    <tr>\n",
       "      <th>67743</th>\n",
       "      <td>1</td>\n",
       "    </tr>\n",
       "    <tr>\n",
       "      <th>206175</th>\n",
       "      <td>1</td>\n",
       "    </tr>\n",
       "  </tbody>\n",
       "</table>\n",
       "<p>5000 rows × 1 columns</p>\n",
       "</div>"
      ],
      "text/plain": [
       "         order_counts\n",
       "user_id              \n",
       "50                  1\n",
       "135881              1\n",
       "135743              1\n",
       "135718              1\n",
       "135687              1\n",
       "...               ...\n",
       "67660               1\n",
       "67640               1\n",
       "67626               1\n",
       "67743               1\n",
       "206175              1\n",
       "\n",
       "[5000 rows x 1 columns]"
      ]
     },
     "execution_count": 1174,
     "metadata": {},
     "output_type": "execute_result"
    }
   ],
   "source": [
    "orders[orders.eval_set=='train'].groupby(['user_id']).agg({'order_number': 'count'}).rename(columns={'order_number':'order_counts'}).sort_values(by=['order_counts'])"
   ]
  },
  {
   "cell_type": "markdown",
   "metadata": {},
   "source": [
    "In the train table, each user only has one order"
   ]
  },
  {
   "cell_type": "markdown",
   "metadata": {},
   "source": [
    "### 4.6 Validate the relative order of the order_num in prior and train dataset"
   ]
  },
  {
   "cell_type": "code",
   "execution_count": 1175,
   "metadata": {},
   "outputs": [],
   "source": [
    "# Find the max order_num of each user in the prior table\n",
    "df_prior_order_max = orders[orders.eval_set=='prior'].groupby(['user_id']).agg({'order_number': 'max'}).rename(columns={'order_number':'prior_order_max'})"
   ]
  },
  {
   "cell_type": "code",
   "execution_count": 1176,
   "metadata": {},
   "outputs": [],
   "source": [
    "# Find the min order_num of each user in the train table\n",
    "df_train_order_min = orders[orders.eval_set=='train'].groupby(['user_id']).agg({'order_number': 'min'}).rename(columns={'order_number':'train_order_min'})"
   ]
  },
  {
   "cell_type": "code",
   "execution_count": 1177,
   "metadata": {},
   "outputs": [
    {
     "data": {
      "text/plain": [
       "0"
      ]
     },
     "execution_count": 1177,
     "metadata": {},
     "output_type": "execute_result"
    }
   ],
   "source": [
    "order_number_diff = pd.merge(df_prior_order_max, df_train_order_min, on=['user_id'])\n",
    "order_number_diff[df_prior_order_max.prior_order_max >= df_train_order_min.train_order_min].shape[0]"
   ]
  },
  {
   "cell_type": "markdown",
   "metadata": {},
   "source": [
    "Prior dataset include prior history data with smaller order_number; while train dataset include more recent orders of each user. Only the recent dataset(train) can reflect the current preference of items that users would like to buy."
   ]
  },
  {
   "cell_type": "markdown",
   "metadata": {},
   "source": [
    "## 5. Construct Model Label\n",
    "Objective:\n",
    "To predict if a user will reorder a certain product.\n",
    "\n",
    "'Reordered' can't be used as the model label:\n",
    "The prior data can be too long ago while the customers may have changed their buying habits. Only the labels in the train data can be considered as label.\n",
    "\n",
    "Secondly, 1 denoted at least 1 reorder (>=1); 0 denoted no reorder."
   ]
  },
  {
   "cell_type": "markdown",
   "metadata": {},
   "source": [
    "### 5.1 train_details (order_product_train_details)"
   ]
  },
  {
   "cell_type": "code",
   "execution_count": 1178,
   "metadata": {},
   "outputs": [
    {
     "data": {
      "text/html": [
       "<div>\n",
       "<style scoped>\n",
       "    .dataframe tbody tr th:only-of-type {\n",
       "        vertical-align: middle;\n",
       "    }\n",
       "\n",
       "    .dataframe tbody tr th {\n",
       "        vertical-align: top;\n",
       "    }\n",
       "\n",
       "    .dataframe thead th {\n",
       "        text-align: right;\n",
       "    }\n",
       "</style>\n",
       "<table border=\"1\" class=\"dataframe\">\n",
       "  <thead>\n",
       "    <tr style=\"text-align: right;\">\n",
       "      <th></th>\n",
       "      <th>order_id</th>\n",
       "      <th>product_id</th>\n",
       "      <th>add_to_cart_order</th>\n",
       "      <th>reordered</th>\n",
       "      <th>user_id</th>\n",
       "      <th>eval_set</th>\n",
       "      <th>order_number</th>\n",
       "      <th>order_dow</th>\n",
       "      <th>order_hour_of_day</th>\n",
       "      <th>days_since_prior_order</th>\n",
       "    </tr>\n",
       "  </thead>\n",
       "  <tbody>\n",
       "    <tr>\n",
       "      <th>0</th>\n",
       "      <td>1077</td>\n",
       "      <td>13176</td>\n",
       "      <td>1</td>\n",
       "      <td>1</td>\n",
       "      <td>173934</td>\n",
       "      <td>train</td>\n",
       "      <td>11</td>\n",
       "      <td>6</td>\n",
       "      <td>9</td>\n",
       "      <td>10.0</td>\n",
       "    </tr>\n",
       "    <tr>\n",
       "      <th>1</th>\n",
       "      <td>1077</td>\n",
       "      <td>39922</td>\n",
       "      <td>2</td>\n",
       "      <td>1</td>\n",
       "      <td>173934</td>\n",
       "      <td>train</td>\n",
       "      <td>11</td>\n",
       "      <td>6</td>\n",
       "      <td>9</td>\n",
       "      <td>10.0</td>\n",
       "    </tr>\n",
       "    <tr>\n",
       "      <th>2</th>\n",
       "      <td>1077</td>\n",
       "      <td>5258</td>\n",
       "      <td>3</td>\n",
       "      <td>1</td>\n",
       "      <td>173934</td>\n",
       "      <td>train</td>\n",
       "      <td>11</td>\n",
       "      <td>6</td>\n",
       "      <td>9</td>\n",
       "      <td>10.0</td>\n",
       "    </tr>\n",
       "    <tr>\n",
       "      <th>3</th>\n",
       "      <td>1077</td>\n",
       "      <td>21137</td>\n",
       "      <td>4</td>\n",
       "      <td>1</td>\n",
       "      <td>173934</td>\n",
       "      <td>train</td>\n",
       "      <td>11</td>\n",
       "      <td>6</td>\n",
       "      <td>9</td>\n",
       "      <td>10.0</td>\n",
       "    </tr>\n",
       "    <tr>\n",
       "      <th>4</th>\n",
       "      <td>1119</td>\n",
       "      <td>6046</td>\n",
       "      <td>1</td>\n",
       "      <td>1</td>\n",
       "      <td>129386</td>\n",
       "      <td>train</td>\n",
       "      <td>7</td>\n",
       "      <td>1</td>\n",
       "      <td>14</td>\n",
       "      <td>17.0</td>\n",
       "    </tr>\n",
       "  </tbody>\n",
       "</table>\n",
       "</div>"
      ],
      "text/plain": [
       "   order_id  product_id  add_to_cart_order  reordered  user_id eval_set  \\\n",
       "0      1077       13176                  1          1   173934    train   \n",
       "1      1077       39922                  2          1   173934    train   \n",
       "2      1077        5258                  3          1   173934    train   \n",
       "3      1077       21137                  4          1   173934    train   \n",
       "4      1119        6046                  1          1   129386    train   \n",
       "\n",
       "   order_number  order_dow  order_hour_of_day  days_since_prior_order  \n",
       "0            11          6                  9                    10.0  \n",
       "1            11          6                  9                    10.0  \n",
       "2            11          6                  9                    10.0  \n",
       "3            11          6                  9                    10.0  \n",
       "4             7          1                 14                    17.0  "
      ]
     },
     "execution_count": 1178,
     "metadata": {},
     "output_type": "execute_result"
    }
   ],
   "source": [
    "train_details = order_products_train.merge(orders, on='order_id')\n",
    "train_details.head()"
   ]
  },
  {
   "cell_type": "code",
   "execution_count": 1179,
   "metadata": {},
   "outputs": [
    {
     "data": {
      "text/plain": [
       "{'122846_28494',\n",
       " '159223_44616',\n",
       " '74284_32403',\n",
       " '104391_7987',\n",
       " '168102_29397',\n",
       " '197100_5456',\n",
       " '77457_34137',\n",
       " '73463_34862',\n",
       " '123163_39928',\n",
       " '36447_1831',\n",
       " '55211_41455',\n",
       " '100286_22935',\n",
       " '162048_21938',\n",
       " '52103_23909',\n",
       " '60665_7173',\n",
       " '201420_28842',\n",
       " '96682_6184',\n",
       " '164055_26111',\n",
       " '18017_12456',\n",
       " '201818_22198',\n",
       " '183599_17794',\n",
       " '108162_31268',\n",
       " '158665_28930',\n",
       " '14210_41803',\n",
       " '172790_27966',\n",
       " '42679_8678',\n",
       " '107462_9175',\n",
       " '23535_35985',\n",
       " '6668_22672',\n",
       " '51913_27845',\n",
       " '9556_27336',\n",
       " '106964_36011',\n",
       " '175595_36606',\n",
       " '52103_12290',\n",
       " '137658_7123',\n",
       " '52721_343',\n",
       " '32453_8658',\n",
       " '94464_45036',\n",
       " '33226_3376',\n",
       " '16182_40604',\n",
       " '176375_27690',\n",
       " '14332_47626',\n",
       " '166286_26165',\n",
       " '160232_17316',\n",
       " '157320_44099',\n",
       " '12317_33129',\n",
       " '32627_12312',\n",
       " '159494_93',\n",
       " '137139_46346',\n",
       " '130080_12206',\n",
       " '87291_13654',\n",
       " '167237_39515',\n",
       " '176815_24852',\n",
       " '14837_11849',\n",
       " '16832_46650',\n",
       " '76671_13535',\n",
       " '192618_24852',\n",
       " '32555_43352',\n",
       " '24784_10255',\n",
       " '26903_21536',\n",
       " '53862_32277',\n",
       " '99371_39928',\n",
       " '140917_16797',\n",
       " '132498_37722',\n",
       " '14183_39275',\n",
       " '164083_8518',\n",
       " '129230_47766',\n",
       " '95532_15767',\n",
       " '169136_26587',\n",
       " '3942_3732',\n",
       " '114191_33000',\n",
       " '108936_44359',\n",
       " '98217_24852',\n",
       " '42042_9510',\n",
       " '125044_21938',\n",
       " '97764_18288',\n",
       " '108275_35629',\n",
       " '51600_30391',\n",
       " '85096_7600',\n",
       " '206076_35147',\n",
       " '158512_20838',\n",
       " '173435_24373',\n",
       " '127145_7503',\n",
       " '20242_34969',\n",
       " '21874_25133',\n",
       " '162048_47766',\n",
       " '196695_15424',\n",
       " '118393_38357',\n",
       " '126576_24248',\n",
       " '155936_36144',\n",
       " '17957_17794',\n",
       " '190988_19174',\n",
       " '122015_7379',\n",
       " '155869_5479',\n",
       " '169862_35561',\n",
       " '72088_13966',\n",
       " '189044_42585',\n",
       " '52880_8996',\n",
       " '121421_46654',\n",
       " '138280_13328',\n",
       " '159634_31487',\n",
       " '81710_4926',\n",
       " '69832_25093',\n",
       " '112631_21137',\n",
       " '44639_45007',\n",
       " '1852_13712',\n",
       " '167013_37803',\n",
       " '50130_7751',\n",
       " '29963_28842',\n",
       " '33551_48442',\n",
       " '206101_26062',\n",
       " '112939_18523',\n",
       " '31586_45007',\n",
       " '103699_49235',\n",
       " '103365_21137',\n",
       " '28815_39001',\n",
       " '191805_42803',\n",
       " '110062_45007',\n",
       " '84687_40278',\n",
       " '30694_23233',\n",
       " '67691_11520',\n",
       " '186628_45061',\n",
       " '163616_44234',\n",
       " '40422_49191',\n",
       " '164469_33320',\n",
       " '157762_7239',\n",
       " '173900_12614',\n",
       " '195704_47823',\n",
       " '41886_24024',\n",
       " '126641_38548',\n",
       " '75304_26138',\n",
       " '4225_2480',\n",
       " '44819_30489',\n",
       " '92799_17794',\n",
       " '47421_16696',\n",
       " '46710_35321',\n",
       " '65256_11005',\n",
       " '87036_31275',\n",
       " '100225_16185',\n",
       " '57444_8518',\n",
       " '137124_29411',\n",
       " '51493_16221',\n",
       " '191560_45616',\n",
       " '91209_11599',\n",
       " '131009_49520',\n",
       " '148248_44142',\n",
       " '192852_10460',\n",
       " '20949_14147',\n",
       " '48681_27104',\n",
       " '117237_34386',\n",
       " '113983_42806',\n",
       " '202526_48220',\n",
       " '167424_8518',\n",
       " '32627_14335',\n",
       " '198150_35217',\n",
       " '61297_23288',\n",
       " '56147_21903',\n",
       " '77589_28199',\n",
       " '18838_13733',\n",
       " '101200_31848',\n",
       " '20439_24799',\n",
       " '199790_13176',\n",
       " '149301_17872',\n",
       " '169211_12500',\n",
       " '53486_24622',\n",
       " '150290_22935',\n",
       " '67500_40619',\n",
       " '162172_21938',\n",
       " '114002_43352',\n",
       " '25039_16797',\n",
       " '16729_27966',\n",
       " '7899_4605',\n",
       " '30770_25587',\n",
       " '118812_46175',\n",
       " '168924_49683',\n",
       " '39418_45064',\n",
       " '169884_29615',\n",
       " '147464_47209',\n",
       " '164130_13176',\n",
       " '128086_40396',\n",
       " '189878_37455',\n",
       " '190446_7632',\n",
       " '716_18534',\n",
       " '143819_44375',\n",
       " '143360_34126',\n",
       " '14396_4724',\n",
       " '108040_39561',\n",
       " '63255_48857',\n",
       " '85900_1890',\n",
       " '38359_39430',\n",
       " '162021_17794',\n",
       " '89603_17946',\n",
       " '134054_48761',\n",
       " '165920_35042',\n",
       " '123163_26604',\n",
       " '67640_40545',\n",
       " '29612_26201',\n",
       " '81165_28985',\n",
       " '200445_11619',\n",
       " '52880_25931',\n",
       " '167889_34590',\n",
       " '101121_36259',\n",
       " '27342_13042',\n",
       " '142104_32989',\n",
       " '108705_13176',\n",
       " '116831_20082',\n",
       " '192479_28862',\n",
       " '102184_13176',\n",
       " '33980_2086',\n",
       " '192311_7762',\n",
       " '108007_35252',\n",
       " '7316_25005',\n",
       " '127310_13152',\n",
       " '202619_30336',\n",
       " '130174_42701',\n",
       " '106027_9076',\n",
       " '166673_19006',\n",
       " '42587_47626',\n",
       " '2443_29071',\n",
       " '66312_21288',\n",
       " '50409_29274',\n",
       " '71142_30845',\n",
       " '69908_15290',\n",
       " '166286_43705',\n",
       " '80673_13848',\n",
       " '101893_20307',\n",
       " '18017_43643',\n",
       " '38365_24852',\n",
       " '93546_28204',\n",
       " '103699_47280',\n",
       " '159752_8239',\n",
       " '37806_7644',\n",
       " '183599_47626',\n",
       " '175568_37919',\n",
       " '144487_16650',\n",
       " '126809_33043',\n",
       " '192206_15704',\n",
       " '104391_16797',\n",
       " '88729_28849',\n",
       " '46710_47209',\n",
       " '132426_31717',\n",
       " '83077_12797',\n",
       " '198089_25138',\n",
       " '81277_37067',\n",
       " '88673_4137',\n",
       " '203717_940',\n",
       " '190663_12875',\n",
       " '104998_27845',\n",
       " '48735_31329',\n",
       " '128662_16366',\n",
       " '32808_21077',\n",
       " '45249_2386',\n",
       " '12528_37718',\n",
       " '47684_9290',\n",
       " '54588_16820',\n",
       " '45814_39877',\n",
       " '20949_15390',\n",
       " '166331_32156',\n",
       " '17226_13819',\n",
       " '40422_21137',\n",
       " '150880_2234',\n",
       " '117125_2770',\n",
       " '147464_25272',\n",
       " '33551_27663',\n",
       " '93883_30057',\n",
       " '33081_32864',\n",
       " '193747_20520',\n",
       " '118836_21019',\n",
       " '80720_24489',\n",
       " '72882_29299',\n",
       " '48526_29921',\n",
       " '57191_40706',\n",
       " '158222_41997',\n",
       " '127332_31553',\n",
       " '187363_5646',\n",
       " '163798_8490',\n",
       " '115841_21137',\n",
       " '74038_27086',\n",
       " '71396_4920',\n",
       " '161306_27966',\n",
       " '87776_7930',\n",
       " '144213_22395',\n",
       " '98395_16083',\n",
       " '160807_37687',\n",
       " '166519_25764',\n",
       " '20348_31927',\n",
       " '131826_11462',\n",
       " '142104_46979',\n",
       " '106388_7914',\n",
       " '169378_24549',\n",
       " '174134_39619',\n",
       " '118393_34264',\n",
       " '53843_8518',\n",
       " '66499_8592',\n",
       " '193831_47766',\n",
       " '13236_8479',\n",
       " '24899_9598',\n",
       " '164130_31471',\n",
       " '34947_30489',\n",
       " '59119_7600',\n",
       " '17890_21137',\n",
       " '131264_27267',\n",
       " '82544_27966',\n",
       " '29208_13166',\n",
       " '64179_22935',\n",
       " '31715_26209',\n",
       " '194047_22281',\n",
       " '23728_48811',\n",
       " '131826_41844',\n",
       " '168812_1981',\n",
       " '163699_10840',\n",
       " '70556_24852',\n",
       " '172351_37067',\n",
       " '201420_1468',\n",
       " '70720_46434',\n",
       " '101637_49381',\n",
       " '166673_31342',\n",
       " '57191_27966',\n",
       " '2131_35629',\n",
       " '23781_40396',\n",
       " '23345_16262',\n",
       " '38761_38837',\n",
       " '128323_41164',\n",
       " '76001_22935',\n",
       " '154777_41387',\n",
       " '103076_30639',\n",
       " '105361_42736',\n",
       " '31059_45045',\n",
       " '65776_30135',\n",
       " '108733_44910',\n",
       " '161150_44622',\n",
       " '194298_47626',\n",
       " '137443_24622',\n",
       " '57128_2992',\n",
       " '137440_42265',\n",
       " '147002_47626',\n",
       " '64194_10862',\n",
       " '168383_26283',\n",
       " '66880_47626',\n",
       " '179079_23892',\n",
       " '172034_46906',\n",
       " '21475_34551',\n",
       " '97300_18140',\n",
       " '110397_10518',\n",
       " '122373_18171',\n",
       " '20702_49534',\n",
       " '172378_40285',\n",
       " '102032_46041',\n",
       " '87381_10644',\n",
       " '158815_15290',\n",
       " '716_13639',\n",
       " '203649_18395',\n",
       " '71253_13380',\n",
       " '125098_46485',\n",
       " '151362_32255',\n",
       " '148248_13129',\n",
       " '186573_5479',\n",
       " '159486_15950',\n",
       " '162778_8518',\n",
       " '106184_23535',\n",
       " '141085_5450',\n",
       " '59541_27086',\n",
       " '201172_12614',\n",
       " '11702_24852',\n",
       " '175059_3631',\n",
       " '182248_600',\n",
       " '84126_23782',\n",
       " '81568_7559',\n",
       " '154100_35163',\n",
       " '121920_44278',\n",
       " '187211_44987',\n",
       " '176397_7503',\n",
       " '122596_45723',\n",
       " '53851_1366',\n",
       " '186472_41637',\n",
       " '194774_49265',\n",
       " '34868_5134',\n",
       " '185494_18027',\n",
       " '200445_33129',\n",
       " '52759_32666',\n",
       " '196607_15532',\n",
       " '29426_13176',\n",
       " '76286_19934',\n",
       " '205871_48079',\n",
       " '12907_1008',\n",
       " '164469_24838',\n",
       " '45814_27966',\n",
       " '111029_8339',\n",
       " '123988_25069',\n",
       " '191500_38739',\n",
       " '40496_19786',\n",
       " '143526_39551',\n",
       " '111819_19146',\n",
       " '35859_49427',\n",
       " '197100_12276',\n",
       " '192852_37766',\n",
       " '61169_41625',\n",
       " '32453_41362',\n",
       " '43117_11452',\n",
       " '95357_6507',\n",
       " '18747_14218',\n",
       " '40519_49383',\n",
       " '48526_19871',\n",
       " '122426_42074',\n",
       " '189027_27509',\n",
       " '120133_44219',\n",
       " '202933_19660',\n",
       " '26461_33596',\n",
       " '135062_40706',\n",
       " '119736_47672',\n",
       " '122596_39984',\n",
       " '174423_5586',\n",
       " '19079_5475',\n",
       " '90336_26648',\n",
       " '120696_27531',\n",
       " '108405_24390',\n",
       " '63665_28985',\n",
       " '22403_45007',\n",
       " '174874_13176',\n",
       " '5180_14727',\n",
       " '96179_3873',\n",
       " '175509_27464',\n",
       " '33033_13654',\n",
       " '101259_40706',\n",
       " '114853_1994',\n",
       " '128009_21019',\n",
       " '53990_26283',\n",
       " '67601_3593',\n",
       " '135647_17580',\n",
       " '156816_37646',\n",
       " '160491_25920',\n",
       " '178559_500',\n",
       " '186554_34358',\n",
       " '70287_26790',\n",
       " '189673_9605',\n",
       " '165374_17061',\n",
       " '7875_34243',\n",
       " '66500_49111',\n",
       " '189878_47766',\n",
       " '156531_16757',\n",
       " '200445_34234',\n",
       " '144664_18751',\n",
       " '121524_25010',\n",
       " '71396_45061',\n",
       " '1801_2124',\n",
       " '105600_17949',\n",
       " '185481_41565',\n",
       " '87000_31717',\n",
       " '70348_13176',\n",
       " '158607_22035',\n",
       " '132336_12118',\n",
       " '52457_4799',\n",
       " '95945_19057',\n",
       " '63180_24186',\n",
       " '28028_2054',\n",
       " '199820_26177',\n",
       " '201172_21709',\n",
       " '23250_8802',\n",
       " '53320_37795',\n",
       " '204885_22362',\n",
       " '153390_37535',\n",
       " '64553_29840',\n",
       " '70720_8260',\n",
       " '128388_8424',\n",
       " '84090_34525',\n",
       " '67454_22825',\n",
       " '37085_21903',\n",
       " '169440_33120',\n",
       " '20868_40348',\n",
       " '81562_37213',\n",
       " '134597_44359',\n",
       " '90285_20186',\n",
       " '50085_46088',\n",
       " '19467_30391',\n",
       " '189875_48679',\n",
       " '34027_25138',\n",
       " '164266_21903',\n",
       " '134432_49363',\n",
       " '197774_36861',\n",
       " '140456_47788',\n",
       " '94819_859',\n",
       " '61028_35851',\n",
       " '64157_14129',\n",
       " '73566_41774',\n",
       " '86906_21938',\n",
       " '151978_18389',\n",
       " '69082_27695',\n",
       " '178484_30391',\n",
       " '152035_38979',\n",
       " '125246_8490',\n",
       " '157479_26047',\n",
       " '140975_38656',\n",
       " '118701_47324',\n",
       " '22900_49381',\n",
       " '30527_23181',\n",
       " '137910_2481',\n",
       " '13913_30391',\n",
       " '204537_2668',\n",
       " '29426_24373',\n",
       " '134012_47766',\n",
       " '190988_40604',\n",
       " '94386_19613',\n",
       " '196962_37687',\n",
       " '11182_3765',\n",
       " '100575_16185',\n",
       " '24575_17949',\n",
       " '22246_16254',\n",
       " '105049_38371',\n",
       " '39474_702',\n",
       " '67980_21137',\n",
       " '139708_13517',\n",
       " '72600_43967',\n",
       " '162360_10793',\n",
       " '26967_39929',\n",
       " '120896_39619',\n",
       " '46857_19613',\n",
       " '138390_30191',\n",
       " '4616_32665',\n",
       " '193336_21174',\n",
       " '1136_24852',\n",
       " '100225_26790',\n",
       " '36892_22890',\n",
       " '55088_32463',\n",
       " '84137_41836',\n",
       " '51081_14633',\n",
       " '135212_15057',\n",
       " '159491_42265',\n",
       " '109687_40706',\n",
       " '89394_45864',\n",
       " '175059_21137',\n",
       " '29942_20955',\n",
       " '178988_37940',\n",
       " '144290_41149',\n",
       " '80060_40285',\n",
       " '83139_4736',\n",
       " '108343_45771',\n",
       " '127353_34745',\n",
       " '204872_21405',\n",
       " '110608_41806',\n",
       " '151436_21137',\n",
       " '89480_46667',\n",
       " '123188_5097',\n",
       " '45769_17461',\n",
       " '105196_29274',\n",
       " '189049_45194',\n",
       " '200899_22849',\n",
       " '191291_8022',\n",
       " '107830_7559',\n",
       " '137407_19660',\n",
       " '109980_25340',\n",
       " '182248_33027',\n",
       " '37820_32467',\n",
       " '191382_28993',\n",
       " '78048_46654',\n",
       " '169290_5212',\n",
       " '156662_27695',\n",
       " '72498_5104',\n",
       " '64007_18168',\n",
       " '24395_39578',\n",
       " '204993_35242',\n",
       " '92916_9170',\n",
       " '122308_46667',\n",
       " '50951_25659',\n",
       " '116831_21137',\n",
       " '39484_5918',\n",
       " '8595_35105',\n",
       " '117088_43154',\n",
       " '87997_41690',\n",
       " '26228_13802',\n",
       " '124388_40338',\n",
       " '175357_711',\n",
       " '152803_21903',\n",
       " '136482_2115',\n",
       " '191885_47626',\n",
       " '44247_18090',\n",
       " '16182_21417',\n",
       " '205130_32465',\n",
       " '199568_24004',\n",
       " '20392_45204',\n",
       " '4264_23909',\n",
       " '78179_6184',\n",
       " '200818_31717',\n",
       " '81710_10498',\n",
       " '200245_41110',\n",
       " '90113_47570',\n",
       " '89945_21137',\n",
       " '130856_9018',\n",
       " '47778_35095',\n",
       " '121202_35108',\n",
       " '95532_32839',\n",
       " '145688_14678',\n",
       " '38334_47211',\n",
       " '28624_3040',\n",
       " '186402_8959',\n",
       " '86006_47766',\n",
       " '152610_27092',\n",
       " '12252_21137',\n",
       " '22246_21903',\n",
       " '81165_10246',\n",
       " '34511_35221',\n",
       " '128718_11913',\n",
       " '121469_768',\n",
       " '172034_27730',\n",
       " '114748_5479',\n",
       " '26959_39275',\n",
       " '74170_43712',\n",
       " '78969_40396',\n",
       " '106964_397',\n",
       " '156003_33095',\n",
       " '155869_26790',\n",
       " '187875_6849',\n",
       " '104508_14651',\n",
       " '138179_45007',\n",
       " '102788_44910',\n",
       " '125906_46979',\n",
       " '115495_16262',\n",
       " '63807_36550',\n",
       " '7875_27548',\n",
       " '192206_16883',\n",
       " '24981_21830',\n",
       " '67167_27845',\n",
       " '114119_15290',\n",
       " '202024_36011',\n",
       " '32987_2717',\n",
       " '173435_37988',\n",
       " '109512_13176',\n",
       " '32739_49628',\n",
       " '102590_4066',\n",
       " '118935_42766',\n",
       " '199820_25767',\n",
       " '136990_12087',\n",
       " '7316_48857',\n",
       " '155022_33198',\n",
       " '91075_45066',\n",
       " '41115_895',\n",
       " '71626_33198',\n",
       " '86906_24852',\n",
       " '148124_7079',\n",
       " '144487_9409',\n",
       " '182074_27521',\n",
       " '92027_40459',\n",
       " '176801_11075',\n",
       " '13519_14087',\n",
       " '40658_17872',\n",
       " '79124_23909',\n",
       " '44850_37919',\n",
       " '36729_33081',\n",
       " '119046_1090',\n",
       " '73656_21938',\n",
       " '7687_27336',\n",
       " '95734_30391',\n",
       " '189818_46979',\n",
       " '118707_16177',\n",
       " '43460_39275',\n",
       " '85028_26300',\n",
       " '165920_26493',\n",
       " '90325_49383',\n",
       " '68812_3392',\n",
       " '147598_2934',\n",
       " '159912_43961',\n",
       " '187760_42059',\n",
       " '106184_18389',\n",
       " '60930_29926',\n",
       " '83441_47516',\n",
       " '166523_38456',\n",
       " '47346_31717',\n",
       " '157679_25242',\n",
       " '85004_23909',\n",
       " '109512_47626',\n",
       " '131947_13216',\n",
       " '167246_13176',\n",
       " '122214_4605',\n",
       " '115841_31533',\n",
       " '35408_28985',\n",
       " '119458_18751',\n",
       " '108329_24852',\n",
       " '27740_20580',\n",
       " '154506_23986',\n",
       " '97277_30391',\n",
       " '11616_20940',\n",
       " '156000_17794',\n",
       " '20348_4799',\n",
       " '93342_47626',\n",
       " '159618_44560',\n",
       " '141655_26209',\n",
       " '195993_27086',\n",
       " '31193_47242',\n",
       " '170285_21903',\n",
       " '98217_43899',\n",
       " '205353_49520',\n",
       " '152620_45345',\n",
       " '20163_16797',\n",
       " '71957_41787',\n",
       " '120830_2067',\n",
       " '134012_17441',\n",
       " '82773_7862',\n",
       " '34494_45064',\n",
       " '38345_4605',\n",
       " '13950_38754',\n",
       " '191737_47209',\n",
       " '188104_35163',\n",
       " '182447_42342',\n",
       " '108936_23291',\n",
       " '103410_15508',\n",
       " '69082_8479',\n",
       " '16592_38293',\n",
       " '30694_14947',\n",
       " '57550_21137',\n",
       " '123216_4749',\n",
       " '152428_31886',\n",
       " '162360_32864',\n",
       " '76479_8953',\n",
       " '117656_4645',\n",
       " '71284_20549',\n",
       " '86241_6188',\n",
       " '176960_14966',\n",
       " '181817_27985',\n",
       " '45249_41844',\n",
       " '182399_10424',\n",
       " '66211_21936',\n",
       " '101121_15599',\n",
       " '162700_27104',\n",
       " '168236_36014',\n",
       " '131948_30827',\n",
       " '203615_16797',\n",
       " '78283_13176',\n",
       " '148323_41658',\n",
       " '155812_31506',\n",
       " '134350_37359',\n",
       " '157918_23165',\n",
       " '2838_35221',\n",
       " '108705_34429',\n",
       " '71137_21361',\n",
       " '58979_21405',\n",
       " '75212_46023',\n",
       " '74170_28427',\n",
       " '38345_42825',\n",
       " '191084_28961',\n",
       " '145448_35635',\n",
       " '80935_8024',\n",
       " '176375_48679',\n",
       " '95912_22935',\n",
       " '32403_46654',\n",
       " '169256_16797',\n",
       " '101893_45066',\n",
       " '25512_21009',\n",
       " '36663_24131',\n",
       " '43853_47766',\n",
       " '51493_29142',\n",
       " '68194_32579',\n",
       " '80313_37718',\n",
       " '192405_49441',\n",
       " '165920_26861',\n",
       " '27144_31717',\n",
       " '53623_28842',\n",
       " '53096_47439',\n",
       " '51263_30776',\n",
       " '144487_1416',\n",
       " '181779_11520',\n",
       " '34315_24964',\n",
       " '144405_196',\n",
       " '172119_39024',\n",
       " '75685_21372',\n",
       " '78819_12341',\n",
       " '86123_27323',\n",
       " '94386_32433',\n",
       " '167842_3952',\n",
       " '23408_36550',\n",
       " '137875_45296',\n",
       " '52103_44360',\n",
       " '44842_21903',\n",
       " '26461_33568',\n",
       " '105196_3464',\n",
       " '165185_13176',\n",
       " '107634_11452',\n",
       " '137910_48043',\n",
       " '104498_26369',\n",
       " '154946_16020',\n",
       " '110349_33000',\n",
       " '26961_28289',\n",
       " '203717_36042',\n",
       " '28378_40826',\n",
       " '103592_28199',\n",
       " '45852_4962',\n",
       " '76286_6347',\n",
       " '120883_22035',\n",
       " '80569_48745',\n",
       " '106483_35628',\n",
       " '137427_6846',\n",
       " '37425_10749',\n",
       " '97664_14633',\n",
       " '129467_26128',\n",
       " '131780_35068',\n",
       " '104485_38544',\n",
       " '64508_41290',\n",
       " '123493_37357',\n",
       " '55088_15414',\n",
       " '167176_47209',\n",
       " '196222_39275',\n",
       " '122596_41140',\n",
       " '101259_35163',\n",
       " '166379_48775',\n",
       " '113497_22828',\n",
       " '47481_5161',\n",
       " '96774_39275',\n",
       " '194847_31066',\n",
       " '163798_16349',\n",
       " '114853_2855',\n",
       " '52886_17302',\n",
       " '13218_27845',\n",
       " '142453_5337',\n",
       " '92974_21903',\n",
       " '17959_16826',\n",
       " '106717_23909',\n",
       " '149827_14218',\n",
       " '114929_8174',\n",
       " '104337_277',\n",
       " '34218_19660',\n",
       " '189570_23537',\n",
       " '149189_46979',\n",
       " '131046_38383',\n",
       " '69406_32455',\n",
       " '70901_43693',\n",
       " '115495_32177',\n",
       " '193831_13176',\n",
       " '137427_22065',\n",
       " '177035_45007',\n",
       " '93890_5450',\n",
       " '123462_20940',\n",
       " '8628_42265',\n",
       " '34054_21616',\n",
       " '32268_37646',\n",
       " '72780_43961',\n",
       " '120355_49126',\n",
       " '107396_27086',\n",
       " '92048_12456',\n",
       " '155936_28849',\n",
       " '40265_45064',\n",
       " '62188_47766',\n",
       " '64018_11005',\n",
       " '68144_43352',\n",
       " '189115_9076',\n",
       " '106991_2732',\n",
       " '32555_33810',\n",
       " '166806_30532',\n",
       " '100976_35176',\n",
       " '152292_47788',\n",
       " '22374_3957',\n",
       " '38368_48679',\n",
       " '174420_5451',\n",
       " '157810_8859',\n",
       " '78819_11090',\n",
       " '187765_37067',\n",
       " '162778_14409',\n",
       " '51081_35989',\n",
       " '108691_16617',\n",
       " '65034_32112',\n",
       " '169136_39032',\n",
       " '108457_22298',\n",
       " '2487_40342',\n",
       " '64157_18583',\n",
       " '80569_19475',\n",
       " '157220_20114',\n",
       " '81710_3177',\n",
       " '162188_42585',\n",
       " '70599_20378',\n",
       " '42256_30406',\n",
       " '203423_47766',\n",
       " '11182_18610',\n",
       " '78048_18370',\n",
       " '92631_25890',\n",
       " '106468_47086',\n",
       " '122510_39984',\n",
       " '4805_34429',\n",
       " '199865_39993',\n",
       " '160166_47766',\n",
       " '31266_49585',\n",
       " '101296_24810',\n",
       " '179061_28204',\n",
       " '81863_43129',\n",
       " '65438_47626',\n",
       " '74277_37417',\n",
       " '19977_27966',\n",
       " '2487_24009',\n",
       " '202054_46041',\n",
       " '53132_4097',\n",
       " '112875_20383',\n",
       " '154484_21497',\n",
       " '94268_42731',\n",
       " '72070_44404',\n",
       " '141247_24975',\n",
       " '131355_32293',\n",
       " '67640_44375',\n",
       " '101160_14947',\n",
       " '97177_5918',\n",
       " '34320_44267',\n",
       " '29282_5716',\n",
       " '114403_27336',\n",
       " '102438_39450',\n",
       " '60568_47626',\n",
       " '182406_29987',\n",
       " '183990_32655',\n",
       " '137457_21137',\n",
       " '123050_16479',\n",
       " '102790_49354',\n",
       " '194978_10326',\n",
       " '150290_27086',\n",
       " '50409_39275',\n",
       " '42448_42258',\n",
       " '162021_23236',\n",
       " '189875_20114',\n",
       " '110463_27845',\n",
       " '34054_34429',\n",
       " '45613_40545',\n",
       " '56004_27370',\n",
       " '80700_27966',\n",
       " '36922_31043',\n",
       " '144560_44170',\n",
       " '20113_24852',\n",
       " '102741_6532',\n",
       " '189069_1215',\n",
       " '47162_37687',\n",
       " '22900_28427',\n",
       " '83734_41290',\n",
       " '202605_48220',\n",
       " '65188_44125',\n",
       " '49935_15772',\n",
       " '71610_2519',\n",
       " '25209_117',\n",
       " '203717_9660',\n",
       " '201069_49273',\n",
       " '144809_32650',\n",
       " '78283_17183',\n",
       " '176818_23094',\n",
       " '163485_44277',\n",
       " '74331_43394',\n",
       " '9916_8736',\n",
       " '153468_49235',\n",
       " '100517_21390',\n",
       " '34218_14277',\n",
       " '112477_12975',\n",
       " '150971_21903',\n",
       " '122308_2471',\n",
       " '138144_14941',\n",
       " '158663_26209',\n",
       " '99978_33316',\n",
       " '99807_23815',\n",
       " '148618_26201',\n",
       " '179442_18811',\n",
       " '32992_3434',\n",
       " '122860_31997',\n",
       " '148967_3431',\n",
       " '14509_47766',\n",
       " '152786_5785',\n",
       " '120077_34146',\n",
       " '186554_6184',\n",
       " '111819_15016',\n",
       " '153468_30450',\n",
       " '30433_17706',\n",
       " '14495_25745',\n",
       " '137407_48679',\n",
       " '142538_13176',\n",
       " '40148_25587',\n",
       " '83503_12341',\n",
       " '69230_8277',\n",
       " '11675_8239',\n",
       " '5797_11520',\n",
       " '157326_42828',\n",
       " '137138_46266',\n",
       " '197619_38511',\n",
       " '57860_35279',\n",
       " '108733_7179',\n",
       " '359_16220',\n",
       " '52203_37098',\n",
       " '142957_20120',\n",
       " '32732_32650',\n",
       " '19467_46906',\n",
       " '101121_31958',\n",
       " '170531_35638',\n",
       " '43888_17335',\n",
       " '48897_13176',\n",
       " '16438_13176',\n",
       " '3032_8269',\n",
       " '99371_28373',\n",
       " '113311_40961',\n",
       " '165374_23271',\n",
       " '20348_4605',\n",
       " '159599_13806',\n",
       " '43888_48455',\n",
       " '201908_45123',\n",
       " '134056_24810',\n",
       " '38365_24747',\n",
       " '148968_38883',\n",
       " '110608_18176',\n",
       " '36936_35619',\n",
       " '153875_44268',\n",
       " '170531_46719',\n",
       " '123563_9383',\n",
       " '156073_46708',\n",
       " '50743_3464',\n",
       " ...}"
      ]
     },
     "execution_count": 1179,
     "metadata": {},
     "output_type": "execute_result"
    }
   ],
   "source": [
    "# user_product unique key\n",
    "train_unique_key = set(train_details['user_id'].astype('str') + '_' + train_details['product_id'].astype('str'))\n",
    "train_unique_key"
   ]
  },
  {
   "cell_type": "code",
   "execution_count": 1180,
   "metadata": {},
   "outputs": [],
   "source": [
    "# user_id that we care for predictions\n",
    "# create a set for easier search\n",
    "train_user_id = set(train_details.user_id)"
   ]
  },
  {
   "cell_type": "markdown",
   "metadata": {},
   "source": [
    "### 5.2 prior_details (order_product_prior_details)"
   ]
  },
  {
   "cell_type": "code",
   "execution_count": 1181,
   "metadata": {},
   "outputs": [
    {
     "data": {
      "text/html": [
       "<div>\n",
       "<style scoped>\n",
       "    .dataframe tbody tr th:only-of-type {\n",
       "        vertical-align: middle;\n",
       "    }\n",
       "\n",
       "    .dataframe tbody tr th {\n",
       "        vertical-align: top;\n",
       "    }\n",
       "\n",
       "    .dataframe thead th {\n",
       "        text-align: right;\n",
       "    }\n",
       "</style>\n",
       "<table border=\"1\" class=\"dataframe\">\n",
       "  <thead>\n",
       "    <tr style=\"text-align: right;\">\n",
       "      <th></th>\n",
       "      <th>order_id</th>\n",
       "      <th>product_id</th>\n",
       "      <th>add_to_cart_order</th>\n",
       "      <th>reordered</th>\n",
       "      <th>user_id</th>\n",
       "      <th>eval_set</th>\n",
       "      <th>order_number</th>\n",
       "      <th>order_dow</th>\n",
       "      <th>order_hour_of_day</th>\n",
       "      <th>days_since_prior_order</th>\n",
       "    </tr>\n",
       "  </thead>\n",
       "  <tbody>\n",
       "    <tr>\n",
       "      <th>0</th>\n",
       "      <td>12</td>\n",
       "      <td>30597</td>\n",
       "      <td>1</td>\n",
       "      <td>1</td>\n",
       "      <td>152610</td>\n",
       "      <td>prior</td>\n",
       "      <td>22</td>\n",
       "      <td>6</td>\n",
       "      <td>8</td>\n",
       "      <td>10.0</td>\n",
       "    </tr>\n",
       "    <tr>\n",
       "      <th>1</th>\n",
       "      <td>12</td>\n",
       "      <td>15221</td>\n",
       "      <td>2</td>\n",
       "      <td>1</td>\n",
       "      <td>152610</td>\n",
       "      <td>prior</td>\n",
       "      <td>22</td>\n",
       "      <td>6</td>\n",
       "      <td>8</td>\n",
       "      <td>10.0</td>\n",
       "    </tr>\n",
       "    <tr>\n",
       "      <th>2</th>\n",
       "      <td>12</td>\n",
       "      <td>43772</td>\n",
       "      <td>3</td>\n",
       "      <td>1</td>\n",
       "      <td>152610</td>\n",
       "      <td>prior</td>\n",
       "      <td>22</td>\n",
       "      <td>6</td>\n",
       "      <td>8</td>\n",
       "      <td>10.0</td>\n",
       "    </tr>\n",
       "    <tr>\n",
       "      <th>3</th>\n",
       "      <td>12</td>\n",
       "      <td>37886</td>\n",
       "      <td>4</td>\n",
       "      <td>1</td>\n",
       "      <td>152610</td>\n",
       "      <td>prior</td>\n",
       "      <td>22</td>\n",
       "      <td>6</td>\n",
       "      <td>8</td>\n",
       "      <td>10.0</td>\n",
       "    </tr>\n",
       "    <tr>\n",
       "      <th>4</th>\n",
       "      <td>12</td>\n",
       "      <td>37215</td>\n",
       "      <td>5</td>\n",
       "      <td>0</td>\n",
       "      <td>152610</td>\n",
       "      <td>prior</td>\n",
       "      <td>22</td>\n",
       "      <td>6</td>\n",
       "      <td>8</td>\n",
       "      <td>10.0</td>\n",
       "    </tr>\n",
       "  </tbody>\n",
       "</table>\n",
       "</div>"
      ],
      "text/plain": [
       "   order_id  product_id  add_to_cart_order  reordered  user_id eval_set  \\\n",
       "0        12       30597                  1          1   152610    prior   \n",
       "1        12       15221                  2          1   152610    prior   \n",
       "2        12       43772                  3          1   152610    prior   \n",
       "3        12       37886                  4          1   152610    prior   \n",
       "4        12       37215                  5          0   152610    prior   \n",
       "\n",
       "   order_number  order_dow  order_hour_of_day  days_since_prior_order  \n",
       "0            22          6                  8                    10.0  \n",
       "1            22          6                  8                    10.0  \n",
       "2            22          6                  8                    10.0  \n",
       "3            22          6                  8                    10.0  \n",
       "4            22          6                  8                    10.0  "
      ]
     },
     "execution_count": 1181,
     "metadata": {},
     "output_type": "execute_result"
    }
   ],
   "source": [
    "prior_details = order_products_prior.merge(orders, on='order_id')\n",
    "prior_details.head()"
   ]
  },
  {
   "cell_type": "code",
   "execution_count": 1182,
   "metadata": {},
   "outputs": [
    {
     "data": {
      "text/plain": [
       "0    152610_30597\n",
       "1    152610_15221\n",
       "2    152610_43772\n",
       "3    152610_37886\n",
       "4    152610_37215\n",
       "dtype: object"
      ]
     },
     "execution_count": 1182,
     "metadata": {},
     "output_type": "execute_result"
    }
   ],
   "source": [
    "# user_product unique key\n",
    "prior_unique_key = prior_details['user_id'].astype('str') + '_' + prior_details['product_id'].astype('str')\n",
    "prior_unique_key.head()"
   ]
  },
  {
   "cell_type": "markdown",
   "metadata": {},
   "source": [
    "### 5.3 Real model label\n",
    "Create the model data based on the prior dataset"
   ]
  },
  {
   "cell_type": "code",
   "execution_count": 1183,
   "metadata": {},
   "outputs": [
    {
     "data": {
      "text/plain": [
       "(793924, 2)"
      ]
     },
     "execution_count": 1183,
     "metadata": {},
     "output_type": "execute_result"
    }
   ],
   "source": [
    "# we only care about the users in the prior dataset that also appeared in the train dataset\n",
    "model_data = prior_details[prior_details.user_id.isin(train_user_id)][['user_id', 'product_id']]\n",
    "model_data.shape"
   ]
  },
  {
   "cell_type": "code",
   "execution_count": 1184,
   "metadata": {},
   "outputs": [
    {
     "data": {
      "text/plain": [
       "(329806, 2)"
      ]
     },
     "execution_count": 1184,
     "metadata": {},
     "output_type": "execute_result"
    }
   ],
   "source": [
    "# one user and one product only has one row\n",
    "# there are lots of duplicates because some products were reordered several times\n",
    "model_data = model_data.drop_duplicates(subset=['user_id','product_id'])\n",
    "model_data.shape"
   ]
  },
  {
   "cell_type": "code",
   "execution_count": 1185,
   "metadata": {},
   "outputs": [],
   "source": [
    "model_data['unique_key'] = model_data['user_id'].astype('str') + '_' + model_data['product_id'].astype('str')"
   ]
  },
  {
   "cell_type": "code",
   "execution_count": 1186,
   "metadata": {},
   "outputs": [
    {
     "data": {
      "text/html": [
       "<div>\n",
       "<style scoped>\n",
       "    .dataframe tbody tr th:only-of-type {\n",
       "        vertical-align: middle;\n",
       "    }\n",
       "\n",
       "    .dataframe tbody tr th {\n",
       "        vertical-align: top;\n",
       "    }\n",
       "\n",
       "    .dataframe thead th {\n",
       "        text-align: right;\n",
       "    }\n",
       "</style>\n",
       "<table border=\"1\" class=\"dataframe\">\n",
       "  <thead>\n",
       "    <tr style=\"text-align: right;\">\n",
       "      <th></th>\n",
       "      <th>user_id</th>\n",
       "      <th>product_id</th>\n",
       "      <th>unique_key</th>\n",
       "      <th>label</th>\n",
       "    </tr>\n",
       "  </thead>\n",
       "  <tbody>\n",
       "    <tr>\n",
       "      <th>0</th>\n",
       "      <td>152610</td>\n",
       "      <td>30597</td>\n",
       "      <td>152610_30597</td>\n",
       "      <td>0</td>\n",
       "    </tr>\n",
       "    <tr>\n",
       "      <th>1</th>\n",
       "      <td>152610</td>\n",
       "      <td>15221</td>\n",
       "      <td>152610_15221</td>\n",
       "      <td>0</td>\n",
       "    </tr>\n",
       "    <tr>\n",
       "      <th>2</th>\n",
       "      <td>152610</td>\n",
       "      <td>43772</td>\n",
       "      <td>152610_43772</td>\n",
       "      <td>0</td>\n",
       "    </tr>\n",
       "    <tr>\n",
       "      <th>3</th>\n",
       "      <td>152610</td>\n",
       "      <td>37886</td>\n",
       "      <td>152610_37886</td>\n",
       "      <td>0</td>\n",
       "    </tr>\n",
       "    <tr>\n",
       "      <th>4</th>\n",
       "      <td>152610</td>\n",
       "      <td>37215</td>\n",
       "      <td>152610_37215</td>\n",
       "      <td>0</td>\n",
       "    </tr>\n",
       "  </tbody>\n",
       "</table>\n",
       "</div>"
      ],
      "text/plain": [
       "   user_id  product_id    unique_key  label\n",
       "0   152610       30597  152610_30597      0\n",
       "1   152610       15221  152610_15221      0\n",
       "2   152610       43772  152610_43772      0\n",
       "3   152610       37886  152610_37886      0\n",
       "4   152610       37215  152610_37215      0"
      ]
     },
     "execution_count": 1186,
     "metadata": {},
     "output_type": "execute_result"
    }
   ],
   "source": [
    "# create label\n",
    "# label = 1: the user bought the product both in prior and in train\n",
    "model_data['label'] = 0\n",
    "model_data.loc[model_data.unique_key.isin(train_unique_key), 'label'] = 1\n",
    "model_data.head()"
   ]
  },
  {
   "cell_type": "code",
   "execution_count": 1187,
   "metadata": {},
   "outputs": [
    {
     "data": {
      "text/plain": [
       "(329806, 4)"
      ]
     },
     "execution_count": 1187,
     "metadata": {},
     "output_type": "execute_result"
    }
   ],
   "source": [
    "model_data.shape"
   ]
  },
  {
   "cell_type": "code",
   "execution_count": 1188,
   "metadata": {},
   "outputs": [
    {
     "data": {
      "text/plain": [
       "0    297467\n",
       "1     32339\n",
       "Name: label, dtype: int64"
      ]
     },
     "execution_count": 1188,
     "metadata": {},
     "output_type": "execute_result"
    }
   ],
   "source": [
    "model_data['label'].value_counts()"
   ]
  },
  {
   "cell_type": "markdown",
   "metadata": {},
   "source": [
    "## 6. Construct Model Features"
   ]
  },
  {
   "cell_type": "markdown",
   "metadata": {},
   "source": [
    "### 6.1 user_product activity features"
   ]
  },
  {
   "cell_type": "code",
   "execution_count": 1189,
   "metadata": {},
   "outputs": [],
   "source": [
    "user_product_features = ['user_product__total_orders',\n",
    "                         'user_product__add_to_cart_order_mean',\n",
    "                         'user_product__reordered_mean',\n",
    "                         'user_product__dow_mode',\n",
    "                         'user_product__hod_mode']"
   ]
  },
  {
   "cell_type": "code",
   "execution_count": 1190,
   "metadata": {},
   "outputs": [],
   "source": [
    "df_user_product_features = prior_details[prior_details.user_id.isin(train_user_id)].\\\n",
    "                           groupby(['product_id', 'user_id'], as_index=False).\\\n",
    "                           agg(OrderedDict(\n",
    "                           [('order_id','nunique'), \n",
    "                            ('add_to_cart_order','mean'), \n",
    "                            ('reordered','mean'), \n",
    "                            ('order_dow', (lambda x:  x.mode()[0])), \n",
    "                            ('order_hour_of_day', (lambda x: x.mode()[0]))]))"
   ]
  },
  {
   "cell_type": "code",
   "execution_count": 1191,
   "metadata": {},
   "outputs": [],
   "source": [
    "df_user_product_features.columns = ['product_id', 'user_id'] + user_product_features"
   ]
  },
  {
   "cell_type": "code",
   "execution_count": 1192,
   "metadata": {},
   "outputs": [
    {
     "data": {
      "text/html": [
       "<div>\n",
       "<style scoped>\n",
       "    .dataframe tbody tr th:only-of-type {\n",
       "        vertical-align: middle;\n",
       "    }\n",
       "\n",
       "    .dataframe tbody tr th {\n",
       "        vertical-align: top;\n",
       "    }\n",
       "\n",
       "    .dataframe thead th {\n",
       "        text-align: right;\n",
       "    }\n",
       "</style>\n",
       "<table border=\"1\" class=\"dataframe\">\n",
       "  <thead>\n",
       "    <tr style=\"text-align: right;\">\n",
       "      <th></th>\n",
       "      <th>product_id</th>\n",
       "      <th>user_id</th>\n",
       "      <th>user_product__total_orders</th>\n",
       "      <th>user_product__add_to_cart_order_mean</th>\n",
       "      <th>user_product__reordered_mean</th>\n",
       "      <th>user_product__dow_mode</th>\n",
       "      <th>user_product__hod_mode</th>\n",
       "    </tr>\n",
       "  </thead>\n",
       "  <tbody>\n",
       "    <tr>\n",
       "      <th>0</th>\n",
       "      <td>1</td>\n",
       "      <td>21285</td>\n",
       "      <td>1</td>\n",
       "      <td>3.0</td>\n",
       "      <td>0.00</td>\n",
       "      <td>0</td>\n",
       "      <td>15</td>\n",
       "    </tr>\n",
       "    <tr>\n",
       "      <th>1</th>\n",
       "      <td>1</td>\n",
       "      <td>47549</td>\n",
       "      <td>4</td>\n",
       "      <td>4.0</td>\n",
       "      <td>0.75</td>\n",
       "      <td>2</td>\n",
       "      <td>14</td>\n",
       "    </tr>\n",
       "    <tr>\n",
       "      <th>2</th>\n",
       "      <td>1</td>\n",
       "      <td>54136</td>\n",
       "      <td>1</td>\n",
       "      <td>3.0</td>\n",
       "      <td>0.00</td>\n",
       "      <td>2</td>\n",
       "      <td>13</td>\n",
       "    </tr>\n",
       "    <tr>\n",
       "      <th>3</th>\n",
       "      <td>1</td>\n",
       "      <td>54240</td>\n",
       "      <td>1</td>\n",
       "      <td>2.0</td>\n",
       "      <td>0.00</td>\n",
       "      <td>2</td>\n",
       "      <td>16</td>\n",
       "    </tr>\n",
       "    <tr>\n",
       "      <th>4</th>\n",
       "      <td>1</td>\n",
       "      <td>95730</td>\n",
       "      <td>1</td>\n",
       "      <td>1.0</td>\n",
       "      <td>0.00</td>\n",
       "      <td>1</td>\n",
       "      <td>14</td>\n",
       "    </tr>\n",
       "  </tbody>\n",
       "</table>\n",
       "</div>"
      ],
      "text/plain": [
       "   product_id  user_id  user_product__total_orders  \\\n",
       "0           1    21285                           1   \n",
       "1           1    47549                           4   \n",
       "2           1    54136                           1   \n",
       "3           1    54240                           1   \n",
       "4           1    95730                           1   \n",
       "\n",
       "   user_product__add_to_cart_order_mean  user_product__reordered_mean  \\\n",
       "0                                   3.0                          0.00   \n",
       "1                                   4.0                          0.75   \n",
       "2                                   3.0                          0.00   \n",
       "3                                   2.0                          0.00   \n",
       "4                                   1.0                          0.00   \n",
       "\n",
       "   user_product__dow_mode  user_product__hod_mode  \n",
       "0                       0                      15  \n",
       "1                       2                      14  \n",
       "2                       2                      13  \n",
       "3                       2                      16  \n",
       "4                       1                      14  "
      ]
     },
     "execution_count": 1192,
     "metadata": {},
     "output_type": "execute_result"
    }
   ],
   "source": [
    "df_user_product_features.head()"
   ]
  },
  {
   "cell_type": "code",
   "execution_count": 1193,
   "metadata": {},
   "outputs": [],
   "source": [
    "model_all_data = df_user_product_features.merge(model_data, on=['user_id', 'product_id'])"
   ]
  },
  {
   "cell_type": "code",
   "execution_count": 1194,
   "metadata": {},
   "outputs": [
    {
     "data": {
      "text/html": [
       "<div>\n",
       "<style scoped>\n",
       "    .dataframe tbody tr th:only-of-type {\n",
       "        vertical-align: middle;\n",
       "    }\n",
       "\n",
       "    .dataframe tbody tr th {\n",
       "        vertical-align: top;\n",
       "    }\n",
       "\n",
       "    .dataframe thead th {\n",
       "        text-align: right;\n",
       "    }\n",
       "</style>\n",
       "<table border=\"1\" class=\"dataframe\">\n",
       "  <thead>\n",
       "    <tr style=\"text-align: right;\">\n",
       "      <th></th>\n",
       "      <th>product_id</th>\n",
       "      <th>user_id</th>\n",
       "      <th>user_product__total_orders</th>\n",
       "      <th>user_product__add_to_cart_order_mean</th>\n",
       "      <th>user_product__reordered_mean</th>\n",
       "      <th>user_product__dow_mode</th>\n",
       "      <th>user_product__hod_mode</th>\n",
       "      <th>unique_key</th>\n",
       "      <th>label</th>\n",
       "    </tr>\n",
       "  </thead>\n",
       "  <tbody>\n",
       "    <tr>\n",
       "      <th>0</th>\n",
       "      <td>1</td>\n",
       "      <td>21285</td>\n",
       "      <td>1</td>\n",
       "      <td>3.0</td>\n",
       "      <td>0.00</td>\n",
       "      <td>0</td>\n",
       "      <td>15</td>\n",
       "      <td>21285_1</td>\n",
       "      <td>0</td>\n",
       "    </tr>\n",
       "    <tr>\n",
       "      <th>1</th>\n",
       "      <td>1</td>\n",
       "      <td>47549</td>\n",
       "      <td>4</td>\n",
       "      <td>4.0</td>\n",
       "      <td>0.75</td>\n",
       "      <td>2</td>\n",
       "      <td>14</td>\n",
       "      <td>47549_1</td>\n",
       "      <td>0</td>\n",
       "    </tr>\n",
       "    <tr>\n",
       "      <th>2</th>\n",
       "      <td>1</td>\n",
       "      <td>54136</td>\n",
       "      <td>1</td>\n",
       "      <td>3.0</td>\n",
       "      <td>0.00</td>\n",
       "      <td>2</td>\n",
       "      <td>13</td>\n",
       "      <td>54136_1</td>\n",
       "      <td>0</td>\n",
       "    </tr>\n",
       "    <tr>\n",
       "      <th>3</th>\n",
       "      <td>1</td>\n",
       "      <td>54240</td>\n",
       "      <td>1</td>\n",
       "      <td>2.0</td>\n",
       "      <td>0.00</td>\n",
       "      <td>2</td>\n",
       "      <td>16</td>\n",
       "      <td>54240_1</td>\n",
       "      <td>0</td>\n",
       "    </tr>\n",
       "    <tr>\n",
       "      <th>4</th>\n",
       "      <td>1</td>\n",
       "      <td>95730</td>\n",
       "      <td>1</td>\n",
       "      <td>1.0</td>\n",
       "      <td>0.00</td>\n",
       "      <td>1</td>\n",
       "      <td>14</td>\n",
       "      <td>95730_1</td>\n",
       "      <td>0</td>\n",
       "    </tr>\n",
       "  </tbody>\n",
       "</table>\n",
       "</div>"
      ],
      "text/plain": [
       "   product_id  user_id  user_product__total_orders  \\\n",
       "0           1    21285                           1   \n",
       "1           1    47549                           4   \n",
       "2           1    54136                           1   \n",
       "3           1    54240                           1   \n",
       "4           1    95730                           1   \n",
       "\n",
       "   user_product__add_to_cart_order_mean  user_product__reordered_mean  \\\n",
       "0                                   3.0                          0.00   \n",
       "1                                   4.0                          0.75   \n",
       "2                                   3.0                          0.00   \n",
       "3                                   2.0                          0.00   \n",
       "4                                   1.0                          0.00   \n",
       "\n",
       "   user_product__dow_mode  user_product__hod_mode unique_key  label  \n",
       "0                       0                      15    21285_1      0  \n",
       "1                       2                      14    47549_1      0  \n",
       "2                       2                      13    54136_1      0  \n",
       "3                       2                      16    54240_1      0  \n",
       "4                       1                      14    95730_1      0  "
      ]
     },
     "execution_count": 1194,
     "metadata": {},
     "output_type": "execute_result"
    }
   ],
   "source": [
    "model_all_data.head()"
   ]
  },
  {
   "cell_type": "markdown",
   "metadata": {},
   "source": [
    "### 6.2 product features"
   ]
  },
  {
   "cell_type": "code",
   "execution_count": 1195,
   "metadata": {},
   "outputs": [],
   "source": [
    "product_features = ['product__total_orders',\n",
    "                    'product__add_to_cart_order_mean',\n",
    "                    'product__total_users',\n",
    "                    'product__reordered_mean',\n",
    "                    'product__dow_mode',\n",
    "                    'product__hod_mode',\n",
    "                    'product__days_since_prior_order_mean']"
   ]
  },
  {
   "cell_type": "code",
   "execution_count": 1196,
   "metadata": {},
   "outputs": [],
   "source": [
    "df_product_features = prior_details[prior_details.user_id.isin(train_user_id)].\\\n",
    "                      groupby(['product_id'], as_index=False).\\\n",
    "                      agg(OrderedDict(\n",
    "                      [('order_id','nunique'), \n",
    "                       ('add_to_cart_order','mean'), \n",
    "                       ('user_id', 'nunique'),\n",
    "                       ('reordered','mean'), \n",
    "                       ('order_dow', (lambda x: x.mode()[0])), \n",
    "                       ('order_hour_of_day', (lambda x: x.mode()[0])),\n",
    "                       ('days_since_prior_order', 'mean')]))"
   ]
  },
  {
   "cell_type": "code",
   "execution_count": 1197,
   "metadata": {},
   "outputs": [],
   "source": [
    "df_product_features.columns = ['product_id'] + product_features"
   ]
  },
  {
   "cell_type": "code",
   "execution_count": 1198,
   "metadata": {},
   "outputs": [
    {
     "data": {
      "text/html": [
       "<div>\n",
       "<style scoped>\n",
       "    .dataframe tbody tr th:only-of-type {\n",
       "        vertical-align: middle;\n",
       "    }\n",
       "\n",
       "    .dataframe tbody tr th {\n",
       "        vertical-align: top;\n",
       "    }\n",
       "\n",
       "    .dataframe thead th {\n",
       "        text-align: right;\n",
       "    }\n",
       "</style>\n",
       "<table border=\"1\" class=\"dataframe\">\n",
       "  <thead>\n",
       "    <tr style=\"text-align: right;\">\n",
       "      <th></th>\n",
       "      <th>product_id</th>\n",
       "      <th>product__total_orders</th>\n",
       "      <th>product__add_to_cart_order_mean</th>\n",
       "      <th>product__total_users</th>\n",
       "      <th>product__reordered_mean</th>\n",
       "      <th>product__dow_mode</th>\n",
       "      <th>product__hod_mode</th>\n",
       "      <th>product__days_since_prior_order_mean</th>\n",
       "    </tr>\n",
       "  </thead>\n",
       "  <tbody>\n",
       "    <tr>\n",
       "      <th>0</th>\n",
       "      <td>1</td>\n",
       "      <td>26</td>\n",
       "      <td>4.576923</td>\n",
       "      <td>12</td>\n",
       "      <td>0.538462</td>\n",
       "      <td>3</td>\n",
       "      <td>10</td>\n",
       "      <td>16.280000</td>\n",
       "    </tr>\n",
       "    <tr>\n",
       "      <th>1</th>\n",
       "      <td>2</td>\n",
       "      <td>1</td>\n",
       "      <td>3.000000</td>\n",
       "      <td>1</td>\n",
       "      <td>0.000000</td>\n",
       "      <td>4</td>\n",
       "      <td>12</td>\n",
       "      <td>2.000000</td>\n",
       "    </tr>\n",
       "    <tr>\n",
       "      <th>2</th>\n",
       "      <td>3</td>\n",
       "      <td>1</td>\n",
       "      <td>4.000000</td>\n",
       "      <td>1</td>\n",
       "      <td>0.000000</td>\n",
       "      <td>4</td>\n",
       "      <td>17</td>\n",
       "      <td>30.000000</td>\n",
       "    </tr>\n",
       "    <tr>\n",
       "      <th>3</th>\n",
       "      <td>4</td>\n",
       "      <td>10</td>\n",
       "      <td>8.100000</td>\n",
       "      <td>5</td>\n",
       "      <td>0.500000</td>\n",
       "      <td>1</td>\n",
       "      <td>9</td>\n",
       "      <td>21.888889</td>\n",
       "    </tr>\n",
       "    <tr>\n",
       "      <th>4</th>\n",
       "      <td>8</td>\n",
       "      <td>1</td>\n",
       "      <td>25.000000</td>\n",
       "      <td>1</td>\n",
       "      <td>0.000000</td>\n",
       "      <td>0</td>\n",
       "      <td>13</td>\n",
       "      <td>30.000000</td>\n",
       "    </tr>\n",
       "  </tbody>\n",
       "</table>\n",
       "</div>"
      ],
      "text/plain": [
       "   product_id  product__total_orders  product__add_to_cart_order_mean  \\\n",
       "0           1                     26                         4.576923   \n",
       "1           2                      1                         3.000000   \n",
       "2           3                      1                         4.000000   \n",
       "3           4                     10                         8.100000   \n",
       "4           8                      1                        25.000000   \n",
       "\n",
       "   product__total_users  product__reordered_mean  product__dow_mode  \\\n",
       "0                    12                 0.538462                  3   \n",
       "1                     1                 0.000000                  4   \n",
       "2                     1                 0.000000                  4   \n",
       "3                     5                 0.500000                  1   \n",
       "4                     1                 0.000000                  0   \n",
       "\n",
       "   product__hod_mode  product__days_since_prior_order_mean  \n",
       "0                 10                             16.280000  \n",
       "1                 12                              2.000000  \n",
       "2                 17                             30.000000  \n",
       "3                  9                             21.888889  \n",
       "4                 13                             30.000000  "
      ]
     },
     "execution_count": 1198,
     "metadata": {},
     "output_type": "execute_result"
    }
   ],
   "source": [
    "df_product_features.head()"
   ]
  },
  {
   "cell_type": "code",
   "execution_count": 1199,
   "metadata": {},
   "outputs": [],
   "source": [
    "model_all_data = df_product_features.merge(model_all_data, on=['product_id'])"
   ]
  },
  {
   "cell_type": "code",
   "execution_count": 1200,
   "metadata": {},
   "outputs": [],
   "source": [
    "# extra info in the products table\n",
    "model_all_data = model_all_data.merge(products[['product_id', 'aisle_id', 'department_id']],\\\n",
    "                                     on = 'product_id')"
   ]
  },
  {
   "cell_type": "code",
   "execution_count": 1201,
   "metadata": {},
   "outputs": [],
   "source": [
    "model_all_data.rename(columns={'aisle_id': 'product__aisle_id', 'department_id': 'product__department'}, inplace=True)"
   ]
  },
  {
   "cell_type": "code",
   "execution_count": 1202,
   "metadata": {},
   "outputs": [
    {
     "data": {
      "text/html": [
       "<div>\n",
       "<style scoped>\n",
       "    .dataframe tbody tr th:only-of-type {\n",
       "        vertical-align: middle;\n",
       "    }\n",
       "\n",
       "    .dataframe tbody tr th {\n",
       "        vertical-align: top;\n",
       "    }\n",
       "\n",
       "    .dataframe thead th {\n",
       "        text-align: right;\n",
       "    }\n",
       "</style>\n",
       "<table border=\"1\" class=\"dataframe\">\n",
       "  <thead>\n",
       "    <tr style=\"text-align: right;\">\n",
       "      <th></th>\n",
       "      <th>product_id</th>\n",
       "      <th>product__total_orders</th>\n",
       "      <th>product__add_to_cart_order_mean</th>\n",
       "      <th>product__total_users</th>\n",
       "      <th>product__reordered_mean</th>\n",
       "      <th>product__dow_mode</th>\n",
       "      <th>product__hod_mode</th>\n",
       "      <th>product__days_since_prior_order_mean</th>\n",
       "      <th>user_id</th>\n",
       "      <th>user_product__total_orders</th>\n",
       "      <th>user_product__add_to_cart_order_mean</th>\n",
       "      <th>user_product__reordered_mean</th>\n",
       "      <th>user_product__dow_mode</th>\n",
       "      <th>user_product__hod_mode</th>\n",
       "      <th>unique_key</th>\n",
       "      <th>label</th>\n",
       "      <th>product__aisle_id</th>\n",
       "      <th>product__department</th>\n",
       "    </tr>\n",
       "  </thead>\n",
       "  <tbody>\n",
       "    <tr>\n",
       "      <th>0</th>\n",
       "      <td>1</td>\n",
       "      <td>26</td>\n",
       "      <td>4.576923</td>\n",
       "      <td>12</td>\n",
       "      <td>0.538462</td>\n",
       "      <td>3</td>\n",
       "      <td>10</td>\n",
       "      <td>16.28</td>\n",
       "      <td>21285</td>\n",
       "      <td>1</td>\n",
       "      <td>3.0</td>\n",
       "      <td>0.00</td>\n",
       "      <td>0</td>\n",
       "      <td>15</td>\n",
       "      <td>21285_1</td>\n",
       "      <td>0</td>\n",
       "      <td>61</td>\n",
       "      <td>19</td>\n",
       "    </tr>\n",
       "    <tr>\n",
       "      <th>1</th>\n",
       "      <td>1</td>\n",
       "      <td>26</td>\n",
       "      <td>4.576923</td>\n",
       "      <td>12</td>\n",
       "      <td>0.538462</td>\n",
       "      <td>3</td>\n",
       "      <td>10</td>\n",
       "      <td>16.28</td>\n",
       "      <td>47549</td>\n",
       "      <td>4</td>\n",
       "      <td>4.0</td>\n",
       "      <td>0.75</td>\n",
       "      <td>2</td>\n",
       "      <td>14</td>\n",
       "      <td>47549_1</td>\n",
       "      <td>0</td>\n",
       "      <td>61</td>\n",
       "      <td>19</td>\n",
       "    </tr>\n",
       "    <tr>\n",
       "      <th>2</th>\n",
       "      <td>1</td>\n",
       "      <td>26</td>\n",
       "      <td>4.576923</td>\n",
       "      <td>12</td>\n",
       "      <td>0.538462</td>\n",
       "      <td>3</td>\n",
       "      <td>10</td>\n",
       "      <td>16.28</td>\n",
       "      <td>54136</td>\n",
       "      <td>1</td>\n",
       "      <td>3.0</td>\n",
       "      <td>0.00</td>\n",
       "      <td>2</td>\n",
       "      <td>13</td>\n",
       "      <td>54136_1</td>\n",
       "      <td>0</td>\n",
       "      <td>61</td>\n",
       "      <td>19</td>\n",
       "    </tr>\n",
       "    <tr>\n",
       "      <th>3</th>\n",
       "      <td>1</td>\n",
       "      <td>26</td>\n",
       "      <td>4.576923</td>\n",
       "      <td>12</td>\n",
       "      <td>0.538462</td>\n",
       "      <td>3</td>\n",
       "      <td>10</td>\n",
       "      <td>16.28</td>\n",
       "      <td>54240</td>\n",
       "      <td>1</td>\n",
       "      <td>2.0</td>\n",
       "      <td>0.00</td>\n",
       "      <td>2</td>\n",
       "      <td>16</td>\n",
       "      <td>54240_1</td>\n",
       "      <td>0</td>\n",
       "      <td>61</td>\n",
       "      <td>19</td>\n",
       "    </tr>\n",
       "    <tr>\n",
       "      <th>4</th>\n",
       "      <td>1</td>\n",
       "      <td>26</td>\n",
       "      <td>4.576923</td>\n",
       "      <td>12</td>\n",
       "      <td>0.538462</td>\n",
       "      <td>3</td>\n",
       "      <td>10</td>\n",
       "      <td>16.28</td>\n",
       "      <td>95730</td>\n",
       "      <td>1</td>\n",
       "      <td>1.0</td>\n",
       "      <td>0.00</td>\n",
       "      <td>1</td>\n",
       "      <td>14</td>\n",
       "      <td>95730_1</td>\n",
       "      <td>0</td>\n",
       "      <td>61</td>\n",
       "      <td>19</td>\n",
       "    </tr>\n",
       "  </tbody>\n",
       "</table>\n",
       "</div>"
      ],
      "text/plain": [
       "   product_id  product__total_orders  product__add_to_cart_order_mean  \\\n",
       "0           1                     26                         4.576923   \n",
       "1           1                     26                         4.576923   \n",
       "2           1                     26                         4.576923   \n",
       "3           1                     26                         4.576923   \n",
       "4           1                     26                         4.576923   \n",
       "\n",
       "   product__total_users  product__reordered_mean  product__dow_mode  \\\n",
       "0                    12                 0.538462                  3   \n",
       "1                    12                 0.538462                  3   \n",
       "2                    12                 0.538462                  3   \n",
       "3                    12                 0.538462                  3   \n",
       "4                    12                 0.538462                  3   \n",
       "\n",
       "   product__hod_mode  product__days_since_prior_order_mean  user_id  \\\n",
       "0                 10                                 16.28    21285   \n",
       "1                 10                                 16.28    47549   \n",
       "2                 10                                 16.28    54136   \n",
       "3                 10                                 16.28    54240   \n",
       "4                 10                                 16.28    95730   \n",
       "\n",
       "   user_product__total_orders  user_product__add_to_cart_order_mean  \\\n",
       "0                           1                                   3.0   \n",
       "1                           4                                   4.0   \n",
       "2                           1                                   3.0   \n",
       "3                           1                                   2.0   \n",
       "4                           1                                   1.0   \n",
       "\n",
       "   user_product__reordered_mean  user_product__dow_mode  \\\n",
       "0                          0.00                       0   \n",
       "1                          0.75                       2   \n",
       "2                          0.00                       2   \n",
       "3                          0.00                       2   \n",
       "4                          0.00                       1   \n",
       "\n",
       "   user_product__hod_mode unique_key  label  product__aisle_id  \\\n",
       "0                      15    21285_1      0                 61   \n",
       "1                      14    47549_1      0                 61   \n",
       "2                      13    54136_1      0                 61   \n",
       "3                      16    54240_1      0                 61   \n",
       "4                      14    95730_1      0                 61   \n",
       "\n",
       "   product__department  \n",
       "0                   19  \n",
       "1                   19  \n",
       "2                   19  \n",
       "3                   19  \n",
       "4                   19  "
      ]
     },
     "execution_count": 1202,
     "metadata": {},
     "output_type": "execute_result"
    }
   ],
   "source": [
    "model_all_data.head()"
   ]
  },
  {
   "cell_type": "markdown",
   "metadata": {},
   "source": [
    "### 6.3 user features"
   ]
  },
  {
   "cell_type": "code",
   "execution_count": 1203,
   "metadata": {},
   "outputs": [],
   "source": [
    "user_features = ['user__total_orders',\n",
    "                 'user__total_product',\n",
    "                 'user__days_since_prior_order_mean',\n",
    "                 'user__reordered_mean',\n",
    "                 'user__dow_mode',\n",
    "                 'user__hod_mode']"
   ]
  },
  {
   "cell_type": "code",
   "execution_count": 1204,
   "metadata": {},
   "outputs": [],
   "source": [
    "df_user_features = prior_details[prior_details.user_id.isin(train_user_id)].\\\n",
    "                   groupby(['user_id'], as_index=False).\\\n",
    "                   agg(OrderedDict(\n",
    "                   [('order_id','nunique'),\n",
    "                    ('product_id', 'count'),\n",
    "                    ('days_since_prior_order', 'mean'),\n",
    "                    ('reordered','mean'), \n",
    "                    ('order_dow', (lambda x: x.mode()[0])), \n",
    "                    ('order_hour_of_day', (lambda x: x.mode()[0]))]))"
   ]
  },
  {
   "cell_type": "code",
   "execution_count": 1205,
   "metadata": {},
   "outputs": [],
   "source": [
    "df_user_features.columns = ['user_id'] + user_features"
   ]
  },
  {
   "cell_type": "code",
   "execution_count": 1206,
   "metadata": {},
   "outputs": [],
   "source": [
    "model_all_data = model_all_data.merge(df_user_features, on=['user_id'])"
   ]
  },
  {
   "cell_type": "code",
   "execution_count": 1207,
   "metadata": {},
   "outputs": [
    {
     "data": {
      "text/plain": [
       "(329806, 24)"
      ]
     },
     "execution_count": 1207,
     "metadata": {},
     "output_type": "execute_result"
    }
   ],
   "source": [
    "model_all_data.shape"
   ]
  },
  {
   "cell_type": "code",
   "execution_count": 1208,
   "metadata": {},
   "outputs": [
    {
     "data": {
      "text/plain": [
       "0    297467\n",
       "1     32339\n",
       "Name: label, dtype: int64"
      ]
     },
     "execution_count": 1208,
     "metadata": {},
     "output_type": "execute_result"
    }
   ],
   "source": [
    "model_all_data['label'].value_counts()"
   ]
  },
  {
   "cell_type": "markdown",
   "metadata": {},
   "source": [
    "### 6.4 save data"
   ]
  },
  {
   "cell_type": "code",
   "execution_count": 1209,
   "metadata": {},
   "outputs": [],
   "source": [
    "model_all_data.to_csv('/Users/songyarong/Workspace/5. Project/11. e-commerce/model_all_data.csv', index=False)"
   ]
  },
  {
   "cell_type": "markdown",
   "metadata": {},
   "source": [
    "## 7. Feature Engineering"
   ]
  },
  {
   "cell_type": "markdown",
   "metadata": {},
   "source": [
    "### 7.1 Confirm data columns"
   ]
  },
  {
   "cell_type": "code",
   "execution_count": 1210,
   "metadata": {},
   "outputs": [
    {
     "data": {
      "text/html": [
       "<div>\n",
       "<style scoped>\n",
       "    .dataframe tbody tr th:only-of-type {\n",
       "        vertical-align: middle;\n",
       "    }\n",
       "\n",
       "    .dataframe tbody tr th {\n",
       "        vertical-align: top;\n",
       "    }\n",
       "\n",
       "    .dataframe thead th {\n",
       "        text-align: right;\n",
       "    }\n",
       "</style>\n",
       "<table border=\"1\" class=\"dataframe\">\n",
       "  <thead>\n",
       "    <tr style=\"text-align: right;\">\n",
       "      <th></th>\n",
       "      <th>product_id</th>\n",
       "      <th>product__total_orders</th>\n",
       "      <th>product__add_to_cart_order_mean</th>\n",
       "      <th>product__total_users</th>\n",
       "      <th>product__reordered_mean</th>\n",
       "      <th>product__dow_mode</th>\n",
       "      <th>product__hod_mode</th>\n",
       "      <th>product__days_since_prior_order_mean</th>\n",
       "      <th>user_id</th>\n",
       "      <th>user_product__total_orders</th>\n",
       "      <th>...</th>\n",
       "      <th>unique_key</th>\n",
       "      <th>label</th>\n",
       "      <th>product__aisle_id</th>\n",
       "      <th>product__department</th>\n",
       "      <th>user__total_orders</th>\n",
       "      <th>user__total_product</th>\n",
       "      <th>user__days_since_prior_order_mean</th>\n",
       "      <th>user__reordered_mean</th>\n",
       "      <th>user__dow_mode</th>\n",
       "      <th>user__hod_mode</th>\n",
       "    </tr>\n",
       "  </thead>\n",
       "  <tbody>\n",
       "    <tr>\n",
       "      <th>0</th>\n",
       "      <td>1</td>\n",
       "      <td>26</td>\n",
       "      <td>4.576923</td>\n",
       "      <td>12</td>\n",
       "      <td>0.538462</td>\n",
       "      <td>3</td>\n",
       "      <td>10</td>\n",
       "      <td>16.280000</td>\n",
       "      <td>21285</td>\n",
       "      <td>1</td>\n",
       "      <td>...</td>\n",
       "      <td>21285_1</td>\n",
       "      <td>0</td>\n",
       "      <td>61</td>\n",
       "      <td>19</td>\n",
       "      <td>48</td>\n",
       "      <td>317</td>\n",
       "      <td>8.044872</td>\n",
       "      <td>0.85489</td>\n",
       "      <td>4</td>\n",
       "      <td>12</td>\n",
       "    </tr>\n",
       "    <tr>\n",
       "      <th>1</th>\n",
       "      <td>3298</td>\n",
       "      <td>323</td>\n",
       "      <td>5.786378</td>\n",
       "      <td>72</td>\n",
       "      <td>0.777090</td>\n",
       "      <td>1</td>\n",
       "      <td>9</td>\n",
       "      <td>11.016234</td>\n",
       "      <td>21285</td>\n",
       "      <td>1</td>\n",
       "      <td>...</td>\n",
       "      <td>21285_3298</td>\n",
       "      <td>0</td>\n",
       "      <td>21</td>\n",
       "      <td>16</td>\n",
       "      <td>48</td>\n",
       "      <td>317</td>\n",
       "      <td>8.044872</td>\n",
       "      <td>0.85489</td>\n",
       "      <td>4</td>\n",
       "      <td>12</td>\n",
       "    </tr>\n",
       "    <tr>\n",
       "      <th>2</th>\n",
       "      <td>4920</td>\n",
       "      <td>1967</td>\n",
       "      <td>8.350280</td>\n",
       "      <td>699</td>\n",
       "      <td>0.644637</td>\n",
       "      <td>0</td>\n",
       "      <td>15</td>\n",
       "      <td>11.600760</td>\n",
       "      <td>21285</td>\n",
       "      <td>3</td>\n",
       "      <td>...</td>\n",
       "      <td>21285_4920</td>\n",
       "      <td>0</td>\n",
       "      <td>123</td>\n",
       "      <td>4</td>\n",
       "      <td>48</td>\n",
       "      <td>317</td>\n",
       "      <td>8.044872</td>\n",
       "      <td>0.85489</td>\n",
       "      <td>4</td>\n",
       "      <td>12</td>\n",
       "    </tr>\n",
       "    <tr>\n",
       "      <th>3</th>\n",
       "      <td>6066</td>\n",
       "      <td>17</td>\n",
       "      <td>6.470588</td>\n",
       "      <td>4</td>\n",
       "      <td>0.764706</td>\n",
       "      <td>1</td>\n",
       "      <td>9</td>\n",
       "      <td>12.812500</td>\n",
       "      <td>21285</td>\n",
       "      <td>2</td>\n",
       "      <td>...</td>\n",
       "      <td>21285_6066</td>\n",
       "      <td>0</td>\n",
       "      <td>53</td>\n",
       "      <td>16</td>\n",
       "      <td>48</td>\n",
       "      <td>317</td>\n",
       "      <td>8.044872</td>\n",
       "      <td>0.85489</td>\n",
       "      <td>4</td>\n",
       "      <td>12</td>\n",
       "    </tr>\n",
       "    <tr>\n",
       "      <th>4</th>\n",
       "      <td>6184</td>\n",
       "      <td>726</td>\n",
       "      <td>3.922865</td>\n",
       "      <td>165</td>\n",
       "      <td>0.772727</td>\n",
       "      <td>1</td>\n",
       "      <td>10</td>\n",
       "      <td>10.764451</td>\n",
       "      <td>21285</td>\n",
       "      <td>6</td>\n",
       "      <td>...</td>\n",
       "      <td>21285_6184</td>\n",
       "      <td>0</td>\n",
       "      <td>32</td>\n",
       "      <td>4</td>\n",
       "      <td>48</td>\n",
       "      <td>317</td>\n",
       "      <td>8.044872</td>\n",
       "      <td>0.85489</td>\n",
       "      <td>4</td>\n",
       "      <td>12</td>\n",
       "    </tr>\n",
       "  </tbody>\n",
       "</table>\n",
       "<p>5 rows × 24 columns</p>\n",
       "</div>"
      ],
      "text/plain": [
       "   product_id  product__total_orders  product__add_to_cart_order_mean  \\\n",
       "0           1                     26                         4.576923   \n",
       "1        3298                    323                         5.786378   \n",
       "2        4920                   1967                         8.350280   \n",
       "3        6066                     17                         6.470588   \n",
       "4        6184                    726                         3.922865   \n",
       "\n",
       "   product__total_users  product__reordered_mean  product__dow_mode  \\\n",
       "0                    12                 0.538462                  3   \n",
       "1                    72                 0.777090                  1   \n",
       "2                   699                 0.644637                  0   \n",
       "3                     4                 0.764706                  1   \n",
       "4                   165                 0.772727                  1   \n",
       "\n",
       "   product__hod_mode  product__days_since_prior_order_mean  user_id  \\\n",
       "0                 10                             16.280000    21285   \n",
       "1                  9                             11.016234    21285   \n",
       "2                 15                             11.600760    21285   \n",
       "3                  9                             12.812500    21285   \n",
       "4                 10                             10.764451    21285   \n",
       "\n",
       "   user_product__total_orders  ...  unique_key  label  product__aisle_id  \\\n",
       "0                           1  ...     21285_1      0                 61   \n",
       "1                           1  ...  21285_3298      0                 21   \n",
       "2                           3  ...  21285_4920      0                123   \n",
       "3                           2  ...  21285_6066      0                 53   \n",
       "4                           6  ...  21285_6184      0                 32   \n",
       "\n",
       "   product__department user__total_orders  user__total_product  \\\n",
       "0                   19                 48                  317   \n",
       "1                   16                 48                  317   \n",
       "2                    4                 48                  317   \n",
       "3                   16                 48                  317   \n",
       "4                    4                 48                  317   \n",
       "\n",
       "   user__days_since_prior_order_mean  user__reordered_mean  user__dow_mode  \\\n",
       "0                           8.044872               0.85489               4   \n",
       "1                           8.044872               0.85489               4   \n",
       "2                           8.044872               0.85489               4   \n",
       "3                           8.044872               0.85489               4   \n",
       "4                           8.044872               0.85489               4   \n",
       "\n",
       "   user__hod_mode  \n",
       "0              12  \n",
       "1              12  \n",
       "2              12  \n",
       "3              12  \n",
       "4              12  \n",
       "\n",
       "[5 rows x 24 columns]"
      ]
     },
     "execution_count": 1210,
     "metadata": {},
     "output_type": "execute_result"
    }
   ],
   "source": [
    "model_all_data.head()"
   ]
  },
  {
   "cell_type": "code",
   "execution_count": 1211,
   "metadata": {},
   "outputs": [
    {
     "data": {
      "text/plain": [
       "(329806, 24)"
      ]
     },
     "execution_count": 1211,
     "metadata": {},
     "output_type": "execute_result"
    }
   ],
   "source": [
    "model_all_data.shape"
   ]
  },
  {
   "cell_type": "code",
   "execution_count": 1212,
   "metadata": {},
   "outputs": [
    {
     "data": {
      "text/plain": [
       "20"
      ]
     },
     "execution_count": 1212,
     "metadata": {},
     "output_type": "execute_result"
    }
   ],
   "source": [
    "# reorder the columns\n",
    "primary_keys = ['user_id', 'product_id']\n",
    "features = ['user_product__total_orders',\n",
    "            'user_product__add_to_cart_order_mean',\n",
    "            'user_product__reordered_mean',\n",
    "            'user_product__dow_mode',\n",
    "            'user_product__hod_mode',\n",
    "            'product__total_orders',\n",
    "            'product__add_to_cart_order_mean',\n",
    "            'product__total_users',\n",
    "            'product__reordered_mean',\n",
    "            'product__dow_mode',\n",
    "            'product__hod_mode',\n",
    "            'product__days_since_prior_order_mean',\n",
    "            'product__aisle_id',\n",
    "            'product__department',\n",
    "            'user__total_orders',\n",
    "            'user__total_product',\n",
    "            'user__days_since_prior_order_mean',\n",
    "            'user__reordered_mean',\n",
    "            'user__dow_mode',\n",
    "            'user__hod_mode'\n",
    "            ]\n",
    "label = ['label']\n",
    "len(features)"
   ]
  },
  {
   "cell_type": "code",
   "execution_count": 1213,
   "metadata": {},
   "outputs": [],
   "source": [
    "model_all_data = model_all_data[primary_keys + features + label]"
   ]
  },
  {
   "cell_type": "code",
   "execution_count": 1214,
   "metadata": {},
   "outputs": [
    {
     "data": {
      "text/html": [
       "<div>\n",
       "<style scoped>\n",
       "    .dataframe tbody tr th:only-of-type {\n",
       "        vertical-align: middle;\n",
       "    }\n",
       "\n",
       "    .dataframe tbody tr th {\n",
       "        vertical-align: top;\n",
       "    }\n",
       "\n",
       "    .dataframe thead th {\n",
       "        text-align: right;\n",
       "    }\n",
       "</style>\n",
       "<table border=\"1\" class=\"dataframe\">\n",
       "  <thead>\n",
       "    <tr style=\"text-align: right;\">\n",
       "      <th></th>\n",
       "      <th>user_id</th>\n",
       "      <th>product_id</th>\n",
       "      <th>user_product__total_orders</th>\n",
       "      <th>user_product__add_to_cart_order_mean</th>\n",
       "      <th>user_product__reordered_mean</th>\n",
       "      <th>user_product__dow_mode</th>\n",
       "      <th>user_product__hod_mode</th>\n",
       "      <th>product__total_orders</th>\n",
       "      <th>product__add_to_cart_order_mean</th>\n",
       "      <th>product__total_users</th>\n",
       "      <th>...</th>\n",
       "      <th>product__days_since_prior_order_mean</th>\n",
       "      <th>product__aisle_id</th>\n",
       "      <th>product__department</th>\n",
       "      <th>user__total_orders</th>\n",
       "      <th>user__total_product</th>\n",
       "      <th>user__days_since_prior_order_mean</th>\n",
       "      <th>user__reordered_mean</th>\n",
       "      <th>user__dow_mode</th>\n",
       "      <th>user__hod_mode</th>\n",
       "      <th>label</th>\n",
       "    </tr>\n",
       "  </thead>\n",
       "  <tbody>\n",
       "    <tr>\n",
       "      <th>0</th>\n",
       "      <td>21285</td>\n",
       "      <td>1</td>\n",
       "      <td>1</td>\n",
       "      <td>3.0</td>\n",
       "      <td>0.000000</td>\n",
       "      <td>0</td>\n",
       "      <td>15</td>\n",
       "      <td>26</td>\n",
       "      <td>4.576923</td>\n",
       "      <td>12</td>\n",
       "      <td>...</td>\n",
       "      <td>16.280000</td>\n",
       "      <td>61</td>\n",
       "      <td>19</td>\n",
       "      <td>48</td>\n",
       "      <td>317</td>\n",
       "      <td>8.044872</td>\n",
       "      <td>0.85489</td>\n",
       "      <td>4</td>\n",
       "      <td>12</td>\n",
       "      <td>0</td>\n",
       "    </tr>\n",
       "    <tr>\n",
       "      <th>1</th>\n",
       "      <td>21285</td>\n",
       "      <td>3298</td>\n",
       "      <td>1</td>\n",
       "      <td>5.0</td>\n",
       "      <td>0.000000</td>\n",
       "      <td>0</td>\n",
       "      <td>15</td>\n",
       "      <td>323</td>\n",
       "      <td>5.786378</td>\n",
       "      <td>72</td>\n",
       "      <td>...</td>\n",
       "      <td>11.016234</td>\n",
       "      <td>21</td>\n",
       "      <td>16</td>\n",
       "      <td>48</td>\n",
       "      <td>317</td>\n",
       "      <td>8.044872</td>\n",
       "      <td>0.85489</td>\n",
       "      <td>4</td>\n",
       "      <td>12</td>\n",
       "      <td>0</td>\n",
       "    </tr>\n",
       "    <tr>\n",
       "      <th>2</th>\n",
       "      <td>21285</td>\n",
       "      <td>4920</td>\n",
       "      <td>3</td>\n",
       "      <td>5.0</td>\n",
       "      <td>0.666667</td>\n",
       "      <td>1</td>\n",
       "      <td>9</td>\n",
       "      <td>1967</td>\n",
       "      <td>8.350280</td>\n",
       "      <td>699</td>\n",
       "      <td>...</td>\n",
       "      <td>11.600760</td>\n",
       "      <td>123</td>\n",
       "      <td>4</td>\n",
       "      <td>48</td>\n",
       "      <td>317</td>\n",
       "      <td>8.044872</td>\n",
       "      <td>0.85489</td>\n",
       "      <td>4</td>\n",
       "      <td>12</td>\n",
       "      <td>0</td>\n",
       "    </tr>\n",
       "    <tr>\n",
       "      <th>3</th>\n",
       "      <td>21285</td>\n",
       "      <td>6066</td>\n",
       "      <td>2</td>\n",
       "      <td>5.5</td>\n",
       "      <td>0.500000</td>\n",
       "      <td>4</td>\n",
       "      <td>10</td>\n",
       "      <td>17</td>\n",
       "      <td>6.470588</td>\n",
       "      <td>4</td>\n",
       "      <td>...</td>\n",
       "      <td>12.812500</td>\n",
       "      <td>53</td>\n",
       "      <td>16</td>\n",
       "      <td>48</td>\n",
       "      <td>317</td>\n",
       "      <td>8.044872</td>\n",
       "      <td>0.85489</td>\n",
       "      <td>4</td>\n",
       "      <td>12</td>\n",
       "      <td>0</td>\n",
       "    </tr>\n",
       "    <tr>\n",
       "      <th>4</th>\n",
       "      <td>21285</td>\n",
       "      <td>6184</td>\n",
       "      <td>6</td>\n",
       "      <td>7.5</td>\n",
       "      <td>0.833333</td>\n",
       "      <td>2</td>\n",
       "      <td>10</td>\n",
       "      <td>726</td>\n",
       "      <td>3.922865</td>\n",
       "      <td>165</td>\n",
       "      <td>...</td>\n",
       "      <td>10.764451</td>\n",
       "      <td>32</td>\n",
       "      <td>4</td>\n",
       "      <td>48</td>\n",
       "      <td>317</td>\n",
       "      <td>8.044872</td>\n",
       "      <td>0.85489</td>\n",
       "      <td>4</td>\n",
       "      <td>12</td>\n",
       "      <td>0</td>\n",
       "    </tr>\n",
       "  </tbody>\n",
       "</table>\n",
       "<p>5 rows × 23 columns</p>\n",
       "</div>"
      ],
      "text/plain": [
       "   user_id  product_id  user_product__total_orders  \\\n",
       "0    21285           1                           1   \n",
       "1    21285        3298                           1   \n",
       "2    21285        4920                           3   \n",
       "3    21285        6066                           2   \n",
       "4    21285        6184                           6   \n",
       "\n",
       "   user_product__add_to_cart_order_mean  user_product__reordered_mean  \\\n",
       "0                                   3.0                      0.000000   \n",
       "1                                   5.0                      0.000000   \n",
       "2                                   5.0                      0.666667   \n",
       "3                                   5.5                      0.500000   \n",
       "4                                   7.5                      0.833333   \n",
       "\n",
       "   user_product__dow_mode  user_product__hod_mode  product__total_orders  \\\n",
       "0                       0                      15                     26   \n",
       "1                       0                      15                    323   \n",
       "2                       1                       9                   1967   \n",
       "3                       4                      10                     17   \n",
       "4                       2                      10                    726   \n",
       "\n",
       "   product__add_to_cart_order_mean  product__total_users  ...  \\\n",
       "0                         4.576923                    12  ...   \n",
       "1                         5.786378                    72  ...   \n",
       "2                         8.350280                   699  ...   \n",
       "3                         6.470588                     4  ...   \n",
       "4                         3.922865                   165  ...   \n",
       "\n",
       "   product__days_since_prior_order_mean  product__aisle_id  \\\n",
       "0                             16.280000                 61   \n",
       "1                             11.016234                 21   \n",
       "2                             11.600760                123   \n",
       "3                             12.812500                 53   \n",
       "4                             10.764451                 32   \n",
       "\n",
       "   product__department  user__total_orders  user__total_product  \\\n",
       "0                   19                  48                  317   \n",
       "1                   16                  48                  317   \n",
       "2                    4                  48                  317   \n",
       "3                   16                  48                  317   \n",
       "4                    4                  48                  317   \n",
       "\n",
       "   user__days_since_prior_order_mean  user__reordered_mean  user__dow_mode  \\\n",
       "0                           8.044872               0.85489               4   \n",
       "1                           8.044872               0.85489               4   \n",
       "2                           8.044872               0.85489               4   \n",
       "3                           8.044872               0.85489               4   \n",
       "4                           8.044872               0.85489               4   \n",
       "\n",
       "   user__hod_mode  label  \n",
       "0              12      0  \n",
       "1              12      0  \n",
       "2              12      0  \n",
       "3              12      0  \n",
       "4              12      0  \n",
       "\n",
       "[5 rows x 23 columns]"
      ]
     },
     "execution_count": 1214,
     "metadata": {},
     "output_type": "execute_result"
    }
   ],
   "source": [
    "model_all_data.head()"
   ]
  },
  {
   "cell_type": "markdown",
   "metadata": {},
   "source": [
    "### 7.2 Data analysis"
   ]
  },
  {
   "cell_type": "code",
   "execution_count": 1215,
   "metadata": {},
   "outputs": [
    {
     "data": {
      "text/plain": [
       "0    297467\n",
       "1     32339\n",
       "Name: label, dtype: int64"
      ]
     },
     "execution_count": 1215,
     "metadata": {},
     "output_type": "execute_result"
    }
   ],
   "source": [
    "label_count = model_all_data.label.value_counts()\n",
    "label_count"
   ]
  },
  {
   "cell_type": "code",
   "execution_count": 1216,
   "metadata": {},
   "outputs": [
    {
     "name": "stdout",
     "output_type": "stream",
     "text": [
      "Negative label count:  297467\n",
      "Positive label count:  32339\n",
      "Positive label ratio: 9.81\n"
     ]
    }
   ],
   "source": [
    "print(\"Negative label count: \", label_count[0])\n",
    "print(\"Positive label count: \", label_count[1])\n",
    "print(\"Positive label ratio: %.2f\" % (100 * label_count[1]/(label_count[0] + label_count[1])))"
   ]
  },
  {
   "cell_type": "code",
   "execution_count": 1217,
   "metadata": {},
   "outputs": [
    {
     "data": {
      "image/png": "[encoded data removed]",
      "text/plain": [
       "<Figure size 432x288 with 1 Axes>"
      ]
     },
     "metadata": {
      "needs_background": "light"
     },
     "output_type": "display_data"
    }
   ],
   "source": [
    "f, axss = plt.subplots(1, 1, figsize = [6, 4])\n",
    "sns.countplot(palette='plasma', x='label', data=model_all_data)\n",
    "axss.grid(axis='y')"
   ]
  },
  {
   "cell_type": "code",
   "execution_count": 1218,
   "metadata": {},
   "outputs": [
    {
     "name": "stdout",
     "output_type": "stream",
     "text": [
      "<class 'pandas.core.frame.DataFrame'>\n",
      "Int64Index: 329806 entries, 0 to 329805\n",
      "Data columns (total 23 columns):\n",
      " #   Column                                Non-Null Count   Dtype  \n",
      "---  ------                                --------------   -----  \n",
      " 0   user_id                               329806 non-null  int64  \n",
      " 1   product_id                            329806 non-null  int64  \n",
      " 2   user_product__total_orders            329806 non-null  int64  \n",
      " 3   user_product__add_to_cart_order_mean  329806 non-null  float64\n",
      " 4   user_product__reordered_mean          329806 non-null  float64\n",
      " 5   user_product__dow_mode                329806 non-null  int64  \n",
      " 6   user_product__hod_mode                329806 non-null  int64  \n",
      " 7   product__total_orders                 329806 non-null  int64  \n",
      " 8   product__add_to_cart_order_mean       329806 non-null  float64\n",
      " 9   product__total_users                  329806 non-null  int64  \n",
      " 10  product__reordered_mean               329806 non-null  float64\n",
      " 11  product__dow_mode                     329806 non-null  int64  \n",
      " 12  product__hod_mode                     329806 non-null  int64  \n",
      " 13  product__days_since_prior_order_mean  329080 non-null  float64\n",
      " 14  product__aisle_id                     329806 non-null  int64  \n",
      " 15  product__department                   329806 non-null  int64  \n",
      " 16  user__total_orders                    329806 non-null  int64  \n",
      " 17  user__total_product                   329806 non-null  int64  \n",
      " 18  user__days_since_prior_order_mean     329806 non-null  float64\n",
      " 19  user__reordered_mean                  329806 non-null  float64\n",
      " 20  user__dow_mode                        329806 non-null  int64  \n",
      " 21  user__hod_mode                        329806 non-null  int64  \n",
      " 22  label                                 329806 non-null  int64  \n",
      "dtypes: float64(7), int64(16)\n",
      "memory usage: 70.4 MB\n"
     ]
    }
   ],
   "source": [
    "model_all_data.info()"
   ]
  },
  {
   "cell_type": "code",
   "execution_count": 1219,
   "metadata": {},
   "outputs": [
    {
     "data": {
      "text/plain": [
       "user_id                                   0\n",
       "product_id                                0\n",
       "user_product__total_orders                0\n",
       "user_product__add_to_cart_order_mean      0\n",
       "user_product__reordered_mean              0\n",
       "user_product__dow_mode                    0\n",
       "user_product__hod_mode                    0\n",
       "product__total_orders                     0\n",
       "product__add_to_cart_order_mean           0\n",
       "product__total_users                      0\n",
       "product__reordered_mean                   0\n",
       "product__dow_mode                         0\n",
       "product__hod_mode                         0\n",
       "product__days_since_prior_order_mean    726\n",
       "product__aisle_id                         0\n",
       "product__department                       0\n",
       "user__total_orders                        0\n",
       "user__total_product                       0\n",
       "user__days_since_prior_order_mean         0\n",
       "user__reordered_mean                      0\n",
       "user__dow_mode                            0\n",
       "user__hod_mode                            0\n",
       "label                                     0\n",
       "dtype: int64"
      ]
     },
     "execution_count": 1219,
     "metadata": {},
     "output_type": "execute_result"
    }
   ],
   "source": [
    "# missing data\n",
    "model_all_data.isnull().sum()"
   ]
  },
  {
   "cell_type": "markdown",
   "metadata": {},
   "source": [
    "### 7.3 Categorical data"
   ]
  },
  {
   "cell_type": "code",
   "execution_count": 1220,
   "metadata": {},
   "outputs": [],
   "source": [
    "# product__department\n",
    "model_all_data_1 = model_all_data.drop('product__department', axis=1)\n",
    "dummies1 = pd.get_dummies(model_all_data['product__department'])\n",
    "model_all_data = pd.concat([model_all_data_1, dummies1], axis=1)"
   ]
  },
  {
   "cell_type": "code",
   "execution_count": 1221,
   "metadata": {},
   "outputs": [],
   "source": [
    "# user_product__dow_mode\n",
    "# product__dow_mod\n",
    "# user__dow_mode\n",
    "model_all_data_2 = model_all_data.drop(['user_product__dow_mode', 'product__dow_mode', 'user__dow_mode'], axis=1)\n",
    "dummies2 = pd.get_dummies(model_all_data['user_product__dow_mode'])\n",
    "dummies3 = pd.get_dummies(model_all_data['product__dow_mode'])\n",
    "dummies4 = pd.get_dummies(model_all_data['user__dow_mode'])\n",
    "model_all_data = pd.concat([model_all_data_2, dummies2, dummies3, dummies4], axis=1)"
   ]
  },
  {
   "cell_type": "code",
   "execution_count": 1222,
   "metadata": {
    "scrolled": true
   },
   "outputs": [
    {
     "data": {
      "text/html": [
       "<div>\n",
       "<style scoped>\n",
       "    .dataframe tbody tr th:only-of-type {\n",
       "        vertical-align: middle;\n",
       "    }\n",
       "\n",
       "    .dataframe tbody tr th {\n",
       "        vertical-align: top;\n",
       "    }\n",
       "\n",
       "    .dataframe thead th {\n",
       "        text-align: right;\n",
       "    }\n",
       "</style>\n",
       "<table border=\"1\" class=\"dataframe\">\n",
       "  <thead>\n",
       "    <tr style=\"text-align: right;\">\n",
       "      <th></th>\n",
       "      <th>user_id</th>\n",
       "      <th>product_id</th>\n",
       "      <th>user_product__total_orders</th>\n",
       "      <th>user_product__add_to_cart_order_mean</th>\n",
       "      <th>user_product__reordered_mean</th>\n",
       "      <th>user_product__hod_mode</th>\n",
       "      <th>product__total_orders</th>\n",
       "      <th>product__add_to_cart_order_mean</th>\n",
       "      <th>product__total_users</th>\n",
       "      <th>product__reordered_mean</th>\n",
       "      <th>...</th>\n",
       "      <th>4</th>\n",
       "      <th>5</th>\n",
       "      <th>6</th>\n",
       "      <th>0</th>\n",
       "      <th>1</th>\n",
       "      <th>2</th>\n",
       "      <th>3</th>\n",
       "      <th>4</th>\n",
       "      <th>5</th>\n",
       "      <th>6</th>\n",
       "    </tr>\n",
       "  </thead>\n",
       "  <tbody>\n",
       "    <tr>\n",
       "      <th>0</th>\n",
       "      <td>21285</td>\n",
       "      <td>1</td>\n",
       "      <td>1</td>\n",
       "      <td>3.0</td>\n",
       "      <td>0.000000</td>\n",
       "      <td>15</td>\n",
       "      <td>26</td>\n",
       "      <td>4.576923</td>\n",
       "      <td>12</td>\n",
       "      <td>0.538462</td>\n",
       "      <td>...</td>\n",
       "      <td>0</td>\n",
       "      <td>0</td>\n",
       "      <td>0</td>\n",
       "      <td>0</td>\n",
       "      <td>0</td>\n",
       "      <td>0</td>\n",
       "      <td>0</td>\n",
       "      <td>1</td>\n",
       "      <td>0</td>\n",
       "      <td>0</td>\n",
       "    </tr>\n",
       "    <tr>\n",
       "      <th>1</th>\n",
       "      <td>21285</td>\n",
       "      <td>3298</td>\n",
       "      <td>1</td>\n",
       "      <td>5.0</td>\n",
       "      <td>0.000000</td>\n",
       "      <td>15</td>\n",
       "      <td>323</td>\n",
       "      <td>5.786378</td>\n",
       "      <td>72</td>\n",
       "      <td>0.777090</td>\n",
       "      <td>...</td>\n",
       "      <td>0</td>\n",
       "      <td>0</td>\n",
       "      <td>0</td>\n",
       "      <td>0</td>\n",
       "      <td>0</td>\n",
       "      <td>0</td>\n",
       "      <td>0</td>\n",
       "      <td>1</td>\n",
       "      <td>0</td>\n",
       "      <td>0</td>\n",
       "    </tr>\n",
       "    <tr>\n",
       "      <th>2</th>\n",
       "      <td>21285</td>\n",
       "      <td>4920</td>\n",
       "      <td>3</td>\n",
       "      <td>5.0</td>\n",
       "      <td>0.666667</td>\n",
       "      <td>9</td>\n",
       "      <td>1967</td>\n",
       "      <td>8.350280</td>\n",
       "      <td>699</td>\n",
       "      <td>0.644637</td>\n",
       "      <td>...</td>\n",
       "      <td>0</td>\n",
       "      <td>0</td>\n",
       "      <td>0</td>\n",
       "      <td>0</td>\n",
       "      <td>0</td>\n",
       "      <td>0</td>\n",
       "      <td>0</td>\n",
       "      <td>1</td>\n",
       "      <td>0</td>\n",
       "      <td>0</td>\n",
       "    </tr>\n",
       "    <tr>\n",
       "      <th>3</th>\n",
       "      <td>21285</td>\n",
       "      <td>6066</td>\n",
       "      <td>2</td>\n",
       "      <td>5.5</td>\n",
       "      <td>0.500000</td>\n",
       "      <td>10</td>\n",
       "      <td>17</td>\n",
       "      <td>6.470588</td>\n",
       "      <td>4</td>\n",
       "      <td>0.764706</td>\n",
       "      <td>...</td>\n",
       "      <td>0</td>\n",
       "      <td>0</td>\n",
       "      <td>0</td>\n",
       "      <td>0</td>\n",
       "      <td>0</td>\n",
       "      <td>0</td>\n",
       "      <td>0</td>\n",
       "      <td>1</td>\n",
       "      <td>0</td>\n",
       "      <td>0</td>\n",
       "    </tr>\n",
       "    <tr>\n",
       "      <th>4</th>\n",
       "      <td>21285</td>\n",
       "      <td>6184</td>\n",
       "      <td>6</td>\n",
       "      <td>7.5</td>\n",
       "      <td>0.833333</td>\n",
       "      <td>10</td>\n",
       "      <td>726</td>\n",
       "      <td>3.922865</td>\n",
       "      <td>165</td>\n",
       "      <td>0.772727</td>\n",
       "      <td>...</td>\n",
       "      <td>0</td>\n",
       "      <td>0</td>\n",
       "      <td>0</td>\n",
       "      <td>0</td>\n",
       "      <td>0</td>\n",
       "      <td>0</td>\n",
       "      <td>0</td>\n",
       "      <td>1</td>\n",
       "      <td>0</td>\n",
       "      <td>0</td>\n",
       "    </tr>\n",
       "  </tbody>\n",
       "</table>\n",
       "<p>5 rows × 61 columns</p>\n",
       "</div>"
      ],
      "text/plain": [
       "   user_id  product_id  user_product__total_orders  \\\n",
       "0    21285           1                           1   \n",
       "1    21285        3298                           1   \n",
       "2    21285        4920                           3   \n",
       "3    21285        6066                           2   \n",
       "4    21285        6184                           6   \n",
       "\n",
       "   user_product__add_to_cart_order_mean  user_product__reordered_mean  \\\n",
       "0                                   3.0                      0.000000   \n",
       "1                                   5.0                      0.000000   \n",
       "2                                   5.0                      0.666667   \n",
       "3                                   5.5                      0.500000   \n",
       "4                                   7.5                      0.833333   \n",
       "\n",
       "   user_product__hod_mode  product__total_orders  \\\n",
       "0                      15                     26   \n",
       "1                      15                    323   \n",
       "2                       9                   1967   \n",
       "3                      10                     17   \n",
       "4                      10                    726   \n",
       "\n",
       "   product__add_to_cart_order_mean  product__total_users  \\\n",
       "0                         4.576923                    12   \n",
       "1                         5.786378                    72   \n",
       "2                         8.350280                   699   \n",
       "3                         6.470588                     4   \n",
       "4                         3.922865                   165   \n",
       "\n",
       "   product__reordered_mean  ...  4  5  6  0  1  2  3  4  5  6  \n",
       "0                 0.538462  ...  0  0  0  0  0  0  0  1  0  0  \n",
       "1                 0.777090  ...  0  0  0  0  0  0  0  1  0  0  \n",
       "2                 0.644637  ...  0  0  0  0  0  0  0  1  0  0  \n",
       "3                 0.764706  ...  0  0  0  0  0  0  0  1  0  0  \n",
       "4                 0.772727  ...  0  0  0  0  0  0  0  1  0  0  \n",
       "\n",
       "[5 rows x 61 columns]"
      ]
     },
     "execution_count": 1222,
     "metadata": {},
     "output_type": "execute_result"
    }
   ],
   "source": [
    "model_all_data.head()"
   ]
  },
  {
   "cell_type": "code",
   "execution_count": 1223,
   "metadata": {},
   "outputs": [
    {
     "data": {
      "text/plain": [
       "(329806, 61)"
      ]
     },
     "execution_count": 1223,
     "metadata": {},
     "output_type": "execute_result"
    }
   ],
   "source": [
    "model_all_data.shape"
   ]
  },
  {
   "cell_type": "markdown",
   "metadata": {},
   "source": [
    "### 7.4 Train_test_split"
   ]
  },
  {
   "cell_type": "code",
   "execution_count": 1224,
   "metadata": {},
   "outputs": [],
   "source": [
    "X = model_all_data.drop(['label'], axis=1)\n",
    "y = model_all_data['label']"
   ]
  },
  {
   "cell_type": "code",
   "execution_count": 1225,
   "metadata": {},
   "outputs": [
    {
     "name": "stdout",
     "output_type": "stream",
     "text": [
      "Feature data:  (329806, 60)\n",
      "Label:  (329806,)\n",
      "Model_all_data_sc:  (329806, 61)\n"
     ]
    }
   ],
   "source": [
    "print(\"Feature data: \", X.shape)\n",
    "print(\"Label: \", y.shape)\n",
    "print(\"Model_all_data_sc: \", model_all_data_sc.shape)"
   ]
  },
  {
   "cell_type": "code",
   "execution_count": 1226,
   "metadata": {},
   "outputs": [
    {
     "name": "stdout",
     "output_type": "stream",
     "text": [
      "training data has 263844 observation with 60 features\n",
      "testing data has 65962 observation with 60 features\n"
     ]
    }
   ],
   "source": [
    "X_train, X_test, y_train, y_test = model_selection.train_test_split(X, y, test_size=0.2, random_state=3)\n",
    "print('training data has ' + str(X_train.shape[0]) + ' observation with ' + str(X_train.shape[1]) + ' features')\n",
    "print('testing data has ' + str(X_test.shape[0]) + ' observation with ' + str(X_test.shape[1]) + ' features')"
   ]
  },
  {
   "cell_type": "code",
   "execution_count": 1227,
   "metadata": {},
   "outputs": [
    {
     "data": {
      "text/plain": [
       "263073"
      ]
     },
     "execution_count": 1227,
     "metadata": {},
     "output_type": "execute_result"
    }
   ],
   "source": [
    "# test data leakage\n",
    "X_train[X_train.user_id.isin(X_test.user_id)].shape[0]"
   ]
  },
  {
   "cell_type": "markdown",
   "metadata": {},
   "source": [
    "### 7.5 Feature Scaling\n",
    "Train_test_split first; then scaling"
   ]
  },
  {
   "cell_type": "code",
   "execution_count": 1228,
   "metadata": {},
   "outputs": [],
   "source": [
    "features.remove('product__department')\n",
    "features.remove('user_product__dow_mode')\n",
    "features.remove('product__dow_mode')\n",
    "features.remove('user__dow_mode')"
   ]
  },
  {
   "cell_type": "code",
   "execution_count": 1229,
   "metadata": {},
   "outputs": [
    {
     "name": "stderr",
     "output_type": "stream",
     "text": [
      "<ipython-input-1229-dc1349338bb9>:3: SettingWithCopyWarning: \n",
      "A value is trying to be set on a copy of a slice from a DataFrame.\n",
      "Try using .loc[row_indexer,col_indexer] = value instead\n",
      "\n",
      "See the caveats in the documentation: https://pandas.pydata.org/pandas-docs/stable/user_guide/indexing.html#returning-a-view-versus-a-copy\n",
      "  X_train[features] = scaler.transform(X_train[features])\n",
      "/Users/songyarong/opt/anaconda3/lib/python3.8/site-packages/pandas/core/indexing.py:1736: SettingWithCopyWarning: \n",
      "A value is trying to be set on a copy of a slice from a DataFrame.\n",
      "Try using .loc[row_indexer,col_indexer] = value instead\n",
      "\n",
      "See the caveats in the documentation: https://pandas.pydata.org/pandas-docs/stable/user_guide/indexing.html#returning-a-view-versus-a-copy\n",
      "  isetter(loc, value[:, i].tolist())\n",
      "<ipython-input-1229-dc1349338bb9>:4: SettingWithCopyWarning: \n",
      "A value is trying to be set on a copy of a slice from a DataFrame.\n",
      "Try using .loc[row_indexer,col_indexer] = value instead\n",
      "\n",
      "See the caveats in the documentation: https://pandas.pydata.org/pandas-docs/stable/user_guide/indexing.html#returning-a-view-versus-a-copy\n",
      "  X_test[features] = scaler.transform(X_test[features])\n",
      "/Users/songyarong/opt/anaconda3/lib/python3.8/site-packages/pandas/core/indexing.py:1736: SettingWithCopyWarning: \n",
      "A value is trying to be set on a copy of a slice from a DataFrame.\n",
      "Try using .loc[row_indexer,col_indexer] = value instead\n",
      "\n",
      "See the caveats in the documentation: https://pandas.pydata.org/pandas-docs/stable/user_guide/indexing.html#returning-a-view-versus-a-copy\n",
      "  isetter(loc, value[:, i].tolist())\n"
     ]
    }
   ],
   "source": [
    "scaler = StandardScaler()\n",
    "scaler.fit(X_train[features])\n",
    "X_train[features] = scaler.transform(X_train[features])\n",
    "X_test[features] = scaler.transform(X_test[features])"
   ]
  },
  {
   "cell_type": "code",
   "execution_count": 1230,
   "metadata": {},
   "outputs": [
    {
     "data": {
      "text/html": [
       "<div>\n",
       "<style scoped>\n",
       "    .dataframe tbody tr th:only-of-type {\n",
       "        vertical-align: middle;\n",
       "    }\n",
       "\n",
       "    .dataframe tbody tr th {\n",
       "        vertical-align: top;\n",
       "    }\n",
       "\n",
       "    .dataframe thead th {\n",
       "        text-align: right;\n",
       "    }\n",
       "</style>\n",
       "<table border=\"1\" class=\"dataframe\">\n",
       "  <thead>\n",
       "    <tr style=\"text-align: right;\">\n",
       "      <th></th>\n",
       "      <th>user_id</th>\n",
       "      <th>product_id</th>\n",
       "      <th>user_product__total_orders</th>\n",
       "      <th>user_product__add_to_cart_order_mean</th>\n",
       "      <th>user_product__reordered_mean</th>\n",
       "      <th>user_product__hod_mode</th>\n",
       "      <th>product__total_orders</th>\n",
       "      <th>product__add_to_cart_order_mean</th>\n",
       "      <th>product__total_users</th>\n",
       "      <th>product__reordered_mean</th>\n",
       "      <th>...</th>\n",
       "      <th>4</th>\n",
       "      <th>5</th>\n",
       "      <th>6</th>\n",
       "      <th>0</th>\n",
       "      <th>1</th>\n",
       "      <th>2</th>\n",
       "      <th>3</th>\n",
       "      <th>4</th>\n",
       "      <th>5</th>\n",
       "      <th>6</th>\n",
       "    </tr>\n",
       "  </thead>\n",
       "  <tbody>\n",
       "    <tr>\n",
       "      <th>1091</th>\n",
       "      <td>146079</td>\n",
       "      <td>23271</td>\n",
       "      <td>-0.410002</td>\n",
       "      <td>0.514379</td>\n",
       "      <td>-0.780757</td>\n",
       "      <td>-0.398669</td>\n",
       "      <td>-0.401562</td>\n",
       "      <td>0.657460</td>\n",
       "      <td>-0.536760</td>\n",
       "      <td>-1.909333</td>\n",
       "      <td>...</td>\n",
       "      <td>0</td>\n",
       "      <td>0</td>\n",
       "      <td>0</td>\n",
       "      <td>0</td>\n",
       "      <td>1</td>\n",
       "      <td>0</td>\n",
       "      <td>0</td>\n",
       "      <td>0</td>\n",
       "      <td>0</td>\n",
       "      <td>0</td>\n",
       "    </tr>\n",
       "    <tr>\n",
       "      <th>156606</th>\n",
       "      <td>160926</td>\n",
       "      <td>26620</td>\n",
       "      <td>-0.410002</td>\n",
       "      <td>2.059916</td>\n",
       "      <td>-0.780757</td>\n",
       "      <td>1.500497</td>\n",
       "      <td>-0.061749</td>\n",
       "      <td>-0.572133</td>\n",
       "      <td>0.025461</td>\n",
       "      <td>0.601220</td>\n",
       "      <td>...</td>\n",
       "      <td>0</td>\n",
       "      <td>0</td>\n",
       "      <td>0</td>\n",
       "      <td>1</td>\n",
       "      <td>0</td>\n",
       "      <td>0</td>\n",
       "      <td>0</td>\n",
       "      <td>0</td>\n",
       "      <td>0</td>\n",
       "      <td>0</td>\n",
       "    </tr>\n",
       "    <tr>\n",
       "      <th>23284</th>\n",
       "      <td>14332</td>\n",
       "      <td>40723</td>\n",
       "      <td>1.050202</td>\n",
       "      <td>-0.914072</td>\n",
       "      <td>1.676573</td>\n",
       "      <td>-0.161274</td>\n",
       "      <td>-0.165727</td>\n",
       "      <td>-0.086641</td>\n",
       "      <td>-0.210533</td>\n",
       "      <td>0.841177</td>\n",
       "      <td>...</td>\n",
       "      <td>0</td>\n",
       "      <td>1</td>\n",
       "      <td>0</td>\n",
       "      <td>0</td>\n",
       "      <td>0</td>\n",
       "      <td>0</td>\n",
       "      <td>0</td>\n",
       "      <td>0</td>\n",
       "      <td>0</td>\n",
       "      <td>1</td>\n",
       "    </tr>\n",
       "    <tr>\n",
       "      <th>26111</th>\n",
       "      <td>38747</td>\n",
       "      <td>10290</td>\n",
       "      <td>-0.117961</td>\n",
       "      <td>-0.750151</td>\n",
       "      <td>0.693641</td>\n",
       "      <td>-1.110856</td>\n",
       "      <td>-0.406083</td>\n",
       "      <td>-2.085344</td>\n",
       "      <td>-0.557583</td>\n",
       "      <td>-1.399124</td>\n",
       "      <td>...</td>\n",
       "      <td>0</td>\n",
       "      <td>0</td>\n",
       "      <td>0</td>\n",
       "      <td>1</td>\n",
       "      <td>0</td>\n",
       "      <td>0</td>\n",
       "      <td>0</td>\n",
       "      <td>0</td>\n",
       "      <td>0</td>\n",
       "      <td>0</td>\n",
       "    </tr>\n",
       "    <tr>\n",
       "      <th>79767</th>\n",
       "      <td>107743</td>\n",
       "      <td>19784</td>\n",
       "      <td>-0.410002</td>\n",
       "      <td>0.092869</td>\n",
       "      <td>-0.780757</td>\n",
       "      <td>1.500497</td>\n",
       "      <td>-0.404576</td>\n",
       "      <td>-0.752746</td>\n",
       "      <td>-0.557583</td>\n",
       "      <td>-0.330114</td>\n",
       "      <td>...</td>\n",
       "      <td>0</td>\n",
       "      <td>0</td>\n",
       "      <td>0</td>\n",
       "      <td>0</td>\n",
       "      <td>1</td>\n",
       "      <td>0</td>\n",
       "      <td>0</td>\n",
       "      <td>0</td>\n",
       "      <td>0</td>\n",
       "      <td>0</td>\n",
       "    </tr>\n",
       "  </tbody>\n",
       "</table>\n",
       "<p>5 rows × 60 columns</p>\n",
       "</div>"
      ],
      "text/plain": [
       "        user_id  product_id  user_product__total_orders  \\\n",
       "1091     146079       23271                   -0.410002   \n",
       "156606   160926       26620                   -0.410002   \n",
       "23284     14332       40723                    1.050202   \n",
       "26111     38747       10290                   -0.117961   \n",
       "79767    107743       19784                   -0.410002   \n",
       "\n",
       "        user_product__add_to_cart_order_mean  user_product__reordered_mean  \\\n",
       "1091                                0.514379                     -0.780757   \n",
       "156606                              2.059916                     -0.780757   \n",
       "23284                              -0.914072                      1.676573   \n",
       "26111                              -0.750151                      0.693641   \n",
       "79767                               0.092869                     -0.780757   \n",
       "\n",
       "        user_product__hod_mode  product__total_orders  \\\n",
       "1091                 -0.398669              -0.401562   \n",
       "156606                1.500497              -0.061749   \n",
       "23284                -0.161274              -0.165727   \n",
       "26111                -1.110856              -0.406083   \n",
       "79767                 1.500497              -0.404576   \n",
       "\n",
       "        product__add_to_cart_order_mean  product__total_users  \\\n",
       "1091                           0.657460             -0.536760   \n",
       "156606                        -0.572133              0.025461   \n",
       "23284                         -0.086641             -0.210533   \n",
       "26111                         -2.085344             -0.557583   \n",
       "79767                         -0.752746             -0.557583   \n",
       "\n",
       "        product__reordered_mean  ...  4  5  6  0  1  2  3  4  5  6  \n",
       "1091                  -1.909333  ...  0  0  0  0  1  0  0  0  0  0  \n",
       "156606                 0.601220  ...  0  0  0  1  0  0  0  0  0  0  \n",
       "23284                  0.841177  ...  0  1  0  0  0  0  0  0  0  1  \n",
       "26111                 -1.399124  ...  0  0  0  1  0  0  0  0  0  0  \n",
       "79767                 -0.330114  ...  0  0  0  0  1  0  0  0  0  0  \n",
       "\n",
       "[5 rows x 60 columns]"
      ]
     },
     "execution_count": 1230,
     "metadata": {},
     "output_type": "execute_result"
    }
   ],
   "source": [
    "X_train.head()"
   ]
  },
  {
   "cell_type": "code",
   "execution_count": 1231,
   "metadata": {},
   "outputs": [
    {
     "data": {
      "text/html": [
       "<div>\n",
       "<style scoped>\n",
       "    .dataframe tbody tr th:only-of-type {\n",
       "        vertical-align: middle;\n",
       "    }\n",
       "\n",
       "    .dataframe tbody tr th {\n",
       "        vertical-align: top;\n",
       "    }\n",
       "\n",
       "    .dataframe thead th {\n",
       "        text-align: right;\n",
       "    }\n",
       "</style>\n",
       "<table border=\"1\" class=\"dataframe\">\n",
       "  <thead>\n",
       "    <tr style=\"text-align: right;\">\n",
       "      <th></th>\n",
       "      <th>user_id</th>\n",
       "      <th>product_id</th>\n",
       "      <th>user_product__total_orders</th>\n",
       "      <th>user_product__add_to_cart_order_mean</th>\n",
       "      <th>user_product__reordered_mean</th>\n",
       "      <th>user_product__hod_mode</th>\n",
       "      <th>product__total_orders</th>\n",
       "      <th>product__add_to_cart_order_mean</th>\n",
       "      <th>product__total_users</th>\n",
       "      <th>product__reordered_mean</th>\n",
       "      <th>...</th>\n",
       "      <th>4</th>\n",
       "      <th>5</th>\n",
       "      <th>6</th>\n",
       "      <th>0</th>\n",
       "      <th>1</th>\n",
       "      <th>2</th>\n",
       "      <th>3</th>\n",
       "      <th>4</th>\n",
       "      <th>5</th>\n",
       "      <th>6</th>\n",
       "    </tr>\n",
       "  </thead>\n",
       "  <tbody>\n",
       "    <tr>\n",
       "      <th>192750</th>\n",
       "      <td>171340</td>\n",
       "      <td>17634</td>\n",
       "      <td>-0.410002</td>\n",
       "      <td>-1.031158</td>\n",
       "      <td>-0.780757</td>\n",
       "      <td>-0.161274</td>\n",
       "      <td>-0.348820</td>\n",
       "      <td>0.522912</td>\n",
       "      <td>-0.422234</td>\n",
       "      <td>-0.140398</td>\n",
       "      <td>...</td>\n",
       "      <td>0</td>\n",
       "      <td>0</td>\n",
       "      <td>0</td>\n",
       "      <td>0</td>\n",
       "      <td>0</td>\n",
       "      <td>0</td>\n",
       "      <td>1</td>\n",
       "      <td>0</td>\n",
       "      <td>0</td>\n",
       "      <td>0</td>\n",
       "    </tr>\n",
       "    <tr>\n",
       "      <th>324512</th>\n",
       "      <td>118361</td>\n",
       "      <td>28814</td>\n",
       "      <td>-0.410002</td>\n",
       "      <td>-0.469145</td>\n",
       "      <td>-0.780757</td>\n",
       "      <td>-0.636065</td>\n",
       "      <td>-0.402316</td>\n",
       "      <td>-1.684523</td>\n",
       "      <td>-0.543701</td>\n",
       "      <td>-1.399124</td>\n",
       "      <td>...</td>\n",
       "      <td>1</td>\n",
       "      <td>0</td>\n",
       "      <td>0</td>\n",
       "      <td>0</td>\n",
       "      <td>0</td>\n",
       "      <td>0</td>\n",
       "      <td>0</td>\n",
       "      <td>0</td>\n",
       "      <td>1</td>\n",
       "      <td>0</td>\n",
       "    </tr>\n",
       "    <tr>\n",
       "      <th>202041</th>\n",
       "      <td>205277</td>\n",
       "      <td>4347</td>\n",
       "      <td>-0.117961</td>\n",
       "      <td>-0.539396</td>\n",
       "      <td>0.693641</td>\n",
       "      <td>-1.110856</td>\n",
       "      <td>-0.336011</td>\n",
       "      <td>-0.392082</td>\n",
       "      <td>-0.415293</td>\n",
       "      <td>0.194846</td>\n",
       "      <td>...</td>\n",
       "      <td>0</td>\n",
       "      <td>0</td>\n",
       "      <td>0</td>\n",
       "      <td>0</td>\n",
       "      <td>0</td>\n",
       "      <td>0</td>\n",
       "      <td>1</td>\n",
       "      <td>0</td>\n",
       "      <td>0</td>\n",
       "      <td>0</td>\n",
       "    </tr>\n",
       "    <tr>\n",
       "      <th>58888</th>\n",
       "      <td>5114</td>\n",
       "      <td>13231</td>\n",
       "      <td>-0.410002</td>\n",
       "      <td>0.233372</td>\n",
       "      <td>-0.780757</td>\n",
       "      <td>0.076122</td>\n",
       "      <td>-0.377451</td>\n",
       "      <td>1.155115</td>\n",
       "      <td>-0.439586</td>\n",
       "      <td>-1.790680</td>\n",
       "      <td>...</td>\n",
       "      <td>0</td>\n",
       "      <td>0</td>\n",
       "      <td>1</td>\n",
       "      <td>1</td>\n",
       "      <td>0</td>\n",
       "      <td>0</td>\n",
       "      <td>0</td>\n",
       "      <td>0</td>\n",
       "      <td>0</td>\n",
       "      <td>0</td>\n",
       "    </tr>\n",
       "    <tr>\n",
       "      <th>21173</th>\n",
       "      <td>162788</td>\n",
       "      <td>196</td>\n",
       "      <td>0.758161</td>\n",
       "      <td>-0.216239</td>\n",
       "      <td>1.578280</td>\n",
       "      <td>1.025705</td>\n",
       "      <td>0.234363</td>\n",
       "      <td>-1.761875</td>\n",
       "      <td>0.133046</td>\n",
       "      <td>1.231984</td>\n",
       "      <td>...</td>\n",
       "      <td>0</td>\n",
       "      <td>0</td>\n",
       "      <td>0</td>\n",
       "      <td>0</td>\n",
       "      <td>0</td>\n",
       "      <td>1</td>\n",
       "      <td>0</td>\n",
       "      <td>0</td>\n",
       "      <td>0</td>\n",
       "      <td>0</td>\n",
       "    </tr>\n",
       "  </tbody>\n",
       "</table>\n",
       "<p>5 rows × 60 columns</p>\n",
       "</div>"
      ],
      "text/plain": [
       "        user_id  product_id  user_product__total_orders  \\\n",
       "192750   171340       17634                   -0.410002   \n",
       "324512   118361       28814                   -0.410002   \n",
       "202041   205277        4347                   -0.117961   \n",
       "58888      5114       13231                   -0.410002   \n",
       "21173    162788         196                    0.758161   \n",
       "\n",
       "        user_product__add_to_cart_order_mean  user_product__reordered_mean  \\\n",
       "192750                             -1.031158                     -0.780757   \n",
       "324512                             -0.469145                     -0.780757   \n",
       "202041                             -0.539396                      0.693641   \n",
       "58888                               0.233372                     -0.780757   \n",
       "21173                              -0.216239                      1.578280   \n",
       "\n",
       "        user_product__hod_mode  product__total_orders  \\\n",
       "192750               -0.161274              -0.348820   \n",
       "324512               -0.636065              -0.402316   \n",
       "202041               -1.110856              -0.336011   \n",
       "58888                 0.076122              -0.377451   \n",
       "21173                 1.025705               0.234363   \n",
       "\n",
       "        product__add_to_cart_order_mean  product__total_users  \\\n",
       "192750                         0.522912             -0.422234   \n",
       "324512                        -1.684523             -0.543701   \n",
       "202041                        -0.392082             -0.415293   \n",
       "58888                          1.155115             -0.439586   \n",
       "21173                         -1.761875              0.133046   \n",
       "\n",
       "        product__reordered_mean  ...  4  5  6  0  1  2  3  4  5  6  \n",
       "192750                -0.140398  ...  0  0  0  0  0  0  1  0  0  0  \n",
       "324512                -1.399124  ...  1  0  0  0  0  0  0  0  1  0  \n",
       "202041                 0.194846  ...  0  0  0  0  0  0  1  0  0  0  \n",
       "58888                 -1.790680  ...  0  0  1  1  0  0  0  0  0  0  \n",
       "21173                  1.231984  ...  0  0  0  0  0  1  0  0  0  0  \n",
       "\n",
       "[5 rows x 60 columns]"
      ]
     },
     "execution_count": 1231,
     "metadata": {},
     "output_type": "execute_result"
    }
   ],
   "source": [
    "X_test.head()"
   ]
  },
  {
   "cell_type": "markdown",
   "metadata": {},
   "source": [
    "## 8. Modelling"
   ]
  },
  {
   "cell_type": "markdown",
   "metadata": {},
   "source": [
    "### 8.1 Model selection with Cross Validation (no hyperparameter)"
   ]
  },
  {
   "cell_type": "code",
   "execution_count": 1232,
   "metadata": {},
   "outputs": [],
   "source": [
    "X_train_2 = X_train.drop(['user_id', 'product_id'], axis=1)"
   ]
  },
  {
   "cell_type": "code",
   "execution_count": 1233,
   "metadata": {},
   "outputs": [],
   "source": [
    "classifiers = [\n",
    "    LogisticRegression(),\n",
    "    DecisionTreeClassifier(),\n",
    "    RandomForestClassifier(),\n",
    "    AdaBoostClassifier(),\n",
    "    GradientBoostingClassifier()]"
   ]
  },
  {
   "cell_type": "code",
   "execution_count": 1234,
   "metadata": {},
   "outputs": [],
   "source": [
    "# machine learning pipeline\n",
    "def build_ml_pipeline(classifier):\n",
    "    steps = list()\n",
    "    steps.append(('fillnan', SimpleImputer(missing_values=np.nan, strategy='constant', fill_value=0.0)))\n",
    "    steps.append(('downSample', RandomUnderSampler()))\n",
    "    steps.append(('model', classifier))\n",
    "    pipeline = Pipeline(steps=steps)\n",
    "    return pipeline\n",
    "      "
   ]
  },
  {
   "cell_type": "code",
   "execution_count": 1235,
   "metadata": {},
   "outputs": [
    {
     "name": "stdout",
     "output_type": "stream",
     "text": [
      "CPU times: user 2 µs, sys: 0 ns, total: 2 µs\n",
      "Wall time: 3.1 µs\n"
     ]
    },
    {
     "name": "stderr",
     "output_type": "stream",
     "text": [
      "/Users/songyarong/opt/anaconda3/lib/python3.8/site-packages/sklearn/linear_model/_logistic.py:762: ConvergenceWarning: lbfgs failed to converge (status=1):\n",
      "STOP: TOTAL NO. of ITERATIONS REACHED LIMIT.\n",
      "\n",
      "Increase the number of iterations (max_iter) or scale the data as shown in:\n",
      "    https://scikit-learn.org/stable/modules/preprocessing.html\n",
      "Please also refer to the documentation for alternative solver options:\n",
      "    https://scikit-learn.org/stable/modules/linear_model.html#logistic-regression\n",
      "  n_iter_i = _check_optimize_result(\n",
      "/Users/songyarong/opt/anaconda3/lib/python3.8/site-packages/sklearn/linear_model/_logistic.py:762: ConvergenceWarning: lbfgs failed to converge (status=1):\n",
      "STOP: TOTAL NO. of ITERATIONS REACHED LIMIT.\n",
      "\n",
      "Increase the number of iterations (max_iter) or scale the data as shown in:\n",
      "    https://scikit-learn.org/stable/modules/preprocessing.html\n",
      "Please also refer to the documentation for alternative solver options:\n",
      "    https://scikit-learn.org/stable/modules/linear_model.html#logistic-regression\n",
      "  n_iter_i = _check_optimize_result(\n",
      "/Users/songyarong/opt/anaconda3/lib/python3.8/site-packages/sklearn/linear_model/_logistic.py:762: ConvergenceWarning: lbfgs failed to converge (status=1):\n",
      "STOP: TOTAL NO. of ITERATIONS REACHED LIMIT.\n",
      "\n",
      "Increase the number of iterations (max_iter) or scale the data as shown in:\n",
      "    https://scikit-learn.org/stable/modules/preprocessing.html\n",
      "Please also refer to the documentation for alternative solver options:\n",
      "    https://scikit-learn.org/stable/modules/linear_model.html#logistic-regression\n",
      "  n_iter_i = _check_optimize_result(\n",
      "/Users/songyarong/opt/anaconda3/lib/python3.8/site-packages/sklearn/linear_model/_logistic.py:762: ConvergenceWarning: lbfgs failed to converge (status=1):\n",
      "STOP: TOTAL NO. of ITERATIONS REACHED LIMIT.\n",
      "\n",
      "Increase the number of iterations (max_iter) or scale the data as shown in:\n",
      "    https://scikit-learn.org/stable/modules/preprocessing.html\n",
      "Please also refer to the documentation for alternative solver options:\n",
      "    https://scikit-learn.org/stable/modules/linear_model.html#logistic-regression\n",
      "  n_iter_i = _check_optimize_result(\n"
     ]
    },
    {
     "name": "stdout",
     "output_type": "stream",
     "text": [
      "LogisticRegression() F1 score is 0.334 (0.00325)\n",
      "========\n",
      "CPU times: user 2 µs, sys: 0 ns, total: 2 µs\n",
      "Wall time: 3.1 µs\n",
      "DecisionTreeClassifier() F1 score is 0.250 (0.00294)\n",
      "========\n",
      "CPU times: user 2 µs, sys: 1e+03 ns, total: 3 µs\n",
      "Wall time: 3.1 µs\n",
      "RandomForestClassifier() F1 score is 0.341 (0.00315)\n",
      "========\n",
      "CPU times: user 1e+03 ns, sys: 0 ns, total: 1e+03 ns\n",
      "Wall time: 3.81 µs\n",
      "AdaBoostClassifier() F1 score is 0.337 (0.00258)\n",
      "========\n",
      "CPU times: user 1e+03 ns, sys: 0 ns, total: 1e+03 ns\n",
      "Wall time: 3.1 µs\n",
      "GradientBoostingClassifier() F1 score is 0.342 (0.00215)\n",
      "========\n"
     ]
    }
   ],
   "source": [
    "# cross_val_score: evaluate a score by cv\n",
    "for classifier in classifiers:\n",
    "    pipeline = build_ml_pipeline(classifier)\n",
    "    %time\n",
    "    scores = cross_val_score(pipeline, X_train_2, y_train, cv=5, scoring='f1')\n",
    "    print(classifier, 'F1 score is %.3f (%.3g)' % (np.mean(scores), np.std(scores)))\n",
    "    print('========')"
   ]
  },
  {
   "cell_type": "markdown",
   "metadata": {},
   "source": [
    "GradientBoostingClassifier performs better than others"
   ]
  },
  {
   "cell_type": "markdown",
   "metadata": {},
   "source": [
    "### 8.2 Feature importance\n",
    "GradientBoostingClassifier"
   ]
  },
  {
   "cell_type": "code",
   "execution_count": 1236,
   "metadata": {},
   "outputs": [
    {
     "data": {
      "text/plain": [
       "Pipeline(steps=[('fillnan', SimpleImputer(fill_value=0.0, strategy='constant')),\n",
       "                ('downSample', RandomUnderSampler()),\n",
       "                ('model', GradientBoostingClassifier())])"
      ]
     },
     "execution_count": 1236,
     "metadata": {},
     "output_type": "execute_result"
    }
   ],
   "source": [
    "pipeline = build_ml_pipeline(GradientBoostingClassifier())\n",
    "pipeline.fit(X_train_2, y_train)"
   ]
  },
  {
   "cell_type": "code",
   "execution_count": 1237,
   "metadata": {},
   "outputs": [],
   "source": [
    "importances = pipeline.steps[2][1].feature_importances_\n",
    "feature_names = X_train_2.columns.tolist()"
   ]
  },
  {
   "cell_type": "code",
   "execution_count": 1238,
   "metadata": {},
   "outputs": [],
   "source": [
    "df_importances = pd.DataFrame({\"features\": feature_names,\n",
    "                               \"importances\": importances}).sort_values(\"importances\", ascending=False)\n",
    "top18_features = df_importances.head(18)"
   ]
  },
  {
   "cell_type": "code",
   "execution_count": 1239,
   "metadata": {},
   "outputs": [
    {
     "data": {
      "text/html": [
       "<div>\n",
       "<style scoped>\n",
       "    .dataframe tbody tr th:only-of-type {\n",
       "        vertical-align: middle;\n",
       "    }\n",
       "\n",
       "    .dataframe tbody tr th {\n",
       "        vertical-align: top;\n",
       "    }\n",
       "\n",
       "    .dataframe thead th {\n",
       "        text-align: right;\n",
       "    }\n",
       "</style>\n",
       "<table border=\"1\" class=\"dataframe\">\n",
       "  <thead>\n",
       "    <tr style=\"text-align: right;\">\n",
       "      <th></th>\n",
       "      <th>features</th>\n",
       "      <th>importances</th>\n",
       "    </tr>\n",
       "  </thead>\n",
       "  <tbody>\n",
       "    <tr>\n",
       "      <th>0</th>\n",
       "      <td>user_product__total_orders</td>\n",
       "      <td>0.324610</td>\n",
       "    </tr>\n",
       "    <tr>\n",
       "      <th>11</th>\n",
       "      <td>user__total_orders</td>\n",
       "      <td>0.294465</td>\n",
       "    </tr>\n",
       "    <tr>\n",
       "      <th>2</th>\n",
       "      <td>user_product__reordered_mean</td>\n",
       "      <td>0.234105</td>\n",
       "    </tr>\n",
       "    <tr>\n",
       "      <th>7</th>\n",
       "      <td>product__reordered_mean</td>\n",
       "      <td>0.080163</td>\n",
       "    </tr>\n",
       "    <tr>\n",
       "      <th>14</th>\n",
       "      <td>user__reordered_mean</td>\n",
       "      <td>0.025158</td>\n",
       "    </tr>\n",
       "    <tr>\n",
       "      <th>4</th>\n",
       "      <td>product__total_orders</td>\n",
       "      <td>0.010025</td>\n",
       "    </tr>\n",
       "    <tr>\n",
       "      <th>12</th>\n",
       "      <td>user__total_product</td>\n",
       "      <td>0.005299</td>\n",
       "    </tr>\n",
       "    <tr>\n",
       "      <th>13</th>\n",
       "      <td>user__days_since_prior_order_mean</td>\n",
       "      <td>0.004167</td>\n",
       "    </tr>\n",
       "    <tr>\n",
       "      <th>9</th>\n",
       "      <td>product__days_since_prior_order_mean</td>\n",
       "      <td>0.003350</td>\n",
       "    </tr>\n",
       "    <tr>\n",
       "      <th>5</th>\n",
       "      <td>product__add_to_cart_order_mean</td>\n",
       "      <td>0.003002</td>\n",
       "    </tr>\n",
       "    <tr>\n",
       "      <th>28</th>\n",
       "      <td>13</td>\n",
       "      <td>0.002787</td>\n",
       "    </tr>\n",
       "    <tr>\n",
       "      <th>6</th>\n",
       "      <td>product__total_users</td>\n",
       "      <td>0.002503</td>\n",
       "    </tr>\n",
       "    <tr>\n",
       "      <th>1</th>\n",
       "      <td>user_product__add_to_cart_order_mean</td>\n",
       "      <td>0.001903</td>\n",
       "    </tr>\n",
       "    <tr>\n",
       "      <th>10</th>\n",
       "      <td>product__aisle_id</td>\n",
       "      <td>0.001304</td>\n",
       "    </tr>\n",
       "    <tr>\n",
       "      <th>15</th>\n",
       "      <td>user__hod_mode</td>\n",
       "      <td>0.001059</td>\n",
       "    </tr>\n",
       "    <tr>\n",
       "      <th>51</th>\n",
       "      <td>0</td>\n",
       "      <td>0.000709</td>\n",
       "    </tr>\n",
       "    <tr>\n",
       "      <th>3</th>\n",
       "      <td>user_product__hod_mode</td>\n",
       "      <td>0.000704</td>\n",
       "    </tr>\n",
       "    <tr>\n",
       "      <th>36</th>\n",
       "      <td>21</td>\n",
       "      <td>0.000695</td>\n",
       "    </tr>\n",
       "  </tbody>\n",
       "</table>\n",
       "</div>"
      ],
      "text/plain": [
       "                                features  importances\n",
       "0             user_product__total_orders     0.324610\n",
       "11                    user__total_orders     0.294465\n",
       "2           user_product__reordered_mean     0.234105\n",
       "7                product__reordered_mean     0.080163\n",
       "14                  user__reordered_mean     0.025158\n",
       "4                  product__total_orders     0.010025\n",
       "12                   user__total_product     0.005299\n",
       "13     user__days_since_prior_order_mean     0.004167\n",
       "9   product__days_since_prior_order_mean     0.003350\n",
       "5        product__add_to_cart_order_mean     0.003002\n",
       "28                                    13     0.002787\n",
       "6                   product__total_users     0.002503\n",
       "1   user_product__add_to_cart_order_mean     0.001903\n",
       "10                     product__aisle_id     0.001304\n",
       "15                        user__hod_mode     0.001059\n",
       "51                                     0     0.000709\n",
       "3                 user_product__hod_mode     0.000704\n",
       "36                                    21     0.000695"
      ]
     },
     "execution_count": 1239,
     "metadata": {},
     "output_type": "execute_result"
    }
   ],
   "source": [
    "top18_features"
   ]
  },
  {
   "cell_type": "markdown",
   "metadata": {},
   "source": [
    "### 8.3 Neural Network"
   ]
  },
  {
   "cell_type": "code",
   "execution_count": 1240,
   "metadata": {},
   "outputs": [],
   "source": [
    "import torch"
   ]
  },
  {
   "cell_type": "markdown",
   "metadata": {},
   "source": [
    "### 8.4 Hyper-parameter tuning for GradientBoostingClassifier\n",
    "Use the top 20 important features"
   ]
  },
  {
   "cell_type": "code",
   "execution_count": 1241,
   "metadata": {},
   "outputs": [],
   "source": [
    "# Use the top 18 important features\n",
    "df_train = pd.concat([X_train, y_train], axis=1)\n",
    "sample_user_ids = df_train.user_id.drop_duplicates().sample(frac=0.1)\n",
    "df_train_sample = df_train[df_train.user_id.isin(sample_user_ids)]\n",
    "X_train_3 = df_train_sample[top18_features['features']]\n",
    "y_train_3 = df_train_sample['label']"
   ]
  },
  {
   "cell_type": "code",
   "execution_count": 1242,
   "metadata": {},
   "outputs": [
    {
     "data": {
      "text/plain": [
       "(27972, 20)"
      ]
     },
     "execution_count": 1242,
     "metadata": {},
     "output_type": "execute_result"
    }
   ],
   "source": [
    "X_train_3.shape"
   ]
  },
  {
   "cell_type": "code",
   "execution_count": 1243,
   "metadata": {},
   "outputs": [
    {
     "data": {
      "text/plain": [
       "(27972,)"
      ]
     },
     "execution_count": 1243,
     "metadata": {},
     "output_type": "execute_result"
    }
   ],
   "source": [
    "y_train_3.shape"
   ]
  },
  {
   "cell_type": "code",
   "execution_count": 1244,
   "metadata": {},
   "outputs": [],
   "source": [
    "para_grid = {\n",
    "    'model__n_estimators': [100, 150],\n",
    "    'model__max_depth': [4, 6],\n",
    "    'model__min_samples_split': [2, 4, 6],\n",
    "    'model__learning_rate': [0.005, 0.01]}"
   ]
  },
  {
   "cell_type": "code",
   "execution_count": 1245,
   "metadata": {},
   "outputs": [
    {
     "data": {
      "text/plain": [
       "GridSearchCV(cv=5,\n",
       "             estimator=Pipeline(steps=[('fillnan',\n",
       "                                        SimpleImputer(fill_value=0.0,\n",
       "                                                      strategy='constant')),\n",
       "                                       ('downSample', RandomUnderSampler()),\n",
       "                                       ('model',\n",
       "                                        GradientBoostingClassifier())]),\n",
       "             param_grid={'model__learning_rate': [0.005, 0.01],\n",
       "                         'model__max_depth': [4, 6],\n",
       "                         'model__min_samples_split': [2, 4, 6],\n",
       "                         'model__n_estimators': [100, 150]},\n",
       "             scoring='f1')"
      ]
     },
     "execution_count": 1245,
     "metadata": {},
     "output_type": "execute_result"
    }
   ],
   "source": [
    "Grid_GBM = GridSearchCV(build_ml_pipeline(GradientBoostingClassifier()), para_grid, cv=5, scoring='f1')\n",
    "Grid_GBM.fit(X_train_3, y_train_3)"
   ]
  },
  {
   "cell_type": "code",
   "execution_count": 1246,
   "metadata": {},
   "outputs": [
    {
     "name": "stdout",
     "output_type": "stream",
     "text": [
      "Best F1 value is 0.356\n",
      "Params are {'model__learning_rate': 0.005, 'model__max_depth': 4, 'model__min_samples_split': 6, 'model__n_estimators': 150}\n"
     ]
    }
   ],
   "source": [
    "# Best score and parameters\n",
    "print(\"Best F1 value is %.3f\" % Grid_GBM.best_score_)\n",
    "print(\"Params are %s\" % Grid_GBM.best_params_)"
   ]
  },
  {
   "cell_type": "code",
   "execution_count": 1247,
   "metadata": {},
   "outputs": [],
   "source": [
    "best_GBM = Grid_GBM.best_estimator_"
   ]
  },
  {
   "cell_type": "markdown",
   "metadata": {},
   "source": [
    "### 8.5 Train the final GradientBoostingClassifier"
   ]
  },
  {
   "cell_type": "code",
   "execution_count": 1248,
   "metadata": {},
   "outputs": [
    {
     "data": {
      "text/plain": [
       "Pipeline(steps=[('fillnan', SimpleImputer(fill_value=0.0, strategy='constant')),\n",
       "                ('downSample', RandomUnderSampler()),\n",
       "                ('model',\n",
       "                 GradientBoostingClassifier(learning_rate=0.01, max_depth=4,\n",
       "                                            n_estimators=150))])"
      ]
     },
     "execution_count": 1248,
     "metadata": {},
     "output_type": "execute_result"
    }
   ],
   "source": [
    "pipeline = build_ml_pipeline(GradientBoostingClassifier(n_estimators=150, max_depth=4, min_samples_split=2, learning_rate=0.01))\n",
    "pipeline.fit(X_train_2[top18_features['features']], y_train)"
   ]
  },
  {
   "cell_type": "code",
   "execution_count": 1249,
   "metadata": {},
   "outputs": [
    {
     "data": {
      "text/html": [
       "<div>\n",
       "<style scoped>\n",
       "    .dataframe tbody tr th:only-of-type {\n",
       "        vertical-align: middle;\n",
       "    }\n",
       "\n",
       "    .dataframe tbody tr th {\n",
       "        vertical-align: top;\n",
       "    }\n",
       "\n",
       "    .dataframe thead th {\n",
       "        text-align: right;\n",
       "    }\n",
       "</style>\n",
       "<table border=\"1\" class=\"dataframe\">\n",
       "  <thead>\n",
       "    <tr style=\"text-align: right;\">\n",
       "      <th></th>\n",
       "      <th>features</th>\n",
       "      <th>importances</th>\n",
       "    </tr>\n",
       "  </thead>\n",
       "  <tbody>\n",
       "    <tr>\n",
       "      <th>2</th>\n",
       "      <td>user_product__reordered_mean</td>\n",
       "      <td>0.336723</td>\n",
       "    </tr>\n",
       "    <tr>\n",
       "      <th>0</th>\n",
       "      <td>user_product__total_orders</td>\n",
       "      <td>0.301056</td>\n",
       "    </tr>\n",
       "    <tr>\n",
       "      <th>1</th>\n",
       "      <td>user__total_orders</td>\n",
       "      <td>0.288524</td>\n",
       "    </tr>\n",
       "    <tr>\n",
       "      <th>3</th>\n",
       "      <td>product__reordered_mean</td>\n",
       "      <td>0.056794</td>\n",
       "    </tr>\n",
       "    <tr>\n",
       "      <th>5</th>\n",
       "      <td>product__total_orders</td>\n",
       "      <td>0.006387</td>\n",
       "    </tr>\n",
       "    <tr>\n",
       "      <th>10</th>\n",
       "      <td>13</td>\n",
       "      <td>0.003107</td>\n",
       "    </tr>\n",
       "    <tr>\n",
       "      <th>4</th>\n",
       "      <td>user__reordered_mean</td>\n",
       "      <td>0.002699</td>\n",
       "    </tr>\n",
       "    <tr>\n",
       "      <th>7</th>\n",
       "      <td>user__days_since_prior_order_mean</td>\n",
       "      <td>0.002077</td>\n",
       "    </tr>\n",
       "    <tr>\n",
       "      <th>6</th>\n",
       "      <td>user__total_product</td>\n",
       "      <td>0.001221</td>\n",
       "    </tr>\n",
       "    <tr>\n",
       "      <th>11</th>\n",
       "      <td>product__total_users</td>\n",
       "      <td>0.001163</td>\n",
       "    </tr>\n",
       "    <tr>\n",
       "      <th>9</th>\n",
       "      <td>product__add_to_cart_order_mean</td>\n",
       "      <td>0.000118</td>\n",
       "    </tr>\n",
       "    <tr>\n",
       "      <th>8</th>\n",
       "      <td>product__days_since_prior_order_mean</td>\n",
       "      <td>0.000113</td>\n",
       "    </tr>\n",
       "    <tr>\n",
       "      <th>14</th>\n",
       "      <td>user__hod_mode</td>\n",
       "      <td>0.000018</td>\n",
       "    </tr>\n",
       "    <tr>\n",
       "      <th>12</th>\n",
       "      <td>user_product__add_to_cart_order_mean</td>\n",
       "      <td>0.000000</td>\n",
       "    </tr>\n",
       "    <tr>\n",
       "      <th>13</th>\n",
       "      <td>product__aisle_id</td>\n",
       "      <td>0.000000</td>\n",
       "    </tr>\n",
       "    <tr>\n",
       "      <th>15</th>\n",
       "      <td>0</td>\n",
       "      <td>0.000000</td>\n",
       "    </tr>\n",
       "    <tr>\n",
       "      <th>16</th>\n",
       "      <td>0</td>\n",
       "      <td>0.000000</td>\n",
       "    </tr>\n",
       "    <tr>\n",
       "      <th>17</th>\n",
       "      <td>0</td>\n",
       "      <td>0.000000</td>\n",
       "    </tr>\n",
       "  </tbody>\n",
       "</table>\n",
       "</div>"
      ],
      "text/plain": [
       "                                features  importances\n",
       "2           user_product__reordered_mean     0.336723\n",
       "0             user_product__total_orders     0.301056\n",
       "1                     user__total_orders     0.288524\n",
       "3                product__reordered_mean     0.056794\n",
       "5                  product__total_orders     0.006387\n",
       "10                                    13     0.003107\n",
       "4                   user__reordered_mean     0.002699\n",
       "7      user__days_since_prior_order_mean     0.002077\n",
       "6                    user__total_product     0.001221\n",
       "11                  product__total_users     0.001163\n",
       "9        product__add_to_cart_order_mean     0.000118\n",
       "8   product__days_since_prior_order_mean     0.000113\n",
       "14                        user__hod_mode     0.000018\n",
       "12  user_product__add_to_cart_order_mean     0.000000\n",
       "13                     product__aisle_id     0.000000\n",
       "15                                     0     0.000000\n",
       "16                                     0     0.000000\n",
       "17                                     0     0.000000"
      ]
     },
     "execution_count": 1249,
     "metadata": {},
     "output_type": "execute_result"
    }
   ],
   "source": [
    "importances = pipeline.steps[2][1].feature_importances_\n",
    "feature_names = X_train_2[top18_features['features']].columns.tolist()\n",
    "df_importances = pd.DataFrame({\"features\": feature_names,\n",
    "                               \"importances\": importances}).sort_values(\"importances\", ascending=False)\n",
    "df_importances.head(18)"
   ]
  },
  {
   "cell_type": "markdown",
   "metadata": {},
   "source": [
    "## 9. Model Evaluation"
   ]
  },
  {
   "cell_type": "markdown",
   "metadata": {},
   "source": [
    "### 9.1 Predict product reorder on Test data"
   ]
  },
  {
   "cell_type": "code",
   "execution_count": 1250,
   "metadata": {},
   "outputs": [],
   "source": [
    "X_test_2 = X_test[top18_features['features']]"
   ]
  },
  {
   "cell_type": "code",
   "execution_count": 1251,
   "metadata": {},
   "outputs": [],
   "source": [
    "predict_y = pipeline.predict(X_test_2)"
   ]
  },
  {
   "cell_type": "code",
   "execution_count": 1252,
   "metadata": {},
   "outputs": [],
   "source": [
    "df_test_output = pd.DataFrame({'user_id': X_test.user_id, \n",
    "                               'product_id': X_test.product_id,\n",
    "                               'predict': predict_y,\n",
    "                               'label': y_test})"
   ]
  },
  {
   "cell_type": "code",
   "execution_count": 1253,
   "metadata": {},
   "outputs": [
    {
     "data": {
      "text/html": [
       "<div>\n",
       "<style scoped>\n",
       "    .dataframe tbody tr th:only-of-type {\n",
       "        vertical-align: middle;\n",
       "    }\n",
       "\n",
       "    .dataframe tbody tr th {\n",
       "        vertical-align: top;\n",
       "    }\n",
       "\n",
       "    .dataframe thead th {\n",
       "        text-align: right;\n",
       "    }\n",
       "</style>\n",
       "<table border=\"1\" class=\"dataframe\">\n",
       "  <thead>\n",
       "    <tr style=\"text-align: right;\">\n",
       "      <th></th>\n",
       "      <th>user_id</th>\n",
       "      <th>product_id</th>\n",
       "      <th>predict</th>\n",
       "      <th>label</th>\n",
       "    </tr>\n",
       "  </thead>\n",
       "  <tbody>\n",
       "    <tr>\n",
       "      <th>192750</th>\n",
       "      <td>171340</td>\n",
       "      <td>17634</td>\n",
       "      <td>0</td>\n",
       "      <td>0</td>\n",
       "    </tr>\n",
       "    <tr>\n",
       "      <th>324512</th>\n",
       "      <td>118361</td>\n",
       "      <td>28814</td>\n",
       "      <td>0</td>\n",
       "      <td>0</td>\n",
       "    </tr>\n",
       "    <tr>\n",
       "      <th>202041</th>\n",
       "      <td>205277</td>\n",
       "      <td>4347</td>\n",
       "      <td>1</td>\n",
       "      <td>0</td>\n",
       "    </tr>\n",
       "    <tr>\n",
       "      <th>58888</th>\n",
       "      <td>5114</td>\n",
       "      <td>13231</td>\n",
       "      <td>0</td>\n",
       "      <td>0</td>\n",
       "    </tr>\n",
       "    <tr>\n",
       "      <th>21173</th>\n",
       "      <td>162788</td>\n",
       "      <td>196</td>\n",
       "      <td>1</td>\n",
       "      <td>0</td>\n",
       "    </tr>\n",
       "  </tbody>\n",
       "</table>\n",
       "</div>"
      ],
      "text/plain": [
       "        user_id  product_id  predict  label\n",
       "192750   171340       17634        0      0\n",
       "324512   118361       28814        0      0\n",
       "202041   205277        4347        1      0\n",
       "58888      5114       13231        0      0\n",
       "21173    162788         196        1      0"
      ]
     },
     "execution_count": 1253,
     "metadata": {},
     "output_type": "execute_result"
    }
   ],
   "source": [
    "df_test_output.head()"
   ]
  },
  {
   "cell_type": "markdown",
   "metadata": {},
   "source": [
    "### 9.2 Evaluation\n",
    "confusion matrix; accuracy; precision; recall; f1; auc  "
   ]
  },
  {
   "cell_type": "markdown",
   "metadata": {},
   "source": [
    "#### 9.2.1 Plot confusion matrix"
   ]
  },
  {
   "cell_type": "code",
   "execution_count": 1254,
   "metadata": {
    "scrolled": true
   },
   "outputs": [
    {
     "data": {
      "text/plain": [
       "<sklearn.metrics._plot.confusion_matrix.ConfusionMatrixDisplay at 0x7fa626277b20>"
      ]
     },
     "execution_count": 1254,
     "metadata": {},
     "output_type": "execute_result"
    },
    {
     "data": {
      "image/png": "[encoded data removed]",
      "text/plain": [
       "<Figure size 432x288 with 2 Axes>"
      ]
     },
     "metadata": {
      "needs_background": "light"
     },
     "output_type": "display_data"
    }
   ],
   "source": [
    "# Confusion matrix\n",
    "plot_confusion_matrix(pipeline, X_test_2, y_test,\n",
    "                      display_labels=[\"not reorder\",\"reorder\"],cmap=plt.cm.Oranges)"
   ]
  },
  {
   "cell_type": "markdown",
   "metadata": {},
   "source": [
    "#### 9.2.2 Acuracy, f1, precision, recall"
   ]
  },
  {
   "cell_type": "code",
   "execution_count": 1255,
   "metadata": {},
   "outputs": [],
   "source": [
    "# Method 1\n",
    "acc = accuracy_score(y_test, predict_y)\n",
    "f1 = f1_score(y_test, predict_y)\n",
    "pre = precision_score(y_test, predict_y)\n",
    "rec = recall_score(y_test, predict_y)"
   ]
  },
  {
   "cell_type": "code",
   "execution_count": 1256,
   "metadata": {},
   "outputs": [
    {
     "name": "stdout",
     "output_type": "stream",
     "text": [
      "Model evaluation result on test data: \n",
      "F1 Score : 33.9005%\n",
      "Precision : 22.5363%\n",
      "Accuracy : 74.0290%\n",
      "Recall : 68.3842%\n"
     ]
    }
   ],
   "source": [
    "print(\"Model evaluation result on test data: \")\n",
    "print(\"F1 Score : {:.4%}\".format(f1))\n",
    "print(\"Precision : {:.4%}\".format(pre))\n",
    "print(\"Accuracy : {:.4%}\".format(acc))\n",
    "print(\"Recall : {:.4%}\".format(rec))"
   ]
  },
  {
   "cell_type": "code",
   "execution_count": 1257,
   "metadata": {},
   "outputs": [],
   "source": [
    "# Method 2\n",
    "#UDF: calculate accuracy, precision, recall, F1 score\n",
    "def draw_confusion_matrices(confusion_matrices):\n",
    "    for cm in confusion_matrices:\n",
    "        classifier, cm = cm[0], cm[1]\n",
    "        cal_evaluation(classifier, cm)\n",
    "\n",
    "def cal_evaluation(classifier, cm):\n",
    "    tn = cm[0][0]\n",
    "    fp = cm[0][1]\n",
    "    fn = cm[1][0]\n",
    "    tp = cm[1][1]\n",
    "    accuracy = (tn + tp)/(tn + fn + tp + fp + 0.0)\n",
    "    precision = tp/(tp + fp + 0.0)\n",
    "    recall = tp/(tp + fn + 0.0)\n",
    "    f1 = 2/(1/recall + 1/precision + 0.0)\n",
    "    print(classifier)\n",
    "    print('Accuracy is: ' + str(accuracy))\n",
    "    print('Precision is: ' + str(precision))\n",
    "    print('Recall is: ' + str(recall))\n",
    "    print('F1 score is: ' + str(f1))\n",
    "    print()"
   ]
  },
  {
   "cell_type": "code",
   "execution_count": 1258,
   "metadata": {},
   "outputs": [],
   "source": [
    "confusion_matrices = [('GradientBoostingClassifier', confusion_matrix(y_test,predict_y))]"
   ]
  },
  {
   "cell_type": "code",
   "execution_count": 1259,
   "metadata": {
    "scrolled": true
   },
   "outputs": [
    {
     "name": "stdout",
     "output_type": "stream",
     "text": [
      "GradientBoostingClassifier\n",
      "Accuracy is: 0.7402898638610109\n",
      "Precision is: 0.22536295080285232\n",
      "Recall is: 0.6838418430884184\n",
      "F1 score is: 0.339005286105645\n",
      "\n"
     ]
    }
   ],
   "source": [
    "draw_confusion_matrices(confusion_matrices)"
   ]
  },
  {
   "cell_type": "markdown",
   "metadata": {},
   "source": [
    "#### 9.2.3 ROC & AUC"
   ]
  },
  {
   "cell_type": "markdown",
   "metadata": {},
   "source": [
    "Method 1"
   ]
  },
  {
   "cell_type": "code",
   "execution_count": 1260,
   "metadata": {},
   "outputs": [],
   "source": [
    "# Use predict_proba to get the probability results of GBM\n",
    "# the probability or predicting positive\n",
    "predict_y_prob = pipeline.predict_proba(X_test_2)[:,1] "
   ]
  },
  {
   "cell_type": "code",
   "execution_count": 1261,
   "metadata": {},
   "outputs": [
    {
     "data": {
      "text/plain": [
       "(65962,)"
      ]
     },
     "execution_count": 1261,
     "metadata": {},
     "output_type": "execute_result"
    }
   ],
   "source": [
    "predict_y_prob.shape"
   ]
  },
  {
   "cell_type": "code",
   "execution_count": 1262,
   "metadata": {},
   "outputs": [
    {
     "data": {
      "text/plain": [
       "(65962,)"
      ]
     },
     "execution_count": 1262,
     "metadata": {},
     "output_type": "execute_result"
    }
   ],
   "source": [
    "y_test.shape"
   ]
  },
  {
   "cell_type": "code",
   "execution_count": 1263,
   "metadata": {},
   "outputs": [],
   "source": [
    "# Calculate false positive rate, true positive rate\n",
    "fpr_lr, tpr_lr, _ = roc_curve(y_test, predict_y_prob)"
   ]
  },
  {
   "cell_type": "code",
   "execution_count": 1264,
   "metadata": {},
   "outputs": [
    {
     "data": {
      "image/png": "[encoded data removed]",
      "text/plain": [
       "<Figure size 432x288 with 1 Axes>"
      ]
     },
     "metadata": {
      "needs_background": "light"
     },
     "output_type": "display_data"
    }
   ],
   "source": [
    "# ROC curve\n",
    "plt.figure(1)\n",
    "plt.plot([0,1], [0,1], 'r--')\n",
    "plt.plot(fpr_lr, tpr_lr, label='GBM')\n",
    "plt.xlabel('False positive rate')\n",
    "plt.ylabel('True positive rate')\n",
    "plt.title('ROC curve - GradientBoostingClassifier model')\n",
    "plt.legend()\n",
    "plt.show()"
   ]
  },
  {
   "cell_type": "code",
   "execution_count": 1265,
   "metadata": {},
   "outputs": [
    {
     "data": {
      "text/plain": [
       "0.7919460190603387"
      ]
     },
     "execution_count": 1265,
     "metadata": {},
     "output_type": "execute_result"
    }
   ],
   "source": [
    "# AUC score\n",
    "metrics.auc(fpr_lr, tpr_lr)"
   ]
  },
  {
   "cell_type": "markdown",
   "metadata": {},
   "source": [
    "Method 2"
   ]
  },
  {
   "cell_type": "code",
   "execution_count": 1266,
   "metadata": {},
   "outputs": [
    {
     "name": "stdout",
     "output_type": "stream",
     "text": [
      "ROC AUC : 79.1946%\n"
     ]
    }
   ],
   "source": [
    "auc = roc_auc_score(y_test, predict_y_prob)\n",
    "print(\"ROC AUC : {:.4%}\".format(auc))"
   ]
  }
 ],
 "metadata": {
  "kernelspec": {
   "display_name": "Python 3 (ipykernel)",
   "language": "python",
   "name": "python3"
  },
  "language_info": {
   "codemirror_mode": {
    "name": "ipython",
    "version": 3
   },
   "file_extension": ".py",
   "mimetype": "text/x-python",
   "name": "python",
   "nbconvert_exporter": "python",
   "pygments_lexer": "ipython3",
   "version": "3.9.12"
  },
  "toc": {
   "base_numbering": 1,
   "nav_menu": {},
   "number_sections": false,
   "sideBar": true,
   "skip_h1_title": false,
   "title_cell": "Table of Contents",
   "title_sidebar": "Contents",
   "toc_cell": false,
   "toc_position": {
    "height": "calc(100% - 180px)",
    "left": "10px",
    "top": "150px",
    "width": "263.984px"
   },
   "toc_section_display": true,
   "toc_window_display": true
  }
 },
 "nbformat": 4,
 "nbformat_minor": 4
}
